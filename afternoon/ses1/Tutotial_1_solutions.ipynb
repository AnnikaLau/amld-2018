{
 "cells": [
  {
   "cell_type": "markdown",
   "metadata": {},
   "source": [
    "# Tutorial 1\n",
    "\n",
    "In this session, we will look at the wikileaks dataset and learn how to start gathering statistics about the dataset, preprocess the emails and extract useful information.\n",
    "\n",
    "https://en.wikipedia.org/wiki/2016_Democratic_National_Committee_email_leak\n",
    "https://wikileaks.org/dnc-emails/\n",
    "\n",
    "## DNC emails\n",
    "\n",
    "Around 40 000 emails leaked from DNC, around 1000 distinct users.\n",
    "\n",
    "I give you an already pre-processed dataset in .json, where the emails are a bit cleaned and put into a 'nice' structure. If you are interested in the process of crawling + generating this file, find me later or watch the repository: https://github.com/hanveiga/nlp-amld-2018"
   ]
  },
  {
   "cell_type": "markdown",
   "metadata": {},
   "source": [
    "## Loading JSON file\n",
    "\n",
    "In the folder you will find a json file."
   ]
  },
  {
   "cell_type": "code",
   "execution_count": 153,
   "metadata": {},
   "outputs": [],
   "source": [
    "import pandas as pd\n",
    "\n",
    "path_data = '../../data/clean_json.json'\n",
    "\n",
    "def load_json_data(path_to_file):\n",
    "    data_DF = pd.read_json(path_to_file,encoding='ascii')\n",
    "    data_DF['from'] = data_DF['from'].str.lower()\n",
    "    data_DF['body'] = data_DF['body'].apply(lambda x: \" \".join(str(x).split()))\n",
    "    return data_DF #[0:12000]\n",
    "\n",
    "# I did this to speed up the computation a bit, you should play with this later, using the full dataset!\n",
    "# return data_DF"
   ]
  },
  {
   "cell_type": "markdown",
   "metadata": {},
   "source": [
    "Loading dataset from data folder"
   ]
  },
  {
   "cell_type": "code",
   "execution_count": 154,
   "metadata": {},
   "outputs": [],
   "source": [
    "data = load_json_data(path_data)"
   ]
  },
  {
   "cell_type": "markdown",
   "metadata": {},
   "source": [
    "Defining the Dataset object"
   ]
  },
  {
   "cell_type": "code",
   "execution_count": 155,
   "metadata": {
    "collapsed": true
   },
   "outputs": [],
   "source": [
    "from collections import defaultdict, Counter\n",
    "from nltk.corpus import stopwords\n",
    "from matplotlib import pyplot as plt\n",
    "import string\n",
    "\n",
    "stop_words_list = stopwords.words('english') + list(string.punctuation) #TODO: add other words?\n",
    "\n",
    "class Dataset(object):\n",
    "    def __init__(self, dataframe):\n",
    "        self.data = dataframe\n",
    "        self.user_emails = list(set(self.data['from']))\n",
    "        self._generate_email2name()\n",
    "        self.get_total_vocabulary()\n",
    "        self.word_count = Counter()\n",
    "        self.stop_words_list = stop_words_list\n",
    "        \n",
    "\n",
    "    def _generate_email2name(self):\n",
    "        self.EMAIL2NAME = defaultdict(list) # in case there are aliases\n",
    "        user_emails = self.data['from']\n",
    "        user_names = self.data['from_name']\n",
    "        receivers = self.data['to']\n",
    "        for email, name in zip(list(user_emails),list(user_names)):\n",
    "            email = email.lower()\n",
    "            name = name.replace('\"','')\n",
    "            if name not in self.EMAIL2NAME[email]:\n",
    "                self.EMAIL2NAME[email].append(name)\n",
    "\n",
    "        receivers_emails = []\n",
    "        for receiver in list(receivers):\n",
    "            for name, email in receiver:\n",
    "                email = email.lower()\n",
    "                name = name.replace('\"','')\n",
    "                if name not in self.EMAIL2NAME[email]:\n",
    "                    self.EMAIL2NAME[email].append(name)\n",
    "\n",
    "    def get_top_spammers(self, ntop=9999):\n",
    "        print(\"Count \\t Email \\t \\t \\t Name\")\n",
    "        list_spammers = []\n",
    "        printout = 0\n",
    "        for a in self.data.groupby(self.data['from'])['from'].count()\\\n",
    "                                        .reset_index(name='count') \\\n",
    "                                        .sort_values(['count'], ascending=False)\\\n",
    "                                        .iterrows():\n",
    "                _, email = a\n",
    "                if printout < ntop:\n",
    "                    print(\"%i \\t %s \\t %s\" %(email['count'],email['from'],self.EMAIL2NAME[email['from']][0]))\n",
    "                    printout += 1\n",
    "                    list_spammers.append([email['count'],email['from'],self.EMAIL2NAME[email['from']][0]])\n",
    "        return list_spammers\n",
    "            \n",
    "    def get_total_vocabulary(self):\n",
    "        #returns a dict of emails and their respective vocab\n",
    "        self.vocabulary = self.data['body'].str.cat(sep=' ') + self.data['subject'].str.cat(sep=' ')\n",
    "        return self.vocabulary\n",
    "    \n",
    "    def get_vocabulary_count(self,stop_words=False):\n",
    "        if stop_words:\n",
    "            self.word_count = Counter([x for x in self.vocabulary.split(' ') if x not in self.stop_words_list])\n",
    "        else:\n",
    "            self.word_count = Counter([x for x in self.vocabulary.split(' ')])\n",
    "        return self.word_count\n",
    "    \n",
    "    def get_top_words(self,stop_words=False):\n",
    "        if len(self.word_count.keys())==0:\n",
    "            self.get_vocabulary_count(stop_words=stop_words)\n",
    "        print('Word \\t Count')\n",
    "        for a,b in self.word_count.most_common(20):\n",
    "            print('%s \\t %i)' %(a, b))\n",
    "        return self.word_count.most_common(20)\n",
    "        \n",
    "    def generate_reduced_dataset(self, list_of_users):\n",
    "        pass\n",
    "        #returns a smaller dataframe"
   ]
  },
  {
   "cell_type": "markdown",
   "metadata": {},
   "source": [
    "Let's explore this dataset a bit.\n",
    "\n",
    "1. For example, who sends out most emails?"
   ]
  },
  {
   "cell_type": "code",
   "execution_count": 156,
   "metadata": {},
   "outputs": [],
   "source": [
    "# Initiate the dataset\n",
    "DataObject = Dataset(data)\n",
    "\n",
    "# TODO:\n",
    "# tab = DataObject.get_top_spammers(ntop=...)\n"
   ]
  },
  {
   "cell_type": "markdown",
   "metadata": {},
   "source": [
    "2. Which words are most common?\n",
    "\n",
    "In particular, how can we improve the output of question 2 (if the most common words aren't particularly interesting?)"
   ]
  },
  {
   "cell_type": "code",
   "execution_count": 157,
   "metadata": {},
   "outputs": [
    {
     "name": "stdout",
     "output_type": "stream",
     "text": [
      "Word \t Count\n",
      "the \t 582792)\n",
      "to \t 411832)\n",
      "of \t 286168)\n",
      "and \t 285184)\n",
      "a \t 251727)\n",
      "in \t 212081)\n",
      "that \t 159347)\n",
      "for \t 148611)\n",
      "on \t 141931)\n",
      "is \t 126653)\n",
      "Trump \t 111331)\n",
      "- \t 93388)\n",
      "with \t 88619)\n",
      "I \t 81842)\n",
      "he \t 75887)\n",
      "have \t 75697)\n",
      "be \t 75553)\n",
      "at \t 74138)\n",
      "PM \t 73430)\n",
      "his \t 69326)\n"
     ]
    }
   ],
   "source": [
    "word_count = DataObject.get_top_words()"
   ]
  },
  {
   "cell_type": "markdown",
   "metadata": {},
   "source": [
    "That doesn't seem very relevant... How can we find more relevant words?\n",
    "\n",
    "Hint:\n",
    "Try modifing \n",
    "\n",
    "~~~\n",
    "stop_words_list = stopwords.words('english') + list(string.punctuation) \n",
    "~~~"
   ]
  },
  {
   "cell_type": "code",
   "execution_count": 158,
   "metadata": {},
   "outputs": [
    {
     "name": "stdout",
     "output_type": "stream",
     "text": [
      "Word \t Count\n",
      "Trump \t 111331)\n",
      "I \t 81842)\n",
      "PM \t 73430)\n",
      "2016 \t 67980)\n",
      "The \t 66008)\n",
      "· \t 53101)\n",
      "May \t 52171)\n",
      "Subject: \t 46889)\n",
      "From: \t 46479)\n",
      "Democratic \t 46336)\n",
      "To: \t 46042)\n",
      "Sent: \t 45427)\n",
      "would \t 43856)\n",
      "Donald \t 42110)\n",
      "– \t 40382)\n",
      "said \t 39250)\n",
      "RE: \t 36435)\n",
      "Republican \t 36106)\n",
      "National \t 33004)\n",
      "-- \t 32753)\n"
     ]
    }
   ],
   "source": [
    "# Initiate the dataset again\n",
    "DataObject.get_vocabulary_count(stop_words=True)\n",
    "word_count = DataObject.get_top_words()"
   ]
  },
  {
   "cell_type": "markdown",
   "metadata": {},
   "source": [
    "Try extending the stop_words_list by\n",
    "~~~\n",
    "DataObject.stop_words_list = stop_words_list + ...\n",
    "~~~"
   ]
  },
  {
   "cell_type": "code",
   "execution_count": 142,
   "metadata": {},
   "outputs": [
    {
     "name": "stdout",
     "output_type": "stream",
     "text": [
      "Word \t Count\n",
      "Trump \t 25733)\n",
      "I \t 22574)\n",
      "– \t 19457)\n",
      "The \t 18198)\n",
      "2016 \t 17798)\n",
      "Democratic \t 16978)\n",
      "May \t 14464)\n",
      "· \t 13100)\n",
      "would \t 12978)\n",
      "From: \t 11408)\n",
      "Subject: \t 11260)\n",
      "said \t 11206)\n",
      "To: \t 11093)\n",
      "Donald \t 10994)\n",
      "Republican \t 10977)\n",
      "Sent: \t 10761)\n",
      "National \t 10471)\n",
      "RE: \t 8273)\n",
      "And \t 8017)\n",
      "PM \t 7932)\n"
     ]
    }
   ],
   "source": [
    "DataObject.stop_words_list = stop_words_list + []\n",
    "DataObject.get_vocabulary_count(stop_words=True)\n",
    "word_count = DataObject.get_top_words()"
   ]
  },
  {
   "cell_type": "markdown",
   "metadata": {},
   "source": [
    "### One last question...\n",
    "When do people email the most?"
   ]
  },
  {
   "cell_type": "code",
   "execution_count": 159,
   "metadata": {},
   "outputs": [],
   "source": [
    "%matplotlib inline\n",
    "from matplotlib import pyplot as plt\n",
    "\n",
    "def plot_time(dataframe):\n",
    "    new = dataframe[['date']]\n",
    "    new['hour'] = pd.DatetimeIndex(new['date']).hour\n",
    "    new['hour'].hist(bins=24)\n",
    "    plt.title('Emails per hour')\n",
    "    \n",
    "#plot_time(...)"
   ]
  },
  {
   "cell_type": "markdown",
   "metadata": {},
   "source": [
    "# PART 2: Exploring the user"
   ]
  },
  {
   "cell_type": "markdown",
   "metadata": {},
   "source": [
    "Now let's try to get a feeling of what these people are talking about.\n",
    "\n",
    "In this example, we will do a simple topic mining model and use spacy to pick up on relevant entities.\n",
    "\n",
    "In particular:\n",
    "1. Aggregate the communication between two people\n",
    "1. Perform topic modelling on the subset exchanged emails\n",
    "2. Perform named entity extraction on the subset\n",
    "\n",
    "The output of this task is to find pairs of people and the keywords/topics they are talking about in their emails."
   ]
  },
  {
   "cell_type": "code",
   "execution_count": 160,
   "metadata": {
    "collapsed": true
   },
   "outputs": [],
   "source": [
    "import spacy\n",
    "from sklearn.feature_extraction.text import TfidfVectorizer, CountVectorizer\n",
    "from sklearn.decomposition import NMF, LatentDirichletAllocation\n",
    "\n",
    "nlp = spacy.load('en')\n",
    "list_of_entities = nlp.entity.cfg[u'actions']['1']\n",
    "relevant_entities = ['EVENT','FAC','GPE','LAW','NORP','LOC','ORG','PRODUCT', 'PERSON']\n",
    "\n",
    "def clean_text(text):\n",
    "    return text\n",
    "\n",
    "def display_topics(model, feature_names, no_top_words):\n",
    "    topics = []\n",
    "    for topic_idx, topic in enumerate(model.components_):\n",
    "        for i in topic.argsort()[:-no_top_words - 1:-1]:\n",
    "            topics.append(feature_names[i])\n",
    "        \n",
    "    return topics\n",
    "\n",
    "def get_keywords(sentence):\n",
    "    keywords = defaultdict(list)\n",
    "    doc = nlp(sentence)\n",
    "    for ent in doc.ents:\n",
    "        if ent.label_ in relevant_entities:\n",
    "            keywords[ent.label_].append(ent.text)\n",
    "    return keywords\n",
    "\n",
    "def get_topics(emails):\n",
    "    # eats a list of emails and returns 3 topics \n",
    "    # NMF is able to use tf-idf\n",
    "    temp = []\n",
    "    for em in emails:\n",
    "        try:\n",
    "            accum = [a for a in em[0].split('.')]\n",
    "            temp += accum\n",
    "        except:\n",
    "            continue\n",
    "    tfidf_vectorizer = TfidfVectorizer(stop_words='english', lowercase=False)\n",
    "    tfidf = tfidf_vectorizer.fit_transform(temp)\n",
    "    tfidf_feature_names = tfidf_vectorizer.get_feature_names()\n",
    "\n",
    "    # LDA can only use raw term counts for LDA because it is a probabilistic graphical model\n",
    "    tf_vectorizer = CountVectorizer(stop_words='english', lowercase=False)\n",
    "    tf = tf_vectorizer.fit_transform(temp)\n",
    "    tf_feature_names = tf_vectorizer.get_feature_names()\n",
    "\n",
    "    no_topics = 5\n",
    "\n",
    "    # Run NMF\n",
    "    nmf = NMF(n_components=no_topics, random_state=1, alpha=.1, l1_ratio=.5, init='nndsvd').fit(tfidf)\n",
    "    # Run LDA\n",
    "    lda = LatentDirichletAllocation(n_components=no_topics, max_iter=10, learning_method='online', learning_offset=50.,random_state=0).fit(tf)\n",
    "    no_top_words = 3\n",
    "    topics1 = display_topics(nmf, tfidf_feature_names, no_top_words)\n",
    "    topics2 = display_topics(lda, tf_feature_names, no_top_words)\n",
    "    return topics1 + topics2\n",
    "\n",
    "class user(object):\n",
    "    def __init__(self, data, email):\n",
    "        self.user = email\n",
    "        self.emails = data.data.loc[data.data['from']==self.user]['body']\n",
    "        self.vocabulary_raw = self.get_vocabulary(data)\n",
    "        self.keywords = defaultdict(list)\n",
    "        self.correspondents_count = Counter()\n",
    "        self.correspondents_emails = defaultdict(list)\n",
    "        self.correspondents_keywords = defaultdict(dict)\n",
    "        self.get_connections(data)\n",
    "        self.correspondents_topics = defaultdict(list)\n",
    "        self.get_topics_correspondents()\n",
    "        self.connections = self.correspondents_count.keys()\n",
    "\n",
    "    def get_vocabulary(self, data):\n",
    "        return data.data.loc[data.data['from']==self.user]['body'].str.cat(sep=' ')\n",
    "    \n",
    "    def get_connections(self,data):\n",
    "        # return person, number of emails, top entities\n",
    "        self.keywords_per_receiver = defaultdict(dict)\n",
    "        for row in data.data.loc[data.data['from']==self.user].itertuples():\n",
    "            indx, body, date, sender, from_name, subject, corres = row\n",
    "            #try:\n",
    "            if len(corres) == 0:\n",
    "                continue\n",
    "            for r in corres[0]:\n",
    "                    if '@' not in r:\n",
    "                        pass\n",
    "                    else:\n",
    "                        r = r.lower()\n",
    "                        self.correspondents_count[r] += 1\n",
    "                        self.correspondents_emails[r].append([clean_text(body)])\n",
    "                        keywords = get_keywords(clean_text(body))\n",
    "                        \n",
    "                        if r not in self.correspondents_keywords.keys():\n",
    "                            for key in relevant_entities:\n",
    "                                self.correspondents_keywords[r][key] = []\n",
    "                        for key in keywords.keys():\n",
    "                            if key in relevant_entities:\n",
    "                                self.correspondents_keywords[r][key] += keywords[key]\n",
    "                                \n",
    "        for receiver in self.correspondents_emails.keys():\n",
    "            for row in data.data.loc[data.data['from']==receiver].itertuples():\n",
    "                indx, body, date, sender, from_name, subject, corres = row\n",
    "                if len(corres) == 0:\n",
    "                    continue\n",
    "                if self.user not in corres[0]:\n",
    "                    continue\n",
    "                    \n",
    "                self.correspondents_emails[receiver].append(str(body))\n",
    "                keywords = get_keywords(body)\n",
    "                        \n",
    "                if receiver not in self.correspondents_keywords.keys():\n",
    "                    #instanciate dictionary\n",
    "                    for key in relevant_entities:\n",
    "                        self.correspondents_keywords[receiver][key] = []\n",
    "                        \n",
    "                for key in keywords.keys():\n",
    "                    if key in relevant_entities:\n",
    "                        self.correspondents_keywords[receiver][key] += keywords[key]\n",
    "    \n",
    "    def get_topics_correspondents(self):\n",
    "        for corres in self.correspondents_keywords.keys():\n",
    "            try:\n",
    "                topics = get_topics(userA.correspondents_emails[corres])\n",
    "            except:\n",
    "                topics = []\n",
    "            counter = Counter(topics)\n",
    "            self.correspondents_topics[corres] = counter.most_common(5)"
   ]
  },
  {
   "cell_type": "markdown",
   "metadata": {},
   "source": [
    "Suppose now we are interested in looking at a person in particular. For example, some names were particularly centered in the controversy, such as:\n",
    "\n",
    "Debbie Wasserman (email: hrtsleeve@gmail.com)     \n",
    "Brad Marshal (email: marshall@dnc.or)       \n",
    "Luis Miranda (mirandal@dnc.org) (he's just the top spammer :) )\n"
   ]
  },
  {
   "cell_type": "code",
   "execution_count": 161,
   "metadata": {
    "collapsed": true
   },
   "outputs": [],
   "source": [
    "userA = user(DataObject,\"hrtsleeve@gmail.com\")"
   ]
  },
  {
   "cell_type": "markdown",
   "metadata": {},
   "source": [
    "Interesting methods of the user object:\n",
    "1. user.correspondents_emails\n",
    "2. user.vocabulary_raw"
   ]
  },
  {
   "cell_type": "code",
   "execution_count": 162,
   "metadata": {},
   "outputs": [
    {
     "name": "stdout",
     "output_type": "stream",
     "text": [
      "Good. Thanks everyone. This is how he responds to Reid??? Please refer the reporter to Luis Miranda, the DNC's Communications Director. Thank you for asking and the heads up! I have copied Luis and April from the DNCC on this reply. Damn liar. Particularly scummy that he barely acknowledges the violent and threatening behavior that occurred. We need to discuss the point of disagreement as I feel strongly the initial rollout needs to be done by me. We can and should do alongside Cummings but I'm not going to hide. I am for the second one. What do others think? No, I would not encourage them to do that. As of right now, the Sanders campaign is not supporting a DNC sanctioned debate, which as you know, was part of the agreement when we added the four extra debates. We need to make sure that if we were going to entertain the possibility of having FOX host the final debate, that they understand that we start with this as a DNC sanctioned‎ debate and that is non-negotiable. Thanks. ‎Good to go. No changes. Excellent! I'm at a black tie dinner. Will quickly review right now. Shocker. This is too legalistic and close to what we already said. Let me edit and send back. Here it is with my changes. Wait, you mean HFA pushed that Sanders wants to moderate our Israel plank in the platform or that they do? Not according to Charlie. He gave me a heads up that the reporter was saying that and that it was not true. #hypocrite  + Comer. This was from our last finance call time. DWS Yes, we are. Hahaha. Let's discuss it. Huh? I didn't meet with POTUS today. Who is the anchor? Okay, np. I thought I replied. Yes. #hypocrite Great. Just please reply when I send sign offs or edited statements to you so I know you received them. Okay. Need anchors but this is fine. My office. Here it is with my changes. We need to make sure that Sheila or whoever is introducing me, is comfortable with this. But this is what they need to use. Alaska Introduction for DWS 5 minutes Good evening Alaska Democrats!! This has been an incredible convention. I have never seen such enthusiasm in all my years in Democratic politics and it is a testament to both our candidates’ championship for hardworking American families and the reality TV show that has been the Republican nomination process. If there is anything more frightening in this election than President Donald Trump taking the reins at the White House, I don’t know what is. Now, well before the Republicans had a nominee and well before our primary process had even started, our Chair Casey Steinau set her goals high and personally asked DNC Chair Debbie Wasserman Schultz to join us in Alaska. That was over a year ago and even with her hectic schedule – being a Mom, Member of Congress, a candidate, and Chair of the national Party – she said YES! Kay [Brown] can tell you how many times we got a call from the DNC and crossed our fingers hoping she wouldn’t have to cancel…and of course not!! Her staff told us time and time again: DWS couldn’t wait to get to Alaska… even though this is her twin’s 17th birthday weekend. We are all very excited for you to hear from the Chairwoman this evening. Since becoming Chair in May 2011, Debbie Wasserman Schultz has traveled to 47 states and participated in nearly 1,800 events for the national and state parties. Now, Debbie Wasserman Schultz is a woman who truly knows how to make it all work. She’s heading back tonight on a redeye so she can cook a birthday dinner for her twins. Before I continue my introduction of Chair Wasserman Schultz, I want to acknowledge a very special guest in the audience. Where is Shelby Schultz? Will everyone join me to give a big Alaska welcome to the Chairwoman’s 12 year old daughter who is making her first trip to Alaska just for this Convention. I hear she’s the adventurous one in the family and had a great time driving up to the mountains for an up close and personal view of one of Alaska’s great treasures – our glaciers. Welcome to Alaska, Shelby! Now, where Debbie Wasserman Schultz’s heart is and the job she cherishes like no other is being a legislator. Debbie has served her constituents in South Florida for nearly 25 years. She was the youngest woman elected to the Florida state legislature - at 26 - and the first Jewish woman elected to the U.S. Congress from the state of Florida. Just ten weeks after taking office in Washington, D.C., she led the fight and stood up to the GOP establishment and President George W. Bush when Congress took action to require Terri Schiavo’s husband to keep her on life support – a complete slap in the face to our constitutional right to privacy and separation of church and state. There is no advocate for women, children, and young families like Debbie Wasserman Schultz. In 2007, she sponsored the Virginia Graeme Baker Pool & Spa Safety Act named after Secretary of State James Baker’s granddaughter who died when she became trapped in a pool drain. Drowning is the number one cause of unintentional death for children under 5 years of age and since this law was passed, there have been NO drownings in the entire country due to entrapments like what happened to Virginia. Next, she teamed up with then Senator Joe Biden to pass the Protect Our Children Act. This bill gave law enforcement the tools and resources they need to track down and prosecute criminals exploiting children online. Even when GOP obstructionist number one, Tom Coburn, held up the bill, Debbie Wasserman Schultz fought tooth and nail to get it passed into law. In 2008, while campaigning for then Senator Barack Obama, she quietly faced her own personal battle with breast cancer. After seven surgeries, winning her own reelection, and electing the first African American President to the White House, she told the world her cancer story by doing what else - holding a press conference to introduce the Education and Awareness Requires Learning Young Act - the EARLY Act. This law provides critical funds and directs the Centers for Disease Control to educate young women and health care providers, that young women in fact can and do get breast cancer and build awareness for those women who are at higher or genetic risk for this disease. Debbie Wasserman Schultz has been a champion for progressive values and working families her entire career. She's used her voice and her vote to support a $15 minimum wage, was a champion for the Affordable Care Act, and is the lead sponsor in Congress to fully fund the Zika virus crisis which is a major health concern in her home state of Florida and across the country. Michelle Obama was right when President Obama nominated her to chair the DNC: “If you want something done, give it to a busy woman.” Well, President Barack Obama found the busiest one out there and named her DNC Chair not once, but TWICE! Thank you for heading to Alaska, Chairwoman Wasserman Schultz! We are so excited to have you here. DWS Ouch. Sure. Okay. Damn liar. Particularly scummy that he barely acknowledges the violent and threatening behavior that occurred. Okay. I think SoFla would be better but defer to Steve and Jodi. I am for the second one. What do others think? Gotcha. Thanks! Yep. Sure. But I need to know anchors. Sorry, remove double use of and in my edit before sending. Please use the weekday AND the date in these approval requests. This is fine. If it is Kornacki, I will not do it. ‎Here it is with my changes. We MUST issue a statement from me asap. Please forward a draft that is worded strongly. We are about to be done with Approps in about ten mins, so time has been freed up this afternoon. Okay. ‎Good to go. No changes. Good to go with the one spacing edit made below. For Immediate ReleaseMay 13, 2016Contact – DNC Press 202-863-8148 DNC Chair Statement on Trump Tax ReturnsThis morning Donald Trump once again went back on his word, refusing to release his tax returns. When asked during an interview whether he would disclose his tax rate, Trump snapped at the interviewer and said it was “none of your business.” He also argued that voters do not have a right to see his tax returns before Election Day.Of course, when Trump first considered running for President in 1999, he ‎said he, “probably wouldn’t have a problem with” releasing his tax returns if he ran. Later, in 2012, he argued if you’re running for President, “at a minimum, probably, you’re going to have to show your [tax] returns” and they should be released by April 1st of the election year. Democratic National Committee Chair Debbie Wasserman Schultz issued the following statement:“Trump’s refusal to release his tax returns raises serious questions about what he’s hiding, whether or not he pays his fair share and how much he would benefit from his own reckless tax plan. If Trump can’t be open and honest about his purported wealth today as a candidate, there’s no telling how much he would rig the system to enrich himself and others at the top at the expense of hardworking families as president.” Gotcha. Yes, I speak autocorrect. Did you get my reply on the statement? I'll wake up early. Sucks but that's fine. Thanks. No, this is the first time I'm seeing this. The process is that you are supposed to send to me for approval when you get these requests from Comms. Are you having a problem in communicating with them? This is really a problem, guys. We cannot allow this narrative to continue. Where is the balance? We have plenty of people that could push back. We must get a pushback story out there. WASHINGTON POSTLiberal pundits blame Debbie Wasserman Schultz, not Bernie Sanders, for Democrats’ divisionBy Callum Borchers Democratic National Committee Chairwoman Debbie Wasserman Schultz says Bernie Sanders added fuel to the fire that raged at last weekend’s chaotic Democratic convention in Nevada, criticizing him for choosing to denounce party leaders before condemning violence in a written statement. Liberal CNN commentator Van Jones sees things very differently. “She says that Bernie's adding fuel to the fire? She just added fuel to the fire,” Jones said Tuesday, shortly after Wasserman Schultz said in an interview that Sanders's response to reports of a scuffle and threatening behavior by some of his supporters was \"anything but acceptable.\" Jones went on: The problem that we have right now is that there has been this concern on the part of Bernie's people that the DNC has been on Hillary's side. ... First of all, Bernie did say, in his statement, that he's against the violence. Also, if you want to talk about violence, only one person's been arrested — it was a Hillary Clinton supporter, Wendell Pierce, arrested for assaulting a Sanders supporter. So, if you're going to come out and you're going to talk about violence and you're the DNC chair, you have to be fair about it. I don't think she was fair. I think she actually made it worse now. We have to pull these people together. That did not happen. (Pierce, we should note, is the former \"The Wire\" actor who was arrested over the weekend after an incident at an Atlanta hotel. There were no arrests at the Nevada convention.) MSNBC’s Mika Brzezinski went farther than Jones on Wednesday, calling for Wasserman Schultz to resign. \"This has been very poorly handled from the start,\" Brzezinski said. \"It has been unfair, and they haven’t taken him seriously, and it starts, quite frankly, with the person that we just heard speaking [Wasserman Schultz]. It just does. ... She should step down. She should step down.\" Fellow MSNBC host Chris Hayes, meanwhile, said Tuesday that it's clear that Wasserman Schultz's fingers are on the scale. “It is clearly the case that when given truth serum, Debbie Wasserman Schultz vastly prefers Hillary Clinton to be the nominee, obviously, and to the extent that there are things that can be done institutionally and marginally to facilitate that outcome, they are being done,\" Hayes said. As the Democratic presidential nominating contest drags on — with the Republican race already over — left-leaning pundits are increasingly pinning the blame for disunity on the party boss, instead of the underdog candidate who refuses to drop out. Sanders might be stubborn, but Wasserman Schultz drove him to it by favoring Clinton from the start. Or so the argument goes. And the situation in Nevada seems to have turned up the heat on some long-simmering tensions. Top complaints include briefly suspending the Sanders campaign's access to a voter database and scheduling half as many primary debates (six) as the Republicans did — and putting half of those events on weekend nights, allegedly to minimize exposure and insulate the front-runner. The database suspension was a penalty imposed after Sanders acknowledged that a staffer improperly exploited a software glitch that allowed him to view confidential voter information held by the Clinton campaign. The DNC eventually sanctioned four additional debates, though only three have been held and there is no date for the fourth. The left side of the media has been criticizing Wasserman Schultz's handling of the primary process for a while. \"Fire Debbie Wasserman Schultz,\" blared a to-the-point headline on the Huffington Post in December. On the same day, Slate declared that \"Debbie Wasserman Schultz is acting just like the villain Bernie Sanders says she is.\" More recently, Esquire's Charles P. Pierce called for Wasserman Schultz's ouster in March (though for reasons unrelated to the 2016 primary), The liberal press isn't alone in its frustration. As The Fix's Janell Ross wrote in January, \"Wasserman Schultz's list of enemies just keeps growing\" — a list that includes some fellow Democrats and progressive advocacy groups. The consternation dates to at least 2014, when Politico's Edward-Isaac Dovere wrote a lengthy piece about unhappiness with her performance. As of Thursday morning, a MoveOn.org petition calling for Wasserman Schultz to resign had 76,146 digital signatures. A similar petition at Change.org had 60,525. Another on CREDO Action's website had 86,291. It's clear that Wasserman Schultz is in a difficult spot — one she almost certainly didn't anticipate at the beginning of the election season. Sanders made the Democratic race far more competitive than anyone imagined. But as he delays the inevitable, Wasserman Schultz finds that she, too, is being cast as a divisive figure by the media. On top of it all, the perception could be virtually impossible to shake. While Sanders will ultimately be judged by the extent to which he rallies supporters to Clinton in the general election, Wasserman Schultz is already being judged by moves she made early in the primary season that can't be reversed. Sanders backers might always believe their candidate didn't get a fair shake, and those accusations will probably be part of Wasserman Schultz's media narrative for a long time to come.https://www.washingtonpost.com/news/the-fix/wp/2016/05/19/liberal-pundits-blame-debbie-wasserman-schultz-not-bernie-sanders-for-democrats-division/ Yes, we are. Can you upload asap so I can begin reviewing? Okay, thank you. We need to do whatever we can to tamp this down. I recognize that something will happen but they cannot leave this to the wind and let them run roughshod. Today? We were voting. When did they ask you about this? ###, Okay. I don't feel strongly about the second one. It's more important to condemn the behavior and call on the candidates to condemn it. Here is my revision to the first one if that is what we go with: This is how he responds to Reid??? I edited it to make part of the first one stronger, FYI. You mean 8:20am, right? Sorry, remove double use of and in my edit before sending. This is really a problem, guys. We cannot allow this narrative to continue. Where is the balance? We have plenty of people that could push back. We must get a pushback story out there. WASHINGTON POSTLiberal pundits blame Debbie Wasserman Schultz, not Bernie Sanders, for Democrats’ divisionBy Callum Borchers Democratic National Committee Chairwoman Debbie Wasserman Schultz says Bernie Sanders added fuel to the fire that raged at last weekend’s chaotic Democratic convention in Nevada, criticizing him for choosing to denounce party leaders before condemning violence in a written statement. Liberal CNN commentator Van Jones sees things very differently. “She says that Bernie's adding fuel to the fire? She just added fuel to the fire,” Jones said Tuesday, shortly after Wasserman Schultz said in an interview that Sanders's response to reports of a scuffle and threatening behavior by some of his supporters was \"anything but acceptable.\" Jones went on: The problem that we have right now is that there has been this concern on the part of Bernie's people that the DNC has been on Hillary's side. ... First of all, Bernie did say, in his statement, that he's against the violence. Also, if you want to talk about violence, only one person's been arrested — it was a Hillary Clinton supporter, Wendell Pierce, arrested for assaulting a Sanders supporter. So, if you're going to come out and you're going to talk about violence and you're the DNC chair, you have to be fair about it. I don't think she was fair. I think she actually made it worse now. We have to pull these people together. That did not happen. (Pierce, we should note, is the former \"The Wire\" actor who was arrested over the weekend after an incident at an Atlanta hotel. There were no arrests at the Nevada convention.) MSNBC’s Mika Brzezinski went farther than Jones on Wednesday, calling for Wasserman Schultz to resign. \"This has been very poorly handled from the start,\" Brzezinski said. \"It has been unfair, and they haven’t taken him seriously, and it starts, quite frankly, with the person that we just heard speaking [Wasserman Schultz]. It just does. ... She should step down. She should step down.\" Fellow MSNBC host Chris Hayes, meanwhile, said Tuesday that it's clear that Wasserman Schultz's fingers are on the scale. “It is clearly the case that when given truth serum, Debbie Wasserman Schultz vastly prefers Hillary Clinton to be the nominee, obviously, and to the extent that there are things that can be done institutionally and marginally to facilitate that outcome, they are being done,\" Hayes said. As the Democratic presidential nominating contest drags on — with the Republican race already over — left-leaning pundits are increasingly pinning the blame for disunity on the party boss, instead of the underdog candidate who refuses to drop out. Sanders might be stubborn, but Wasserman Schultz drove him to it by favoring Clinton from the start. Or so the argument goes. And the situation in Nevada seems to have turned up the heat on some long-simmering tensions. Top complaints include briefly suspending the Sanders campaign's access to a voter database and scheduling half as many primary debates (six) as the Republicans did — and putting half of those events on weekend nights, allegedly to minimize exposure and insulate the front-runner. The database suspension was a penalty imposed after Sanders acknowledged that a staffer improperly exploited a software glitch that allowed him to view confidential voter information held by the Clinton campaign. The DNC eventually sanctioned four additional debates, though only three have been held and there is no date for the fourth. The left side of the media has been criticizing Wasserman Schultz's handling of the primary process for a while. \"Fire Debbie Wasserman Schultz,\" blared a to-the-point headline on the Huffington Post in December. On the same day, Slate declared that \"Debbie Wasserman Schultz is acting just like the villain Bernie Sanders says she is.\" More recently, Esquire's Charles P. Pierce called for Wasserman Schultz's ouster in March (though for reasons unrelated to the 2016 primary), The liberal press isn't alone in its frustration. As The Fix's Janell Ross wrote in January, \"Wasserman Schultz's list of enemies just keeps growing\" — a list that includes some fellow Democrats and progressive advocacy groups. The consternation dates to at least 2014, when Politico's Edward-Isaac Dovere wrote a lengthy piece about unhappiness with her performance. As of Thursday morning, a MoveOn.org petition calling for Wasserman Schultz to resign had 76,146 digital signatures. A similar petition at Change.org had 60,525. Another on CREDO Action's website had 86,291. It's clear that Wasserman Schultz is in a difficult spot — one she almost certainly didn't anticipate at the beginning of the election season. Sanders made the Democratic race far more competitive than anyone imagined. But as he delays the inevitable, Wasserman Schultz finds that she, too, is being cast as a divisive figure by the media. On top of it all, the perception could be virtually impossible to shake. While Sanders will ultimately be judged by the extent to which he rallies supporters to Clinton in the general election, Wasserman Schultz is already being judged by moves she made early in the primary season that can't be reversed. Sanders backers might always believe their candidate didn't get a fair shake, and those accusations will probably be part of Wasserman Schultz's media narrative for a long time to come.https://www.washingtonpost.com/news/the-fix/wp/2016/05/19/liberal-pundits-blame-debbie-wasserman-schultz-not-bernie-sanders-for-democrats-division/ https://www.washingtonpost.com/opinions/sanderss-scorched-earth-campaign-is-a-gift-to-trump/2016/05/19/b2f582b4-1ded-11e6-9c81-4be1c14fb8c8_story.html Agreed. We MUST issue a statement from me asap. Please forward a draft that is worded strongly. Good to go with the one spacing edit made below. For Immediate ReleaseMay 13, 2016Contact – DNC Press 202-863-8148 DNC Chair Statement on Trump Tax ReturnsThis morning Donald Trump once again went back on his word, refusing to release his tax returns. When asked during an interview whether he would disclose his tax rate, Trump snapped at the interviewer and said it was “none of your business.” He also argued that voters do not have a right to see his tax returns before Election Day.Of course, when Trump first considered running for President in 1999, he ‎said he, “probably wouldn’t have a problem with” releasing his tax returns if he ran. Later, in 2012, he argued if you’re running for President, “at a minimum, probably, you’re going to have to show your [tax] returns” and they should be released by April 1st of the election year. Democratic National Committee Chair Debbie Wasserman Schultz issued the following statement:“Trump’s refusal to release his tax returns raises serious questions about what he’s hiding, whether or not he pays his fair share and how much he would benefit from his own reckless tax plan. If Trump can’t be open and honest about his purported wealth today as a candidate, there’s no telling how much he would rig the system to enrich himself and others at the top at the expense of hardworking families as president.” What press do we anticipate covering my speech? Oh grrrreeaattt. Patrice forwarded to me earlier. They have platform and drafting mixed up a bit in this story. And they have the numbers completely wrong. The Israel stuff is disturbing. I edited it to make part of the first one stronger, FYI. Yes, Tracie sent this earlier. I don't believe it is under control in the least. Here it is with my changes in the preamble and to my statement. Thanks everyone. Here we go...AGAIN! Thanks. We need to get out the fact, on background, that each of these committees has 192 members and 167 members of each of the standing committees‎ are members appointed by the candidates based on the delegates they've earned. The 25 at-large have been appointed and approved by the DNC Executive Committee. :))) Thanks. Just for the whole group going forward, while we shouldn't produce a twenty page briefing, it is helpful to include the hot button topics I may or will likely be asked, like HRC's emails, Benghazi, etc. so I can have them top of mind to draw from. This is especially true with any FOX interview. It helps me make my responses stronger. As I said to Luis, there's a lot in my head, the briefings help bring things about which I'm already familiar, to the top of my head! I don't feel strongly about the second one. It's more important to condemn the behavior and call on the candidates to condemn it. Here is my revision to the first one if that is what we go with: Okay, thank you. We need to do whatever we can to tamp this down. I recognize that something will happen but they cannot leave this to the wind and let them run roughshod.\n",
      "[('the', 193), ('to', 148), ('and', 90), ('a', 79), ('that', 70), ('is', 60), ('of', 59), ('in', 54), ('for', 48), ('Wasserman', 43), ('I', 34), ('on', 32), ('have', 27), ('Schultz', 27), ('it', 26), ('be', 24), ('at', 22), ('his', 22), ('he', 22), ('this', 22), ('was', 21), ('with', 21), ('We', 21), ('she', 20), ('Sanders', 20), ('been', 20), ('we', 20), ('you', 20), ('Debbie', 18), ('about', 18), ('by', 18), ('her', 18), ('The', 17), ('has', 17), ('DNC', 16), ('my', 16), ('as', 15), ('not', 14), ('from', 14), ('they', 14), ('one', 14), ('are', 14), ('when', 13), ('tax', 12), ('—', 12), ('just', 11), ('but', 11), ('This', 11), ('up', 11), ('if', 11), ('Trump', 11), ('do', 11), ('Democratic', 11), ('first', 10), ('can', 10), ('an', 10), ('Chair', 10), ('Clinton', 10), ('get', 10), (\"Schultz's\", 10), ('said', 10), ('going', 9), ('had', 9), ('there', 9), ('need', 9), ('what', 9), ('should', 9), ('being', 8), ('me', 8), ('before', 8), ('made', 8), ('Bernie', 8), ('no', 8), ('Jones', 8), ('would', 8), ('right', 8), ('As', 8), ('after', 8), ('our', 8), ('him', 8), ('who', 8), ('so', 8), ('will', 8), ('how', 8), ('She', 7), ('time', 7), ('or', 7), ('President', 7), ('primary', 7), ('did', 7), ('part', 7), ('people', 6), ('it.', 6), ('fuel', 6), ('make', 6), ('top', 6), ('says', 6), (\"you're\", 6), ('Here', 6), ('like', 6), ('went', 6), ('arrested', 6), ('out', 6), ('returns', 6), ('already', 6), ('fair', 6), ('some', 6), ('behavior', 6), ('very', 6), ('–', 6), ('said.', 5), ('families', 5), ('than', 5), ('over', 5), ('things', 5), ('these', 5), (\"don't\", 5), ('election', 5), ('problem', 5), ('edit', 5), ('those', 5), ('added', 5), ('changes.', 5), ('more', 5), (\"didn't\", 5), ('held', 5), ('which', 5), ('Okay.', 5), ('think', 5), ('Nevada', 4), ('threatening', 4), ('narrative', 4), ('call', 4), ('down.', 4), ('DWS', 4), ('your', 4), ('done', 4), ('voter', 4), ('whether', 4), ('interview', 4), ('party', 4), ('petition', 4), ('candidate', 4), ('Please', 4), ('race', 4), ('extent', 4), ('cannot', 4), ('wrote', 4), ('Committee', 4), ('calling', 4), (\"It's\", 4), ('Alaska', 4), ('want', 4), ('own', 4), ('might', 4), ('talk', 4), ('criticizing', 4), ('one.', 4), ('Yes,', 4), ('blame', 4), ('Hillary', 4), ('list', 4), ('much', 4), ('Chairwoman', 4), ('condemn', 4), ('If', 4), ('pundits', 4), ('-', 4), ('weekend', 4), ('violence', 4), ('Brzezinski', 4), ('press', 4), ('state', 4), ('supporters', 4), ('clear', 4), ('only', 4), ('second', 4), (\"Bernie's\", 4), ('could', 4), ('you’re', 4), ('others', 4), ('On', 4), ('go', 4), ('half', 4), ('argued', 4), ('them', 4), ('judged', 4), ('release', 4), ('running', 4), ('database', 4), ('But', 4), ('media', 4), ('National', 4), ('step', 4), (\"I'm\", 4), ('all,', 4), ('process', 4), ('...', 4), ('were', 4), ('Thanks.', 4), ('Where', 3), ('use', 3), ('fine.', 3), ('show', 3), ('many', 3), ('When', 3), ('believe', 3), ('candidate,', 3), ('Schultz,', 3), ('concern', 3), ('He', 3), ('And', 3), ('Republicans', 3), ('something', 3), ('sanctioned', 3), ('all', 3), ('edited', 3), ('events', 3), ('Good', 3), ('even', 3), ('story', 3), ('Obama', 3), ('What', 3), ('There', 3), ('That', 3), ('wouldn’t', 3), ('Congress', 3), ('feel', 3), ('view', 3), ('date', 3), ('strongly', 3), ('law', 3), ('fingers', 3), ('send', 3), ('members', 3), ('know', 3), ('include', 3), ('Just', 3), ('April', 3), ('though', 3), ('woman', 3), ('statement.', 3), ('host', 3), ('four', 3), ('young', 3), ('Okay,', 3), ('Donald', 3), ('Republican', 3), ('anticipate', 3), ('Now,', 3), ('now.', 3), ('It', 3), ('back', 3), ('last', 3), ('asked', 3), ('candidates', 3), ('women', 3), ('Florida', 3), ('progressive', 3), ('back.', 3), ('hardworking', 3), ('figure', 2), ('draft', 2), ('January,', 2), ('out.', 2), ('fire,”', 2), ('called', 2), ('villain', 2), ('additional', 2), ('Charles', 2), ('hotel.', 2), ('briefly', 2), ('earlier.', 2), ('groups.', 2), ('putting', 2), ('truth', 2), ('roughshod.', 2), ('2016', 2), ('divisionBy', 2), ('MoveOn.org', 2), ('“none', 2), ('Democrats', 2), ('Hayes,', 2), ('Hayes', 2), ('Slate', 2), ('join', 2), ('similar', 2), ('shortly', 2), ('you.', 2), ('unfair,', 2), ('favoring', 2), ('supporter,', 2), ('champion', 2), ('unhappiness', 2), ('share', 2), ('Another', 2), ('Dovere', 2), ('is.\"', 2), ('worded', 2), ('can’t', 2), ('rig', 2), ('Schultz].', 2), ('considered', 2), ('reply', 2), ('now', 2), ('violent', 2), ('nearly', 2), ('remove', 2), ('three', 2), ('refuses', 2), ('together.', 2), ('reports', 2), ('nights,', 2), ('are.', 2), ('heads', 2), ('again', 2), ('personal', 2), ('seems', 2), (\"Sanders's\", 2), ('its', 2), (\"Fix's\", 2), ('seriously,', 2), ('Tax', 2), ('glitch', 2), ('improperly', 2), ('year.', 2), ('\"anything', 2), ('certainly', 2), ('reporter', 2), ('\\u200esaid', 2), ('Wire\"', 2), ('following', 2), ('Van', 2), ('start.', 2), ('\"Wasserman', 2), ('business.”', 2), ('heading', 2), ('issued', 2), ('Chris', 2), ('us', 2), ('written', 2), ('thank', 2), ('rate,', 2), ('ouster', 2), ('leave', 2), ('includes', 2), ('platform', 2), ('frankly,', 2), ('signatures.', 2), ('spacing', 2), ('While', 2), ('(though', 2), ('tensions.', 2), ('each', 2), ('commentator', 2), ('Ross', 2), ('minimize', 2), ('weekend’s', 2), ('interviewer', 2), ('serious', 2), ('insulate', 2), ('taken', 2), ('during', 2), ('2012,', 2), ('fire', 2), ('Sorry,', 2), ('actually', 2), ('25', 2), ('this.', 2), ('far', 2), ('For', 2), ('start,\"', 2), ('Senator', 2), ('Gotcha.', 2), ('FYI.', 2), ('digital', 2), ('there’s', 2), ('unrelated', 2), (\"Hillary's\", 2), ('benefit', 2), ('Tuesday', 2), ('years', 2), ('cast', 2), ('continue.', 2), ('“probably', 2), ('plan.', 2), ('returns.', 2), ('Nevada,', 2), ('blared', 2), ('excited', 2), ('acting', 2), ('enrich', 2), ('today', 2), ('Fellow', 2), ('left-leaning', 2), ('telling', 2), ('anyone', 2), (\"isn't\", 2), ('issue', 2), ('staffer', 2), ('Callum', 2), ('[tax]', 2), ('reasons', 2), ('Alaska,', 2), ('Press', 2), ('Luis', 2), ('debates', 2), ('2014,', 2), ('enemies', 2), ('statement:“Trump’s', 2), ('underdog', 2), ('fire?', 2), ('serum,', 2), ('hear', 2), ('acknowledged', 2), ('White', 2), ('Immediate', 2), ('case', 2), ('\"The', 2), ('primary),', 2), ('Pierce', 2), ('spot', 2), ('#hypocrite', 2), (\"person's\", 2), ('reversed.', 2), ('2016Contact', 2), ('piece', 2), ('consternation', 2), ('against', 2), ('while', 2), ('Thursday', 2), ('denounce', 2), ('course,', 2), ('MUST', 2), ('differently.', 2), ('Huffington', 2), ('open', 2), ('everyone.', 2), ('beginning', 2), ('long-simmering', 2), ('tamp', 2), ('(Pierce,', 2), ('he’s', 2), ('confidential', 2), ('convention.)', 2), ('keeps', 2), ('plenty', 2), ('handled', 2), ('GOP', 2), ('debate,', 2), ('note,', 2), ('debates,', 2), ('questions', 2), ('suspending', 2), ('allowed', 2), ('breast', 2), ('Or', 2), ('First', 2), ('handling', 2), ('Schultz,\"', 2), ('named', 2), ('health', 2), ('birthday', 2), ('increasingly', 2), ('access', 2), ('side', 2), ('December.', 2), ('\"Fire', 2), ('performance.', 2), ('institutionally', 2), ('declared', 2), ('whatever', 2), ('given', 2), ('down.\"', 2), ('to-the-point', 2), ('really', 2), ('heard', 2), ('Day.Of', 2), ('pull', 2), ('season', 2), (\"it's\", 2), ('instead', 2), ('exploited', 2), (\"Esquire's\", 2), ('growing\"', 2), ('virtually', 2), ('Thanks', 2), ('farther', 2), ('speaking', 2), ('recently,', 2), ('returns”', 2), ('CNN', 2), ('1999,', 2), ('morning', 2), ('clearly', 2), ('FOX', 2), ('statement,', 2), ('run', 2), ('Post', 2), ('response', 2), ('scuffle', 2), ('incident', 2), ('Particularly', 2), ('Janell', 2), ('day,', 2), ('moves', 2), ('\"Debbie', 2), ('fellow', 2), ('ultimately', 2), ('honest', 2), ('\"It', 2), ('Barack', 2), ('worse', 2), ('prefers', 2), (\"he's\", 2), ('season.', 2), ('No', 2), ('on:', 2), ('done,\"', 2), ('alone', 2), ('scheduling', 2), ('meanwhile,', 2), ('contest', 2), ('with:', 2), ('facilitate', 2), ('himself', 2), ('rallies', 2), ('front-runner.', 2), ('left', 2), ('delays', 2), ('appointed', 2), ('chair,', 2), ('revision', 2), ('Thank', 2), ('sees', 2), ('1st', 2), ('WASHINGTON', 2), ('76,146', 2), ('Wednesday,', 2), ('year', 2), ('quite', 2), ('early', 2), ('So,', 2), ('marginally', 2), ('Borchers', 2), ('CREDO', 2), ('come.https://www.washingtonpost.com/news/the-fix/wp/2016/05/19/liberal-pundits-blame-debbie-wasserman-schultz-not-bernie-sanders-for-democrats-division/', 2), ('boss,', 2), (\"Action's\", 2), ('imagined.', 2), ('same', 2), ('assaulting', 2), ('also', 2), ('\\u200eGood', 2), ('scale.', 2), ('condemning', 2), ('Damn', 2), ('No,', 2), ('March', 2), ('drags', 2), ('always', 2), ('elected', 2), ('mean', 2), ('national', 2), ('lengthy', 2), ('does.', 2), ('voters', 2), ('ran.', 2), ('campaign.', 2), ('difficult', 2), ('60,525.', 2), ('with”', 2), ('argument', 2), ('violence.', 2), ('MSNBC’s', 2), ('Statement', 2), ('86,291.', 2), ('(six)', 2), ('arrests', 2), ('entire', 2), ('Edward-Isaac', 2), ('poorly', 2), ('nominee,', 2), ('snapped', 2), ('push', 2), ('House,', 2), ('long', 2), ('Mika', 2), ('divisive', 2), ('probably,', 2), ('let', 2), ('vastly', 2), ('expense', 2), ('Sure.', 2), (\"campaign's\", 2), ('Reid???', 2), ('give', 2), ('say,', 2), ('acknowledges', 2), ('P.', 2), ('\"This', 2), ('general', 2), ('support', 2), ('liberal', 2), ('Democrats’', 2), ('complaints', 2), ('am', 2), ('morning,', 2), ('Tuesday,', 2), ('Change.org', 2), ('media.', 2), ('[Wasserman', 2), ('American', 2), ('nominating', 2), ('obviously,', 2), ('leaders', 2), ('election,', 2), ('turned', 2), ('disunity', 2), ('resign', 2), ('advocacy', 2), ('person', 2), ('responds', 2), ('releasing', 2), ('ReleaseMay', 2), ('told', 2), ('recognize', 2), ('word,', 2), ('Atlanta', 2), ('actor', 2), ('purported', 2), ('202-863-8148', 2), ('Sanders,', 2), ('drop', 2), ('Election', 2), ('headline', 2), (\"Politico's\", 2), ('choosing', 2), ('ten', 2), ('important', 2), ('former', 2), ('he,', 2), ('wealth', 2), ('refusal', 2), (\"can't\", 2), ('“It', 2), ('adding', 2), ('pinning', 2), ('balance?', 2), ('exposure', 2), ('Pierce,', 2), ('outcome,', 2), ('sure', 2), ('disclose', 2), ('Israel', 2), ('well', 2), ('scummy', 2), ('frustration.', 2), ('Later,', 2), ('must', 2), ('happen.', 2), ('finds', 2), ('close', 2), ('fair.', 2), ('A', 2), ('goes.', 2), ('released', 2), ('heat', 2), ('wind', 2), ('come', 2), ('system', 2), ('accusations', 2), ('information', 2), ('inevitable,', 2), ('reckless', 2), ('penalty', 2), ('hiding,', 2), ('problem,', 2), ('gave', 2), ('children', 2), ('raises', 2), ('liar.', 2), ('number', 2), ('occurred.', 2), ('software', 2), ('shake.', 2), ('great', 2), ('guys.', 2), ('their', 2), ('almost', 2), ('impossible', 2), ('once', 2), ('refusing', 2), ('allegedly', 2), ('barely', 2), ('dates', 2), ('while.', 2), ('eventually', 2), ('convention', 2), ('acceptable.\"', 2), ('In', 2), ('taking', 2), ('supporter.', 2), ('resign.', 2), ('having', 2), ('minimum,', 2), ('approval', 2), ('“at', 2), ('raged', 2), ('5', 2), ('happen', 2), ('Top', 2), ('website', 2), ('situation', 2), ('under', 2), ('strongly.', 2), ('shake,', 2), ('see', 2), ('discuss', 2), ('Act.', 2), ('allow', 2), ('Act', 2), ('think?', 2), ('ReturnsThis', 2), ('MSNBC', 2), ('she,', 2), ('POSTLiberal', 2), ('sending.', 2), ('“She', 2), ('asap.', 2), ('violence,', 2), ('More', 2), ('Also,', 2), ('suspension', 2), ('chaotic', 2), ('too,', 2), ('side.', 2), ('then', 2), ('13,', 2), ('stubborn,', 2), ('pushback', 2), ('there.', 2), ('cancer', 2), ('backers', 2), ('statement', 2), ('go.', 2), ('probably', 2), ('imposed', 2), ('drove', 2), ('forward', 2), ('president.”', 2), ('haven’t', 2), ('least', 2), ('presidential', 2), ('starts,', 2), ('stronger,', 2), ('Liberal', 2), ('double', 2), ('competitive', 2), ('President,', 2), ('Wendell', 2), ('pays', 2), ('perception', 2), ('fourth.', 2), ('Will', 2), ('below.', 2), ('', 1), ('State', 1), ('asap', 1), ('sent', 1), ('trip', 1), ('TV', 1), ('DNCC', 1), ('participated', 1), ('non-negotiable.', 1), ('twins.', 1), ('politics', 1), ('freed', 1), ('Who', 1), ('voting.', 1), ('state.', 1), ('Shelby!', 1), ('exploiting', 1), ('Hahaha.', 1), ('[Brown]', 1), ('alongside', 1), ('np.', 1), ('My', 1), ('conference', 1), ('Jodi.', 1), ('anything', 1), ('Patrice', 1), ('Approps', 1), ('produce', 1), ('Florida.', 1), ('speak', 1), ('Steve', 1), ('black', 1), ('from.', 1), ('youngest', 1), ('+', 1), ('final', 1), ('weeks', 1), ('seeing', 1), ('finance', 1), ('where', 1), ('too', 1), ('seven', 1), ('Kornacki,', 1), ('encourage', 1), ('mixed', 1), ('testament', 1), ('upload', 1), ('everyone', 1), ('country', 1), ('Member', 1), ('Even', 1), ('Yes.', 1), ('nominated', 1), ('require', 1), ('never', 1), ('treasures', 1), ('Welcome', 1), (\"HRC's\", 1), ('she’s', 1), ('pool', 1), ('traveled', 1), ('Affordable', 1), ('vote', 1), ('tools', 1), ('Did', 1), ('She’s', 1), ('\\u200eHere', 1), ('heart', 1), ('stuff', 1), ('care', 1), ('received', 1), ('understand', 1), ('championship', 1), ('evening.', 1), ('12', 1), ('career.', 1), (\"She's\", 1), ('is.', 1), ('Casey', 1), ('church', 1), ('parties.', 1), ('Shelby', 1), ('couldn’t', 1), ('https://www.washingtonpost.com/opinions/sanderss-scorched-earth-campaign-is-a-gift-to-trump/2016/05/19/b2f582b4-1ded-11e6-9c81-4be1c14fb8c8_story.html', 1), ('Wait,', 1), ('Tracie', 1), ('other', 1), ('cancer.', 1), ('likely', 1), ('Next,', 1), ('Party', 1), ('preamble', 1), ('Sucks', 1), ('hectic', 1), (\"shouldn't\", 1), ('such', 1), ('sponsor', 1), ('Safety', 1), ('world', 1), ('Before', 1), ('Obama,', 1), ('resources', 1), ('legalistic', 1), ('changes', 1), ('help', 1), ('meet', 1), ('entrapments', 1), ('reins', 1), ('process.', 1), ('dinner.', 1), ('offs', 1), ('Washington,', 1), ('provides', 1), ('committees\\u200e', 1), ('pass', 1), ('fully', 1), ('Alaska’s', 1), ('whoever', 1), ('special', 1), ('separation', 1), ('that.', 1), ('husband', 1), ('cook', 1), ('action', 1), ('true.', 1), ('familiar,', 1), ('wait', 1), ('establishment', 1), ('Children', 1), ('Requires', 1), ('anchor?', 1), ('not!!', 1), ('passed', 1), ('do?', 1), ('stronger.', 1), ('Not', 1), ('wage,', 1), ('adventurous', 1), ('Graeme', 1), (\"there's\", 1), ('192', 1), ('supporting', 1), ('anchors.', 1), ('major', 1), ('DNC:', 1), ('crossed', 1), ('afternoon.', 1), ('children,', 1), ('wake', 1), ('etc.', 1), ('enthusiasm', 1), ('moderate', 1), ('Michelle', 1), ('busy', 1), ('###,', 1), ('delegates', 1), ('start', 1), ('redeye', 1), ('story.', 1), ('167', 1), ('genetic', 1), ('Huh?', 1), ('else', 1), ('awareness', 1), ('YES!', 1), ('Schultz?', 1), ('acknowledge', 1), ('privacy', 1), ('times', 1), ('course', 1), ('Schiavo’s', 1), ('may', 1), ('lead', 1), ('cherishes', 1), ('fact,', 1), ('ago', 1), ('tell', 1), ('chair', 1), ('Congress,', 1), ('high', 1), ('hoping', 1), ('Agreed.', 1), ('Virginia.', 1), ('completely', 1), ('electing', 1), ('Young', 1), ('country.', 1), ('Secretary', 1), ('home', 1), ('weekday', 1), ('Pool', 1), ('found', 1), ('refer', 1), ('emails,', 1), ('Democrats!!', 1), ('mins,', 1), ('South', 1), ('keep', 1), ('You', 1), ('Zika', 1), ('quietly', 1), ('based', 1), ('at-large', 1), ('disturbing.', 1), ('educate', 1), ('EARLY', 1), ('Convention.', 1), ('Schultz.', 1), ('build', 1), ('mind', 1), ('George', 1), ('legislator.', 1), ('stood', 1), ('covering', 1), ('death', 1), ('17th', 1), ('years.', 1), ('Shocker.', 1), ('asked,', 1), ('U.S.', 1), ('head,', 1), ('replied.', 1), ('Awareness', 1), ('states', 1), ('prosecute', 1), ('work.', 1), ('anchors', 1), ('this?', 1), ('Baker’s', 1), (':)))', 1), ('happened', 1), ('Committee.', 1), ('passed,', 1), ('Comms.', 1), ('possibility', 1), ('drownings', 1), ('weekend.', 1), (\"Let's\", 1), ('doing', 1), ('fought', 1), ('W.', 1), ('better', 1), ('Comer.', 1), ('died', 1), ('lot', 1), ('online.', 1), ('higher', 1), ('introducing', 1), ('dinner', 1), ('up!', 1), ('cancel…and', 1), ('advocate', 1), ('cause', 1), ('disagreement', 1), ('took', 1), ('group', 1), ('any', 1), ('twenty', 1), ('since', 1), ('tie', 1), ('Alaska…', 1), ('me,', 1), ('schedule', 1), ('whole', 1), ('into', 1), ('Mom,', 1), ('crisis', 1), ('complete', 1), ('done,', 1), ('time.', 1), ('Cummings', 1), ('Drowning', 1), ('African', 1), ('autocorrect.', 1), ('woman.”', 1), ('old', 1), ('“If', 1), ('hot', 1), ('8:20am,', 1), ('Tom', 1), ('saying', 1), ('audience.', 1), ('life', 1), (\"I'll\", 1), ('debates.', 1), ('office.', 1), ('interview.', 1), ('critical', 1), ('debate', 1), ('convention.', 1), ('topics', 1), ('extra', 1), ('age', 1), ('minutes', 1), ('faced', 1), ('review', 1), ('now,', 1), ('Alaska.', 1), ('truly', 1), ('comfortable', 1), ('briefing,', 1), ('here.', 1), ('constitutional', 1), ('rollout', 1), ('Today?', 1), ('fund', 1), ('guest', 1), ('once,', 1), ('Director.', 1), ('pushed', 1), ('law.', 1), ('both', 1), ('NO', 1), ('fight', 1), ('After', 1), ('Miranda,', 1), ('holding', 1), ('HFA', 1), ('granddaughter', 1), ('helps', 1), ('teamed', 1), ('Good.', 1), ('family', 1), ('right?', 1), ('SoFla', 1), ('entertain', 1), ('tooth', 1), ('Our', 1), ('nail', 1), ('candidates’', 1), ('nominee', 1), ('Jewish', 1), ('drain.', 1), ('thought', 1), ('Coburn,', 1), ('Well,', 1), ('sign', 1), ('James', 1), ('POTUS', 1), ('2008,', 1), ('go...AGAIN!', 1), ('introduction', 1), ('served', 1), ('Terri', 1), ('them.', 1), ('tonight', 1), ('became', 1), ('Care', 1), ('voice', 1), ('becoming', 1), ('early.', 1), ('47', 1), ('bring', 1), ('according', 1), ('committees', 1), ('Chairwoman’s', 1), (\"that's\", 1), ('defer', 1), ('Luis,', 1), ('Act,', 1), ('got', 1), ('Sheila', 1), ('2011,', 1), ('obstructionist', 1), ('battle', 1), ('use.', 1), ('bit', 1), ('sponsored', 1), ('values', 1), ('briefings', 1), ('speech?', 1), ('slap', 1), ('twin’s', 1), ('begin', 1), ('incredible', 1), ('nomination', 1), ('bill', 1), ('quickly', 1), ('initial', 1), ('Her', 1), ('Are', 1), ('busiest', 1), ('one,', 1), ('Bush', 1), ('page', 1), ('Baker', 1), ('winning', 1), ('Spa', 1), ('earned.', 1), ('led', 1), ('sanctioned\\u200e', 1), ('seen', 1), ('funds', 1), ('Joe', 1), ('Communications', 1), ('Schultz’s', 1), ('statement?', 1), ('mountains', 1), ('background,', 1), ('Kay', 1), ('Executive', 1), ('forwarded', 1), ('draw', 1), ('Thanks!', 1), ('responses', 1), ('know,', 1), ('goals', 1), ('today.', 1), ('button', 1), ('point', 1), ('directs', 1), ('head!', 1), ('driving', 1), ('criminals', 1), ('wrong.', 1), ('down', 1), ('least.', 1), ('frightening', 1), ('providers,', 1), ('ask', 1), ('numbers', 1), ('trapped', 1), ('statements', 1), ('They', 1), ('Need', 1), ('Great.', 1), ('plank', 1), ('Benghazi,', 1), ('1,800', 1), ('needs', 1), ('legislature', 1), ('unintentional', 1), ('true', 1), (\"they've\", 1), ('Schultz!', 1), ('2007,', 1), ('Control', 1), ('minimum', 1), ('making', 1), (\"DNC's\", 1), ('Can', 1), ('office', 1), ('communicating', 1), ('campaigning', 1), ('virus', 1), ('glaciers.', 1), ('Since', 1), ('requests.', 1), ('D.C.,', 1), ('$15', 1), ('me.', 1), ('women,', 1), ('Centers', 1), ('introduce', 1), ('reelection,', 1), ('Charlie.', 1), ('Disease', 1), ('disease.', 1), ('working', 1), ('used', 1), ('&', 1), ('Virginia', 1), ('Protect', 1), ('daughter', 1), ('reviewing?', 1), ('fact', 1), ('26', 1), ('control', 1), ('staff', 1), ('Excellent!', 1), ('please', 1), ('job', 1), ('them?', 1), ('bill,', 1), ('welcome', 1), ('Biden', 1), ('across', 1), ('risk', 1), ('copied', 1), ('supposed', 1), ('approved', 1), ('May', 1), ('set', 1), ('Learning', 1), ('personally', 1), ('Yep.', 1), ('hide.', 1), ('campaign', 1), ('Education', 1), ('asking', 1), ('especially', 1), ('standing', 1), ('AND', 1), ('big', 1), ('evening', 1), ('don’t', 1), ('Steinau', 1), ('requests', 1), ('TWICE!', 1), ('track', 1), ('drafting', 1), ('reply.', 1), ('Let', 1), ('Introduction', 1), ('agreement', 1), ('enforcement', 1), ('knows', 1), ('again:', 1), ('surgeries,', 1), ('helpful', 1), ('forward,', 1), ('started,', 1), ('Oh', 1), ('grrrreeaattt.', 1), ('due', 1), ('face', 1), ('wants', 1), ('continue', 1), ('constituents', 1), ('Ouch.', 1), ('reality', 1)]\n"
     ]
    }
   ],
   "source": [
    "print(userA.vocabulary_raw)\n",
    "vocab_list = userA.vocabulary_raw.split(' ')\n",
    "print(Counter(vocab_list).most_common())"
   ]
  },
  {
   "cell_type": "markdown",
   "metadata": {},
   "source": [
    "Ew, can we get something more representative?\n",
    "Hint: Remove some words..."
   ]
  },
  {
   "cell_type": "code",
   "execution_count": 163,
   "metadata": {},
   "outputs": [
    {
     "name": "stdout",
     "output_type": "stream",
     "text": [
      "[('the', 193), ('to', 148), ('and', 90), ('a', 79), ('that', 70), ('is', 60), ('of', 59), ('in', 54), ('for', 48), ('Wasserman', 43), ('I', 34), ('on', 32), ('have', 27), ('Schultz', 27), ('it', 26), ('be', 24), ('at', 22), ('his', 22), ('he', 22), ('this', 22), ('was', 21), ('with', 21), ('We', 21), ('she', 20), ('Sanders', 20), ('been', 20), ('we', 20), ('you', 20), ('Debbie', 18), ('about', 18), ('by', 18), ('her', 18), ('The', 17), ('has', 17), ('DNC', 16), ('my', 16), ('as', 15), ('not', 14), ('from', 14), ('they', 14), ('one', 14), ('are', 14), ('when', 13), ('tax', 12), ('—', 12), ('just', 11), ('but', 11), ('This', 11), ('up', 11), ('if', 11), ('Trump', 11), ('do', 11), ('Democratic', 11), ('first', 10), ('can', 10), ('an', 10), ('Chair', 10), ('Clinton', 10), ('get', 10), (\"Schultz's\", 10), ('said', 10), ('going', 9), ('had', 9), ('there', 9), ('need', 9), ('what', 9), ('should', 9), ('being', 8), ('me', 8), ('before', 8), ('made', 8), ('Bernie', 8), ('no', 8), ('Jones', 8), ('would', 8), ('right', 8), ('As', 8), ('after', 8), ('our', 8), ('him', 8), ('who', 8), ('so', 8), ('will', 8), ('how', 8), ('She', 7), ('time', 7), ('or', 7), ('President', 7), ('primary', 7), ('did', 7), ('part', 7), ('people', 6), ('it.', 6), ('fuel', 6), ('make', 6), ('top', 6), ('says', 6), (\"you're\", 6), ('Here', 6), ('like', 6), ('went', 6), ('arrested', 6), ('out', 6), ('returns', 6), ('already', 6), ('fair', 6), ('some', 6), ('behavior', 6), ('very', 6), ('–', 6), ('said.', 5), ('families', 5), ('than', 5), ('over', 5), ('things', 5), ('these', 5), (\"don't\", 5), ('election', 5), ('problem', 5), ('edit', 5), ('those', 5), ('added', 5), ('changes.', 5), ('more', 5), (\"didn't\", 5), ('held', 5), ('which', 5), ('Okay.', 5), ('think', 5), ('Nevada', 4), ('threatening', 4), ('narrative', 4), ('call', 4), ('down.', 4), ('DWS', 4), ('your', 4), ('done', 4), ('voter', 4), ('whether', 4), ('interview', 4), ('party', 4), ('petition', 4), ('candidate', 4), ('Please', 4), ('race', 4), ('extent', 4), ('cannot', 4), ('wrote', 4), ('Committee', 4), ('calling', 4), (\"It's\", 4), ('Alaska', 4), ('want', 4), ('own', 4), ('might', 4), ('talk', 4), ('criticizing', 4), ('one.', 4), ('Yes,', 4), ('blame', 4), ('Hillary', 4), ('list', 4), ('much', 4), ('Chairwoman', 4), ('condemn', 4), ('If', 4), ('pundits', 4), ('-', 4), ('weekend', 4), ('violence', 4), ('Brzezinski', 4), ('press', 4), ('state', 4), ('supporters', 4), ('clear', 4), ('only', 4), ('second', 4), (\"Bernie's\", 4), ('could', 4), ('you’re', 4), ('others', 4), ('On', 4), ('go', 4), ('half', 4), ('argued', 4), ('them', 4), ('judged', 4), ('release', 4), ('running', 4), ('database', 4), ('But', 4), ('media', 4), ('National', 4), ('step', 4), (\"I'm\", 4), ('all,', 4), ('process', 4), ('...', 4), ('were', 4), ('Thanks.', 4), ('Where', 3), ('use', 3), ('fine.', 3), ('show', 3), ('many', 3), ('When', 3), ('believe', 3), ('candidate,', 3), ('Schultz,', 3), ('concern', 3), ('He', 3), ('And', 3), ('Republicans', 3), ('something', 3), ('sanctioned', 3), ('all', 3), ('edited', 3), ('events', 3), ('Good', 3), ('even', 3), ('story', 3), ('Obama', 3), ('What', 3), ('There', 3), ('That', 3), ('wouldn’t', 3), ('Congress', 3), ('feel', 3), ('view', 3), ('date', 3), ('strongly', 3), ('law', 3), ('fingers', 3), ('send', 3), ('members', 3), ('know', 3), ('include', 3), ('Just', 3), ('April', 3), ('though', 3), ('woman', 3), ('statement.', 3), ('host', 3), ('four', 3), ('young', 3), ('Okay,', 3), ('Donald', 3), ('Republican', 3), ('anticipate', 3), ('Now,', 3), ('now.', 3), ('It', 3), ('back', 3), ('last', 3), ('asked', 3), ('candidates', 3), ('women', 3), ('Florida', 3), ('progressive', 3), ('back.', 3), ('hardworking', 3), ('figure', 2), ('draft', 2), ('January,', 2), ('out.', 2), ('fire,”', 2), ('called', 2), ('villain', 2), ('additional', 2), ('Charles', 2), ('hotel.', 2), ('briefly', 2), ('earlier.', 2), ('groups.', 2), ('putting', 2), ('truth', 2), ('roughshod.', 2), ('2016', 2), ('divisionBy', 2), ('MoveOn.org', 2), ('“none', 2), ('Democrats', 2), ('Hayes,', 2), ('Hayes', 2), ('Slate', 2), ('join', 2), ('similar', 2), ('shortly', 2), ('you.', 2), ('unfair,', 2), ('favoring', 2), ('supporter,', 2), ('champion', 2), ('unhappiness', 2), ('share', 2), ('Another', 2), ('Dovere', 2), ('is.\"', 2), ('worded', 2), ('can’t', 2), ('rig', 2), ('Schultz].', 2), ('considered', 2), ('reply', 2), ('now', 2), ('violent', 2), ('nearly', 2), ('remove', 2), ('three', 2), ('refuses', 2), ('together.', 2), ('reports', 2), ('nights,', 2), ('are.', 2), ('heads', 2), ('again', 2), ('personal', 2), ('seems', 2), (\"Sanders's\", 2), ('its', 2), (\"Fix's\", 2), ('seriously,', 2), ('Tax', 2), ('glitch', 2), ('improperly', 2), ('year.', 2), ('\"anything', 2), ('certainly', 2), ('reporter', 2), ('\\u200esaid', 2), ('Wire\"', 2), ('following', 2), ('Van', 2), ('start.', 2), ('\"Wasserman', 2), ('business.”', 2), ('heading', 2), ('issued', 2), ('Chris', 2), ('us', 2), ('written', 2), ('thank', 2), ('rate,', 2), ('ouster', 2), ('leave', 2), ('includes', 2), ('platform', 2), ('frankly,', 2), ('signatures.', 2), ('spacing', 2), ('While', 2), ('(though', 2), ('tensions.', 2), ('each', 2), ('commentator', 2), ('Ross', 2), ('minimize', 2), ('weekend’s', 2), ('interviewer', 2), ('serious', 2), ('insulate', 2), ('taken', 2), ('during', 2), ('2012,', 2), ('fire', 2), ('Sorry,', 2), ('actually', 2), ('25', 2), ('this.', 2), ('far', 2), ('For', 2), ('start,\"', 2), ('Senator', 2), ('Gotcha.', 2), ('FYI.', 2), ('digital', 2), ('there’s', 2), ('unrelated', 2), (\"Hillary's\", 2), ('benefit', 2), ('Tuesday', 2), ('years', 2), ('cast', 2), ('continue.', 2), ('“probably', 2), ('plan.', 2), ('returns.', 2), ('Nevada,', 2), ('blared', 2), ('excited', 2), ('acting', 2), ('enrich', 2), ('today', 2), ('Fellow', 2), ('left-leaning', 2), ('telling', 2), ('anyone', 2), (\"isn't\", 2), ('issue', 2), ('staffer', 2), ('Callum', 2), ('[tax]', 2), ('reasons', 2), ('Alaska,', 2), ('Press', 2), ('Luis', 2), ('debates', 2), ('2014,', 2), ('enemies', 2), ('statement:“Trump’s', 2), ('underdog', 2), ('fire?', 2), ('serum,', 2), ('hear', 2), ('acknowledged', 2), ('White', 2), ('Immediate', 2), ('case', 2), ('\"The', 2), ('primary),', 2), ('Pierce', 2), ('spot', 2), ('#hypocrite', 2), (\"person's\", 2), ('reversed.', 2), ('2016Contact', 2), ('piece', 2), ('consternation', 2), ('against', 2), ('while', 2), ('Thursday', 2), ('denounce', 2), ('course,', 2), ('MUST', 2), ('differently.', 2), ('Huffington', 2), ('open', 2), ('everyone.', 2), ('beginning', 2), ('long-simmering', 2), ('tamp', 2), ('(Pierce,', 2), ('he’s', 2), ('confidential', 2), ('convention.)', 2), ('keeps', 2), ('plenty', 2), ('handled', 2), ('GOP', 2), ('debate,', 2), ('note,', 2), ('debates,', 2), ('questions', 2), ('suspending', 2), ('allowed', 2), ('breast', 2), ('Or', 2), ('First', 2), ('handling', 2), ('Schultz,\"', 2), ('named', 2), ('health', 2), ('birthday', 2), ('increasingly', 2), ('access', 2), ('side', 2), ('December.', 2), ('\"Fire', 2), ('performance.', 2), ('institutionally', 2), ('declared', 2), ('whatever', 2), ('given', 2), ('down.\"', 2), ('to-the-point', 2), ('really', 2), ('heard', 2), ('Day.Of', 2), ('pull', 2), ('season', 2), (\"it's\", 2), ('instead', 2), ('exploited', 2), (\"Esquire's\", 2), ('growing\"', 2), ('virtually', 2), ('Thanks', 2), ('farther', 2), ('speaking', 2), ('recently,', 2), ('returns”', 2), ('CNN', 2), ('1999,', 2), ('morning', 2), ('clearly', 2), ('FOX', 2), ('statement,', 2), ('run', 2), ('Post', 2), ('response', 2), ('scuffle', 2), ('incident', 2), ('Particularly', 2), ('Janell', 2), ('day,', 2), ('moves', 2), ('\"Debbie', 2), ('fellow', 2), ('ultimately', 2), ('honest', 2), ('\"It', 2), ('Barack', 2), ('worse', 2), ('prefers', 2), (\"he's\", 2), ('season.', 2), ('No', 2), ('on:', 2), ('done,\"', 2), ('alone', 2), ('scheduling', 2), ('meanwhile,', 2), ('contest', 2), ('with:', 2), ('facilitate', 2), ('himself', 2), ('rallies', 2), ('front-runner.', 2), ('left', 2), ('delays', 2), ('appointed', 2), ('chair,', 2), ('revision', 2), ('Thank', 2), ('sees', 2), ('1st', 2), ('WASHINGTON', 2), ('76,146', 2), ('Wednesday,', 2), ('year', 2), ('quite', 2), ('early', 2), ('So,', 2), ('marginally', 2), ('Borchers', 2), ('CREDO', 2), ('come.https://www.washingtonpost.com/news/the-fix/wp/2016/05/19/liberal-pundits-blame-debbie-wasserman-schultz-not-bernie-sanders-for-democrats-division/', 2), ('boss,', 2), (\"Action's\", 2), ('imagined.', 2), ('same', 2), ('assaulting', 2), ('also', 2), ('\\u200eGood', 2), ('scale.', 2), ('condemning', 2), ('Damn', 2), ('No,', 2), ('March', 2), ('drags', 2), ('always', 2), ('elected', 2), ('mean', 2), ('national', 2), ('lengthy', 2), ('does.', 2), ('voters', 2), ('ran.', 2), ('campaign.', 2), ('difficult', 2), ('60,525.', 2), ('with”', 2), ('argument', 2), ('violence.', 2), ('MSNBC’s', 2), ('Statement', 2), ('86,291.', 2), ('(six)', 2), ('arrests', 2), ('entire', 2), ('Edward-Isaac', 2), ('poorly', 2), ('nominee,', 2), ('snapped', 2), ('push', 2), ('House,', 2), ('long', 2), ('Mika', 2), ('divisive', 2), ('probably,', 2), ('let', 2), ('vastly', 2), ('expense', 2), ('Sure.', 2), (\"campaign's\", 2), ('Reid???', 2), ('give', 2), ('say,', 2), ('acknowledges', 2), ('P.', 2), ('\"This', 2), ('general', 2), ('support', 2), ('liberal', 2), ('Democrats’', 2), ('complaints', 2), ('am', 2), ('morning,', 2), ('Tuesday,', 2), ('Change.org', 2), ('media.', 2), ('[Wasserman', 2), ('American', 2), ('nominating', 2), ('obviously,', 2), ('leaders', 2), ('election,', 2), ('turned', 2), ('disunity', 2), ('resign', 2), ('advocacy', 2), ('person', 2), ('responds', 2), ('releasing', 2), ('ReleaseMay', 2), ('told', 2), ('recognize', 2), ('word,', 2), ('Atlanta', 2), ('actor', 2), ('purported', 2), ('202-863-8148', 2), ('Sanders,', 2), ('drop', 2), ('Election', 2), ('headline', 2), (\"Politico's\", 2), ('choosing', 2), ('ten', 2), ('important', 2), ('former', 2), ('he,', 2), ('wealth', 2), ('refusal', 2), (\"can't\", 2), ('“It', 2), ('adding', 2), ('pinning', 2), ('balance?', 2), ('exposure', 2), ('Pierce,', 2), ('outcome,', 2), ('sure', 2), ('disclose', 2), ('Israel', 2), ('well', 2), ('scummy', 2), ('frustration.', 2), ('Later,', 2), ('must', 2), ('happen.', 2), ('finds', 2), ('close', 2), ('fair.', 2), ('A', 2), ('goes.', 2), ('released', 2), ('heat', 2), ('wind', 2), ('come', 2), ('system', 2), ('accusations', 2), ('information', 2), ('inevitable,', 2), ('reckless', 2), ('penalty', 2), ('hiding,', 2), ('problem,', 2), ('gave', 2), ('children', 2), ('raises', 2), ('liar.', 2), ('number', 2), ('occurred.', 2), ('software', 2), ('shake.', 2), ('great', 2), ('guys.', 2), ('their', 2), ('almost', 2), ('impossible', 2), ('once', 2), ('refusing', 2), ('allegedly', 2), ('barely', 2), ('dates', 2), ('while.', 2), ('eventually', 2), ('convention', 2), ('acceptable.\"', 2), ('In', 2), ('taking', 2), ('supporter.', 2), ('resign.', 2), ('having', 2), ('minimum,', 2), ('approval', 2), ('“at', 2), ('raged', 2), ('5', 2), ('happen', 2), ('Top', 2), ('website', 2), ('situation', 2), ('under', 2), ('strongly.', 2), ('shake,', 2), ('see', 2), ('discuss', 2), ('Act.', 2), ('allow', 2), ('Act', 2), ('think?', 2), ('ReturnsThis', 2), ('MSNBC', 2), ('she,', 2), ('POSTLiberal', 2), ('sending.', 2), ('“She', 2), ('asap.', 2), ('violence,', 2), ('More', 2), ('Also,', 2), ('suspension', 2), ('chaotic', 2), ('too,', 2), ('side.', 2), ('then', 2), ('13,', 2), ('stubborn,', 2), ('pushback', 2), ('there.', 2), ('cancer', 2), ('backers', 2), ('statement', 2), ('go.', 2), ('probably', 2), ('imposed', 2), ('drove', 2), ('forward', 2), ('president.”', 2), ('haven’t', 2), ('least', 2), ('presidential', 2), ('starts,', 2), ('stronger,', 2), ('Liberal', 2), ('double', 2), ('competitive', 2), ('President,', 2), ('Wendell', 2), ('pays', 2), ('perception', 2), ('fourth.', 2), ('Will', 2), ('below.', 2), ('', 1), ('State', 1), ('asap', 1), ('sent', 1), ('trip', 1), ('TV', 1), ('DNCC', 1), ('participated', 1), ('non-negotiable.', 1), ('twins.', 1), ('politics', 1), ('freed', 1), ('Who', 1), ('voting.', 1), ('state.', 1), ('Shelby!', 1), ('exploiting', 1), ('Hahaha.', 1), ('[Brown]', 1), ('alongside', 1), ('np.', 1), ('My', 1), ('conference', 1), ('Jodi.', 1), ('anything', 1), ('Patrice', 1), ('Approps', 1), ('produce', 1), ('Florida.', 1), ('speak', 1), ('Steve', 1), ('black', 1), ('from.', 1), ('youngest', 1), ('+', 1), ('final', 1), ('weeks', 1), ('seeing', 1), ('finance', 1), ('where', 1), ('too', 1), ('seven', 1), ('Kornacki,', 1), ('encourage', 1), ('mixed', 1), ('testament', 1), ('upload', 1), ('everyone', 1), ('country', 1), ('Member', 1), ('Even', 1), ('Yes.', 1), ('nominated', 1), ('require', 1), ('never', 1), ('treasures', 1), ('Welcome', 1), (\"HRC's\", 1), ('she’s', 1), ('pool', 1), ('traveled', 1), ('Affordable', 1), ('vote', 1), ('tools', 1), ('Did', 1), ('She’s', 1), ('\\u200eHere', 1), ('heart', 1), ('stuff', 1), ('care', 1), ('received', 1), ('understand', 1), ('championship', 1), ('evening.', 1), ('12', 1), ('career.', 1), (\"She's\", 1), ('is.', 1), ('Casey', 1), ('church', 1), ('parties.', 1), ('Shelby', 1), ('couldn’t', 1), ('https://www.washingtonpost.com/opinions/sanderss-scorched-earth-campaign-is-a-gift-to-trump/2016/05/19/b2f582b4-1ded-11e6-9c81-4be1c14fb8c8_story.html', 1), ('Wait,', 1), ('Tracie', 1), ('other', 1), ('cancer.', 1), ('likely', 1), ('Next,', 1), ('Party', 1), ('preamble', 1), ('Sucks', 1), ('hectic', 1), (\"shouldn't\", 1), ('such', 1), ('sponsor', 1), ('Safety', 1), ('world', 1), ('Before', 1), ('Obama,', 1), ('resources', 1), ('legalistic', 1), ('changes', 1), ('help', 1), ('meet', 1), ('entrapments', 1), ('reins', 1), ('process.', 1), ('dinner.', 1), ('offs', 1), ('Washington,', 1), ('provides', 1), ('committees\\u200e', 1), ('pass', 1), ('fully', 1), ('Alaska’s', 1), ('whoever', 1), ('special', 1), ('separation', 1), ('that.', 1), ('husband', 1), ('cook', 1), ('action', 1), ('true.', 1), ('familiar,', 1), ('wait', 1), ('establishment', 1), ('Children', 1), ('Requires', 1), ('anchor?', 1), ('not!!', 1), ('passed', 1), ('do?', 1), ('stronger.', 1), ('Not', 1), ('wage,', 1), ('adventurous', 1), ('Graeme', 1), (\"there's\", 1), ('192', 1), ('supporting', 1), ('anchors.', 1), ('major', 1), ('DNC:', 1), ('crossed', 1), ('afternoon.', 1), ('children,', 1), ('wake', 1), ('etc.', 1), ('enthusiasm', 1), ('moderate', 1), ('Michelle', 1), ('busy', 1), ('###,', 1), ('delegates', 1), ('start', 1), ('redeye', 1), ('story.', 1), ('167', 1), ('genetic', 1), ('Huh?', 1), ('else', 1), ('awareness', 1), ('YES!', 1), ('Schultz?', 1), ('acknowledge', 1), ('privacy', 1), ('times', 1), ('course', 1), ('Schiavo’s', 1), ('may', 1), ('lead', 1), ('cherishes', 1), ('fact,', 1), ('ago', 1), ('tell', 1), ('chair', 1), ('Congress,', 1), ('high', 1), ('hoping', 1), ('Agreed.', 1), ('Virginia.', 1), ('completely', 1), ('electing', 1), ('Young', 1), ('country.', 1), ('Secretary', 1), ('home', 1), ('weekday', 1), ('Pool', 1), ('found', 1), ('refer', 1), ('emails,', 1), ('Democrats!!', 1), ('mins,', 1), ('South', 1), ('keep', 1), ('You', 1), ('Zika', 1), ('quietly', 1), ('based', 1), ('at-large', 1), ('disturbing.', 1), ('educate', 1), ('EARLY', 1), ('Convention.', 1), ('Schultz.', 1), ('build', 1), ('mind', 1), ('George', 1), ('legislator.', 1), ('stood', 1), ('covering', 1), ('death', 1), ('17th', 1), ('years.', 1), ('Shocker.', 1), ('asked,', 1), ('U.S.', 1), ('head,', 1), ('replied.', 1), ('Awareness', 1), ('states', 1), ('prosecute', 1), ('work.', 1), ('anchors', 1), ('this?', 1), ('Baker’s', 1), (':)))', 1), ('happened', 1), ('Committee.', 1), ('passed,', 1), ('Comms.', 1), ('possibility', 1), ('drownings', 1), ('weekend.', 1), (\"Let's\", 1), ('doing', 1), ('fought', 1), ('W.', 1), ('better', 1), ('Comer.', 1), ('died', 1), ('lot', 1), ('online.', 1), ('higher', 1), ('introducing', 1), ('dinner', 1), ('up!', 1), ('cancel…and', 1), ('advocate', 1), ('cause', 1), ('disagreement', 1), ('took', 1), ('group', 1), ('any', 1), ('twenty', 1), ('since', 1), ('tie', 1), ('Alaska…', 1), ('me,', 1), ('schedule', 1), ('whole', 1), ('into', 1), ('Mom,', 1), ('crisis', 1), ('complete', 1), ('done,', 1), ('time.', 1), ('Cummings', 1), ('Drowning', 1), ('African', 1), ('autocorrect.', 1), ('woman.”', 1), ('old', 1), ('“If', 1), ('hot', 1), ('8:20am,', 1), ('Tom', 1), ('saying', 1), ('audience.', 1), ('life', 1), (\"I'll\", 1), ('debates.', 1), ('office.', 1), ('interview.', 1), ('critical', 1), ('debate', 1), ('convention.', 1), ('topics', 1), ('extra', 1), ('age', 1), ('minutes', 1), ('faced', 1), ('review', 1), ('now,', 1), ('Alaska.', 1), ('truly', 1), ('comfortable', 1), ('briefing,', 1), ('here.', 1), ('constitutional', 1), ('rollout', 1), ('Today?', 1), ('fund', 1), ('guest', 1), ('once,', 1), ('Director.', 1), ('pushed', 1), ('law.', 1), ('both', 1), ('NO', 1), ('fight', 1), ('After', 1), ('Miranda,', 1), ('holding', 1), ('HFA', 1), ('granddaughter', 1), ('helps', 1), ('teamed', 1), ('Good.', 1), ('family', 1), ('right?', 1), ('SoFla', 1), ('entertain', 1), ('tooth', 1), ('Our', 1), ('nail', 1), ('candidates’', 1), ('nominee', 1), ('Jewish', 1), ('drain.', 1), ('thought', 1), ('Coburn,', 1), ('Well,', 1), ('sign', 1), ('James', 1), ('POTUS', 1), ('2008,', 1), ('go...AGAIN!', 1), ('introduction', 1), ('served', 1), ('Terri', 1), ('them.', 1), ('tonight', 1), ('became', 1), ('Care', 1), ('voice', 1), ('becoming', 1), ('early.', 1), ('47', 1), ('bring', 1), ('according', 1), ('committees', 1), ('Chairwoman’s', 1), (\"that's\", 1), ('defer', 1), ('Luis,', 1), ('Act,', 1), ('got', 1), ('Sheila', 1), ('2011,', 1), ('obstructionist', 1), ('battle', 1), ('use.', 1), ('bit', 1), ('sponsored', 1), ('values', 1), ('briefings', 1), ('speech?', 1), ('slap', 1), ('twin’s', 1), ('begin', 1), ('incredible', 1), ('nomination', 1), ('bill', 1), ('quickly', 1), ('initial', 1), ('Her', 1), ('Are', 1), ('busiest', 1), ('one,', 1), ('Bush', 1), ('page', 1), ('Baker', 1), ('winning', 1), ('Spa', 1), ('earned.', 1), ('led', 1), ('sanctioned\\u200e', 1), ('seen', 1), ('funds', 1), ('Joe', 1), ('Communications', 1), ('Schultz’s', 1), ('statement?', 1), ('mountains', 1), ('background,', 1), ('Kay', 1), ('Executive', 1), ('forwarded', 1), ('draw', 1), ('Thanks!', 1), ('responses', 1), ('know,', 1), ('goals', 1), ('today.', 1), ('button', 1), ('point', 1), ('directs', 1), ('head!', 1), ('driving', 1), ('criminals', 1), ('wrong.', 1), ('down', 1), ('least.', 1), ('frightening', 1), ('providers,', 1), ('ask', 1), ('numbers', 1), ('trapped', 1), ('statements', 1), ('They', 1), ('Need', 1), ('Great.', 1), ('plank', 1), ('Benghazi,', 1), ('1,800', 1), ('needs', 1), ('legislature', 1), ('unintentional', 1), ('true', 1), (\"they've\", 1), ('Schultz!', 1), ('2007,', 1), ('Control', 1), ('minimum', 1), ('making', 1), (\"DNC's\", 1), ('Can', 1), ('office', 1), ('communicating', 1), ('campaigning', 1), ('virus', 1), ('glaciers.', 1), ('Since', 1), ('requests.', 1), ('D.C.,', 1), ('$15', 1), ('me.', 1), ('women,', 1), ('Centers', 1), ('introduce', 1), ('reelection,', 1), ('Charlie.', 1), ('Disease', 1), ('disease.', 1), ('working', 1), ('used', 1), ('&', 1), ('Virginia', 1), ('Protect', 1), ('daughter', 1), ('reviewing?', 1), ('fact', 1), ('26', 1), ('control', 1), ('staff', 1), ('Excellent!', 1), ('please', 1), ('job', 1), ('them?', 1), ('bill,', 1), ('welcome', 1), ('Biden', 1), ('across', 1), ('risk', 1), ('copied', 1), ('supposed', 1), ('approved', 1), ('May', 1), ('set', 1), ('Learning', 1), ('personally', 1), ('Yep.', 1), ('hide.', 1), ('campaign', 1), ('Education', 1), ('asking', 1), ('especially', 1), ('standing', 1), ('AND', 1), ('big', 1), ('evening', 1), ('don’t', 1), ('Steinau', 1), ('requests', 1), ('TWICE!', 1), ('track', 1), ('drafting', 1), ('reply.', 1), ('Let', 1), ('Introduction', 1), ('agreement', 1), ('enforcement', 1), ('knows', 1), ('again:', 1), ('surgeries,', 1), ('helpful', 1), ('forward,', 1), ('started,', 1), ('Oh', 1), ('grrrreeaattt.', 1), ('due', 1), ('face', 1), ('wants', 1), ('continue', 1), ('constituents', 1), ('Ouch.', 1), ('reality', 1)]\n"
     ]
    }
   ],
   "source": [
    "stop_words_list = []\n",
    "vocab = [a for a in vocab_list if a not in stop_words_list]\n",
    "print(Counter(vocab).most_common())"
   ]
  },
  {
   "cell_type": "markdown",
   "metadata": {},
   "source": [
    "## Part 3: \n",
    "Now let's do the last part of this session, let's see if we can extract some interesting topics from the emails.\n",
    "In particular, we want to find what person A and person B are talking about.\n",
    "\n",
    "We are interested in looking at the function:\n",
    "\n",
    "1. user.get_topics_correspondents     \n",
    "2. get_topics   \n",
    "3. get_keywords\n",
    "\n",
    "Defined above!"
   ]
  },
  {
   "cell_type": "code",
   "execution_count": 199,
   "metadata": {
    "collapsed": true
   },
   "outputs": [],
   "source": [
    "def get_top_words(dictionary, exclude=[]):\n",
    "    all_words = []\n",
    "    if len(dictionary['topics'])==0:\n",
    "        pass\n",
    "    else:\n",
    "        for a,b in dictionary['topics']:\n",
    "            all_words.append(a)\n",
    "    for key in list(dictionary['keywords'].keys()):\n",
    "        temp = []\n",
    "        if len(dictionary['email'])==0:\n",
    "            return \n",
    "        temp = dictionary['keywords'][key]\n",
    "        if len(temp) < 2:\n",
    "            continue\n",
    "        count = Counter(temp)\n",
    "        for a, b in count.most_common(1): #for example \n",
    "            all_words.append(a)\n",
    "            \n",
    "    all_words = [a for a in all_words if a not in exclude]\n",
    "    \n",
    "    print('Email: ', dictionary['email'], 'To: ', dictionary['correspondent'],\\\n",
    "          'Words: ', all_words)"
   ]
  },
  {
   "cell_type": "code",
   "execution_count": 200,
   "metadata": {},
   "outputs": [
    {
     "name": "stdout",
     "output_type": "stream",
     "text": [
      "Count \t Email \t \t \t Name\n",
      "1780 \t mirandal@dnc.org \t Miranda, Luis\n",
      "1518 \t hendricksl@dnc.org \t Hendricks, Lauren\n",
      "1319 \t brinsterj@dnc.org \t Brinster, Jeremy\n",
      "1110 \t walkere@dnc.org \t Walker, Eric\n",
      "1104 \t dncpress@dnc.org \t DNC Press\n",
      "1098 \t sargem@dnc.org \t Sarge, Matthew\n",
      "1077 \t freundlichc@dnc.org \t Freundlich, Christina\n",
      "1032 \t comers@dnc.org \t Comer, Scott\n",
      "892 \t garciaw@dnc.org \t Garcia, Walter\n",
      "889 \t bhatnagara@dnc.org \t Bhatnagar, Akshai\n"
     ]
    }
   ],
   "source": [
    "tab = DataObject.get_top_spammers(ntop=10)\n",
    "top_s = [a[1] for a in tab]\n",
    "\n",
    "graph = []\n",
    "\n",
    "email = \"hrtsleeve@gmail.com\"\n",
    "userA = user(DataObject,email)\n",
    "for key in userA.correspondents_count.keys():\n",
    "        graph.append({'email': email, 'correspondent': key, 'topics': userA.correspondents_topics[key], 'keywords': userA.correspondents_keywords[key], 'count': userA.correspondents_count[key]})\n",
    "\n",
    "import pickle        \n",
    "pickle.dump(graph, open('graph_topics_dict_t.pkl','wb'))\n",
    "#a = pickle.load(open('graph_topics_dict_t.pkl','rb'))"
   ]
  },
  {
   "cell_type": "code",
   "execution_count": 201,
   "metadata": {},
   "outputs": [
    {
     "name": "stdout",
     "output_type": "stream",
     "text": [
      "Email:  hrtsleeve@gmail.com To:  paustenbachm@dnc.org Words:  ['We', 'worded', 'statement', 'liar', 'Damn', 'Democratic', 'Capitol', 'CNN', 'Nevada', '’s Indiana primary', 'the Hillary Victory Fund', 'Sanders', 'the Bay Area']\n",
      "Email:  hrtsleeve@gmail.com To:  mirandal@dnc.org Words:  ['Wasserman', 'Schultz', 'Sanders', 'We', 'Good', 'Democratic', 'Nevada Democratic', 'DNC', 'Miranda', 'the Election Law Blog', 'Sanders', 'Holocaust', 'Sanders']\n",
      "Email:  hrtsleeve@gmail.com To:  allenz@dnc.org Words:  []\n",
      "Email:  hrtsleeve@gmail.com To:  ldd@demconvention.com Words:  []\n",
      "Email:  hrtsleeve@gmail.com To:  houghtonk@dnc.org Words:  ['Florida', 'Wasserman', 'Alaska', 'We', 'Debbie', 'American', 'Interview CNN New Day', 'Alaska', 'Debbie Wasserman Schultz']\n",
      "Email:  hrtsleeve@gmail.com To:  pought@dnc.org Words:  ['strongly', 'Here', 'important', 'alongside', 'point', 'INVALUABLE', 'Kate']\n",
      "Email:  hrtsleeve@gmail.com To:  bonoskyg@dnc.org Words:  ['mins', 'time', 'freed', 'Comer', 'Approps', 'Democrat', 'Line Drawing', 'Banfill', 'Hurricane Mailer Description', 'Page']\n",
      "Email:  hrtsleeve@gmail.com To:  ldaughtry@demconvention.com Words:  ['tie', 'review', 'quickly', 'dinner', 'right', 'AM', 'Philadelphia', 'Democratic National Convention Committee July 25', 'Leah D. Daughtry']\n",
      "Email:  hrtsleeve@gmail.com To:  banfillr@dnc.org Words:  ['tax', 'Thanks', 'year', 'returns', 'If', 'Republican', 'Anchor/Reporter Topic', 'Banfill', 'International Day', 'Ryan']\n",
      "Email:  hrtsleeve@gmail.com To:  greg@palisadesassociates.com Words:  ['DNC', 'Luis']\n",
      "Email:  hrtsleeve@gmail.com To:  erik@blueenginemedia.com Words:  ['extra', 'understand', 'make', 'No', 'As', 'DNC', 'Sanders']\n"
     ]
    }
   ],
   "source": [
    "for e in graph:\n",
    "    exclude_words = []\n",
    "    get_top_words(e, exclude = exclude_words)"
   ]
  },
  {
   "cell_type": "code",
   "execution_count": 177,
   "metadata": {
    "collapsed": true
   },
   "outputs": [],
   "source": [
    "#exclude_words = [DataObject.EMAIL2NAME[e['email']][0], DataObject.EMAIL2NAME[e['correspondent']][0], e['email'], e['correspondent'],\\\n",
    "#                    ] + DataObject.EMAIL2NAME[e['email']][0].split(',') + DataObject.EMAIL2NAME[e['correspondent']][0].split(',')\n",
    "    "
   ]
  },
  {
   "cell_type": "markdown",
   "metadata": {},
   "source": [
    "Maybe we can look at the top spammers keywords."
   ]
  },
  {
   "cell_type": "code",
   "execution_count": null,
   "metadata": {},
   "outputs": [
    {
     "name": "stdout",
     "output_type": "stream",
     "text": [
      "Count \t Email \t \t \t Name\n",
      "1780 \t mirandal@dnc.org \t Miranda, Luis\n",
      "1518 \t hendricksl@dnc.org \t Hendricks, Lauren\n",
      "1319 \t brinsterj@dnc.org \t Brinster, Jeremy\n",
      "1110 \t walkere@dnc.org \t Walker, Eric\n",
      "1104 \t dncpress@dnc.org \t DNC Press\n",
      "1098 \t sargem@dnc.org \t Sarge, Matthew\n",
      "1077 \t freundlichc@dnc.org \t Freundlich, Christina\n",
      "1032 \t comers@dnc.org \t Comer, Scott\n",
      "892 \t garciaw@dnc.org \t Garcia, Walter\n",
      "889 \t bhatnagara@dnc.org \t Bhatnagar, Akshai\n"
     ]
    }
   ],
   "source": [
    "tab = DataObject.get_top_spammers(ntop=10)\n",
    "top_s = [a[1] for a in tab]\n",
    "\n",
    "graph = []\n",
    "\n",
    "for email in top_s[0:10]:\n",
    "    userA = user(DataObject,email)\n",
    "    for key in userA.correspondents_count.keys():\n",
    "        graph.append({'email': email, 'correspondent': key, 'topics': userA.correspondents_topics[key], 'keywords': userA.correspondents_keywords[key], 'count': userA.correspondents_count[key]})\n",
    "\n",
    "for e in graph:\n",
    "    exclude_words = []\n",
    "    get_top_words(e, exclude = exclude_words)"
   ]
  },
  {
   "cell_type": "code",
   "execution_count": null,
   "metadata": {
    "collapsed": true
   },
   "outputs": [],
   "source": []
  },
  {
   "cell_type": "code",
   "execution_count": null,
   "metadata": {
    "collapsed": true
   },
   "outputs": [],
   "source": []
  }
 ],
 "metadata": {
  "kernelspec": {
   "display_name": "Python 3",
   "language": "python",
   "name": "python3"
  },
  "language_info": {
   "codemirror_mode": {
    "name": "ipython",
    "version": 3
   },
   "file_extension": ".py",
   "mimetype": "text/x-python",
   "name": "python",
   "nbconvert_exporter": "python",
   "pygments_lexer": "ipython3",
   "version": "3.5.3"
  }
 },
 "nbformat": 4,
 "nbformat_minor": 2
}
