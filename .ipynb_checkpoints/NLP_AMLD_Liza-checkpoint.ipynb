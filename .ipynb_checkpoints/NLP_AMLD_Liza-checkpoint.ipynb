{
 "cells": [
  {
   "cell_type": "markdown",
   "metadata": {
    "nbpresent": {
     "id": "d971cbd7-ca75-4410-8688-eb613ab45256"
    },
    "slideshow": {
     "slide_type": "slide"
    }
   },
   "source": [
    "# <span style=\"color:coral\">Machine Learning for News: Theory, Applications and Visualisation in Python.</span>\n",
    "### [Applied Machine Learning Days 2018, EPFL, Lausanne](https://www.appliedmldays.org/)\n",
    "# <span style=\"color:gold\">Deep Learning for Natural Language Processing</span>\n",
    "\n",
    "## Elizaveta Semenova\n",
    "\n",
    "### Ph.D. candidate, Swiss TPH, Basel\n",
    "elizaveta.p.semenova@gmail.com, elizavetasemenova.github.io"
   ]
  },
  {
   "cell_type": "markdown",
   "metadata": {
    "nbpresent": {
     "id": "86f6fb0a-5bbd-407d-b515-f9b77b08fe5a"
    },
    "slideshow": {
     "slide_type": "slide"
    }
   },
   "source": [
    "## Plan\n",
    "\n",
    "Today we will spend 2 hours together: 1h in the morning and 1h in the afternoon. \n",
    "\n",
    "In the morning we will cover the **tools** and in the afternoon we will use them to build **projects**.\n"
   ]
  },
  {
   "cell_type": "markdown",
   "metadata": {
    "slideshow": {
     "slide_type": "slide"
    }
   },
   "source": [
    "## Part 1: Introduction\n",
    "### <span style=\"color:coral\">1. Set up the envirnoment</span>\n",
    "### <span style=\"color:coral\">2. Jupyter notebooks</span>\n",
    "### <span style=\"color:coral\">3. NumPy</span>\n",
    "### <span style=\"color:coral\">4. A word on object-oriented programming</span>\n",
    "### <span style=\"color:coral\">5. Main ML concepts</span>   \n",
    "### <span style=\"color:coral\">6. Neural Networks and Deep Learning</span>"
   ]
  },
  {
   "cell_type": "markdown",
   "metadata": {
    "slideshow": {
     "slide_type": "slide"
    }
   },
   "source": [
    "## Part 2: Tools\n",
    "### <span style=\"color:coral\">7. Low level framework: Tensorflow</span>\n",
    "### <span style=\"color:coral\">8. High level framework: Keras</span>\n",
    "### <span style=\"color:coral\">9. Sequence modeling</span>\n",
    "### <span style=\"color:coral\">10. Speech to text</span>"
   ]
  },
  {
   "cell_type": "markdown",
   "metadata": {
    "slideshow": {
     "slide_type": "slide"
    }
   },
   "source": [
    "## Part 3: Projects\n",
    "### <span style=\"color:coral\">11. Project 1</span> \n",
    "### <span style=\"color:coral\">12. Project 2</span>\n",
    "### <span style=\"color:coral\">13. Project 3</span>"
   ]
  },
  {
   "cell_type": "markdown",
   "metadata": {
    "slideshow": {
     "slide_type": "slide"
    }
   },
   "source": [
    "As you can see, there is a lot to cover in those two hours! So..\n",
    "\n",
    "\n",
    "![alt text](pics_presentation/letsgo2.jpg \"text\")"
   ]
  },
  {
   "cell_type": "markdown",
   "metadata": {
    "slideshow": {
     "slide_type": "slide"
    }
   },
   "source": [
    "# Part 1: Introduction"
   ]
  },
  {
   "cell_type": "markdown",
   "metadata": {
    "nbpresent": {
     "id": "0d1b3c6c-169e-4a8b-bd97-05a8c325addb"
    },
    "slideshow": {
     "slide_type": "slide"
    }
   },
   "source": [
    "### <span style=\"color:coral\">1. Setting up the envirnoment</span>\n",
    "\n",
    "#### Virtual environments:\n",
    "Virtual environments allow to separate libraries and different versions of Python, used by different projects and avoid conflicts.\n",
    "\n",
    "The following instructions are here for your information. There is no need to go through all the steps yourself, rather use the provided amld.yml file, as shown in the last command.\n",
    "\n",
    "- Download anaconda \n",
    "\n",
    "  https://www.continuum.io/downloads\n"
   ]
  },
  {
   "cell_type": "markdown",
   "metadata": {
    "slideshow": {
     "slide_type": "slide"
    }
   },
   "source": [
    "From now on either follow the instructions below, or go to the last instruction and use the ditributed **amld.yml** file."
   ]
  },
  {
   "cell_type": "markdown",
   "metadata": {
    "slideshow": {
     "slide_type": "slide"
    }
   },
   "source": [
    "- Create a new environment:\n",
    "\n",
    "```conda create --name amld python=3```\n",
    "\n",
    "- List existing environments:\n",
    "\n",
    "```conda env list```"
   ]
  },
  {
   "cell_type": "markdown",
   "metadata": {
    "slideshow": {
     "slide_type": "slide"
    }
   },
   "source": [
    "- Enter the new environment on Mac/Linux:\n",
    "   \n",
    "```source activate amld```\n",
    "\n",
    "- Enter the new environment on Windows:\n",
    "\n",
    "```activate amld```    "
   ]
  },
  {
   "cell_type": "markdown",
   "metadata": {
    "slideshow": {
     "slide_type": "slide"
    }
   },
   "source": [
    "- Install packages:\n",
    "\n",
    "```conda install numpy matplotlib pandas jupyter notebook```"
   ]
  },
  {
   "cell_type": "markdown",
   "metadata": {
    "slideshow": {
     "slide_type": "slide"
    }
   },
   "source": [
    "\n",
    "- List all installed packages:\n",
    "\n",
    "```conda list```"
   ]
  },
  {
   "cell_type": "markdown",
   "metadata": {
    "slideshow": {
     "slide_type": "slide"
    }
   },
   "source": [
    "- Let us not forget TensorFlow and Keras, we will need them!\n",
    "\n",
    "```conda install tensorflow keras```"
   ]
  },
  {
   "cell_type": "markdown",
   "metadata": {
    "slideshow": {
     "slide_type": "slide"
    }
   },
   "source": [
    "- Open up the notebook server:\n",
    "\n",
    "```jupyter notebook```"
   ]
  },
  {
   "cell_type": "markdown",
   "metadata": {
    "slideshow": {
     "slide_type": "slide"
    }
   },
   "source": [
    "- To share an environment, we can export it into a *.yml file:\n",
    "\n",
    "```conda env export > amld.yml```"
   ]
  },
  {
   "cell_type": "markdown",
   "metadata": {
    "slideshow": {
     "slide_type": "slide"
    }
   },
   "source": [
    "- Create the environment from the amld.yml file:\n",
    "\n",
    "```conda env create -f amld.yml```"
   ]
  },
  {
   "cell_type": "markdown",
   "metadata": {
    "slideshow": {
     "slide_type": "slide"
    }
   },
   "source": [
    "- Remove an environment:\n",
    "\n",
    "```conda env remove -n env_name```"
   ]
  },
  {
   "cell_type": "markdown",
   "metadata": {
    "slideshow": {
     "slide_type": "slide"
    }
   },
   "source": [
    "#### Documentation:\n",
    "https://conda.io/docs/user-guide/tasks/manage-environments.html"
   ]
  },
  {
   "cell_type": "markdown",
   "metadata": {
    "slideshow": {
     "slide_type": "slide"
    }
   },
   "source": [
    "### <span style=\"color:coral\">2. Jupyter notebooks</span>\n",
    "\n",
    "Jupyter notebook is a web application for interactive computing. It allows to combine human readable text, executable code, visualizations and mathematical equations in one easily sharable document.\n",
    "\n",
    "**Jupyter** stands for **Ju**lia, **Py**thon, **R**. It grew out of the iPython project, that is why the extention of notebooks is **.ipynb**."
   ]
  },
  {
   "cell_type": "markdown",
   "metadata": {
    "slideshow": {
     "slide_type": "slide"
    }
   },
   "source": [
    "#### The server:\n",
    "\n",
    "- Launching the server\n",
    "\n",
    "```jupyter notebook```\n",
    "\n",
    "A web-browser will open, running your notebook as http://localhost:8888. \n",
    "\n",
    "- Shut down the server\n",
    "\n",
    "Ctrl+C"
   ]
  },
  {
   "cell_type": "markdown",
   "metadata": {
    "slideshow": {
     "slide_type": "slide"
    }
   },
   "source": [
    "#### Cells\n",
    "\n",
    "Jupyter notebook consists of logically separated units - cells. To perform operations with the cells we can either use the menu or, alternatively, the shortcuts."
   ]
  },
  {
   "cell_type": "markdown",
   "metadata": {
    "slideshow": {
     "slide_type": "slide"
    }
   },
   "source": [
    "#### Keyboard shortcuts\n",
    "\n",
    "All of the keyboard shortcuts are listed in Help. Here are some:\n",
    "\n",
    "   * <span style=\"color:magenta\">Enter + Shift</span> execute the current cell, go to the next cell\n",
    "   * <span style=\"color:magenta\">Esc + A</span> create a cell above the current cell\n",
    "   * <span style=\"color:magenta\">Esc + A</span> create a cell below the current cell\n",
    "   * <span style=\"color:magenta\">Esc + D + D</span> delete the cell\n",
    "   * <span style=\"color:magenta\">Esc + M</span> switch to Markdown mode\n",
    "   * <span style=\"color:magenta\">Esc + Y</span> switch to code mode\n",
    "   * <span style=\"color:magenta\">S</span> save notebook"
   ]
  },
  {
   "cell_type": "markdown",
   "metadata": {
    "slideshow": {
     "slide_type": "slide"
    }
   },
   "source": [
    "#### Converting notebook to presentations\n",
    "\n",
    "Since .ipyb is in fact a JSON file, it can be converted to other formats. For instance, one could make a presentation out if it (and this is how this presentation was made!)\n",
    "\n",
    "- Go to View > Cell Toolbar > Slideshow\n",
    "\n",
    "- Indicate for each cell the slide type\n",
    "- Run in the termilnal\n",
    "\n",
    "```jupyter nbconvert NLP_AMLD_Liza.ipynb --to slides --post serve```\n"
   ]
  },
  {
   "cell_type": "markdown",
   "metadata": {
    "slideshow": {
     "slide_type": "slide"
    }
   },
   "source": [
    "#### Documentation:\n",
    "http://jupyter.org/"
   ]
  }
 ],
 "metadata": {
  "celltoolbar": "Slideshow",
  "kernelspec": {
   "display_name": "Python 3",
   "language": "python",
   "name": "python3"
  },
  "language_info": {
   "codemirror_mode": {
    "name": "ipython",
    "version": 3
   },
   "file_extension": ".py",
   "mimetype": "text/x-python",
   "name": "python",
   "nbconvert_exporter": "python",
   "pygments_lexer": "ipython3",
   "version": "3.6.4"
  }
 },
 "nbformat": 4,
 "nbformat_minor": 2
}
