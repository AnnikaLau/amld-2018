{
 "cells": [
  {
   "cell_type": "markdown",
   "metadata": {},
   "source": [
    "# <span style=\"color:blue\">Machine Learning for News: Theory, Applications and Visualisation in Python</span>\n",
    "## <span style=\"color:green\">Deep Learning for Natural Language Processing</span>\n",
    "\n",
    "## Elizaveta Semenova\n",
    "\n",
    "### Ph.D. candidate, Swiss TPH, Basel\n",
    "elizaveta.p.semenova@gmail.com"
   ]
  },
  {
   "cell_type": "markdown",
   "metadata": {},
   "source": [
    "## Plan:\n",
    "\n",
    "1. Set up the envirnoment\n",
    "2. Main ML concepts\n",
    "    * Learning  = improving with experience at some task: improve at task T, with respect to performance measure P, based on experience E\n",
    "    * Typical workflow: 1).get raw data, 2).clean and prepare data, 3).train model, 4).test data, 5). iterate 3-4\n",
    "    * trainig/validation/test sets\n",
    "    * Learning rate\n",
    "3. Main NN/DL concepts\n",
    "    * non-linear function approximator: y = F(x, W), y- k-output, x- n0-input, W- weights (W_n0_n1, W_n1_n2, …) fits a smooth function\n",
    "    * perceptron (logistic regression)\n",
    "    * Neural Nets =  Input layer (x) + hidden layers (h) + output layer (y)\n",
    "    * DL = is the study of artificial neural networks containing more than one layer\n",
    "    * activation functions (sigmoid, ReLU, tanh - for nodes, sigmoid, softmax - for classification output, linear for regression output)\n",
    "    * Error functions (MSE for regression, cross-entropy for classification) \n",
    "    * feed-forward \n",
    "    * training  = back propagation (stochastic gradient decent): change the weights as to minimise the error\n",
    "    * drop out nodes\n",
    "4. Sentiment analysis \n",
    "    * two-layered NN built by hand\n",
    "5. Topic mining\n",
    "    * using backend\n",
    "6. Text summarization (Extractive, Abstractive)\n",
    "    * using backend"
   ]
  },
  {
   "cell_type": "markdown",
   "metadata": {},
   "source": [
    "### 1. Setting up the environment\n",
    "\n",
    "- Download anaconda.\n",
    "- Create a new environment:\n",
    "\n",
    "```conda create --n amld python=3```\n",
    "\n",
    "- Enter your new environment\n",
    "    \n",
    "    on Mac/Linux:\n",
    "   \n",
    "    ```source activate amld```\n",
    "   \n",
    "    on Windows: \n",
    "    \n",
    "    ```activate amld```\n",
    "\n",
    "\n",
    "- Take care of the libraries:\n",
    "\n",
    "```conda install numpy matplotlib pandas jupyter notebook```\n",
    "\n",
    "- Let us not forget tensorflow, we will need it!\n",
    "\n",
    "```pip install tensorflow```\n",
    "\n",
    "- Open up the notebook server:\n",
    "\n",
    "```jupyter notebook```\n",
    "\t\n",
    "~~~~ \n",
    "jupyter notebook\n",
    "~~~~"
   ]
  },
  {
   "cell_type": "code",
   "execution_count": null,
   "metadata": {},
   "outputs": [],
   "source": []
  }
 ],
 "metadata": {
  "kernelspec": {
   "display_name": "Python [conda env:amld]",
   "language": "python",
   "name": "conda-env-amld-py"
  },
  "language_info": {
   "codemirror_mode": {
    "name": "ipython",
    "version": 3
   },
   "file_extension": ".py",
   "mimetype": "text/x-python",
   "name": "python",
   "nbconvert_exporter": "python",
   "pygments_lexer": "ipython3",
   "version": "3.6.4"
  }
 },
 "nbformat": 4,
 "nbformat_minor": 2
}
