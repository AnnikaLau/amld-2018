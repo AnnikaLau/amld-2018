{
 "cells": [
  {
   "cell_type": "markdown",
   "metadata": {
    "nbpresent": {
     "id": "d971cbd7-ca75-4410-8688-eb613ab45256"
    },
    "slideshow": {
     "slide_type": "slide"
    }
   },
   "source": [
    "# <span style=\"color:coral\">Machine Learning for News: Theory, Applications and Visualisation in Python.</span>\n",
    "### [Applied Machine Learning Days 2018, EPFL, Lausanne](https://www.appliedmldays.org/)\n",
    "# <span style=\"color:gold\">Deep Learning for Natural Language Processing</span>\n",
    "\n",
    "## Elizaveta Semenova\n",
    "\n",
    "Ph.D. candidate, Swiss TPH, Basel\n",
    "\n",
    "elizaveta.p.semenova@gmail.com\n",
    "\n",
    "**elizavetasemenova.github.io**"
   ]
  },
  {
   "cell_type": "markdown",
   "metadata": {
    "nbpresent": {
     "id": "86f6fb0a-5bbd-407d-b515-f9b77b08fe5a"
    },
    "slideshow": {
     "slide_type": "slide"
    }
   },
   "source": [
    "## Plan\n",
    "\n",
    "Today we will spend 2 hours together: 1h in the morning and 1h in the afternoon. \n",
    "\n",
    "In the morning we will cover the **tools** and in the afternoon we will use them to build **projects**.\n"
   ]
  },
  {
   "cell_type": "markdown",
   "metadata": {
    "slideshow": {
     "slide_type": "slide"
    }
   },
   "source": [
    "## Part 1: Introduction and Tools\n",
    "### <span style=\"color:coral\">1. Set up the envirnoment</span>\n",
    "### <span style=\"color:coral\">2. Jupyter notebooks</span>\n",
    "### <span style=\"color:coral\">3. NumPy</span>\n",
    "### <span style=\"color:coral\">4. A word on object-oriented programming</span>\n",
    "### <span style=\"color:coral\">5. Relevant Machine Learning concepts</span>   \n",
    "### <span style=\"color:coral\">6. Neural Networks and Deep Learning</span>"
   ]
  },
  {
   "cell_type": "markdown",
   "metadata": {
    "slideshow": {
     "slide_type": "slide"
    }
   },
   "source": [
    "## Part 2: NLP Projects\n",
    "### <span style=\"color:coral\">7. Low level framework: Tensorflow</span>\n",
    "### <span style=\"color:coral\">8. A remark on Keras</span>\n",
    "### <span style=\"color:coral\">10. Speech to text</span>\n",
    "### <span style=\"color:coral\">11. Information retrieval</span> \n",
    "### <span style=\"color:coral\">12. Text summarization</span>\n",
    "### <span style=\"color:coral\">13. Fake news challenge</span>"
   ]
  },
  {
   "cell_type": "markdown",
   "metadata": {
    "slideshow": {
     "slide_type": "slide"
    }
   },
   "source": [
    "As you can see, there is a lot to cover in those two hours! So..\n",
    "\n",
    "\n",
    "![alt text](pics_presentation/letsgo2.jpg \"text\")"
   ]
  },
  {
   "cell_type": "markdown",
   "metadata": {
    "slideshow": {
     "slide_type": "slide"
    }
   },
   "source": [
    "# Part 1: Introduction"
   ]
  },
  {
   "cell_type": "markdown",
   "metadata": {
    "nbpresent": {
     "id": "0d1b3c6c-169e-4a8b-bd97-05a8c325addb"
    },
    "slideshow": {
     "slide_type": "slide"
    }
   },
   "source": [
    "### <span style=\"color:coral\">1. Setting up the envirnoment</span>\n",
    "\n",
    "#### Virtual environments:\n",
    "Virtual environments allow to separate libraries and different versions of Python, used by different projects and avoid conflicts.\n",
    "\n",
    "The following instructions are here for your information. There is no need to go through all the steps yourself, rather use the provided amld.yml file, as shown in the last command.\n",
    "\n",
    "- Download anaconda \n",
    "\n",
    "  https://www.continuum.io/downloads\n"
   ]
  },
  {
   "cell_type": "markdown",
   "metadata": {
    "slideshow": {
     "slide_type": "slide"
    }
   },
   "source": [
    "From now on either follow the instructions below, or go to the last instruction and use the ditributed **amld.yml** file."
   ]
  },
  {
   "cell_type": "markdown",
   "metadata": {
    "slideshow": {
     "slide_type": "slide"
    }
   },
   "source": [
    "- Create a new environment:\n",
    "\n",
    "```conda create --name amld python=3```\n",
    "\n",
    "- List existing environments:\n",
    "\n",
    "```conda env list```"
   ]
  },
  {
   "cell_type": "markdown",
   "metadata": {
    "slideshow": {
     "slide_type": "slide"
    }
   },
   "source": [
    "- Enter the new environment on Mac/Linux:\n",
    "   \n",
    "```source activate amld```\n",
    "\n",
    "- Enter the new environment on Windows:\n",
    "\n",
    "```activate amld```    "
   ]
  },
  {
   "cell_type": "markdown",
   "metadata": {
    "slideshow": {
     "slide_type": "slide"
    }
   },
   "source": [
    "- Install packages:\n",
    "\n",
    "```conda install numpy matplotlib pandas jupyter notebook```"
   ]
  },
  {
   "cell_type": "markdown",
   "metadata": {
    "slideshow": {
     "slide_type": "slide"
    }
   },
   "source": [
    "\n",
    "- List all installed packages:\n",
    "\n",
    "```conda list```"
   ]
  },
  {
   "cell_type": "markdown",
   "metadata": {
    "slideshow": {
     "slide_type": "slide"
    }
   },
   "source": [
    "- Let us not forget TensorFlow and Keras, we will need them!\n",
    "\n",
    "```conda install tensorflow keras```"
   ]
  },
  {
   "cell_type": "markdown",
   "metadata": {
    "slideshow": {
     "slide_type": "slide"
    }
   },
   "source": [
    "- Open up the notebook server:\n",
    "\n",
    "```jupyter notebook```"
   ]
  },
  {
   "cell_type": "markdown",
   "metadata": {
    "slideshow": {
     "slide_type": "slide"
    }
   },
   "source": [
    "- To share an environment, we can export it into a *.yml file:\n",
    "\n",
    "```conda env export > amld.yml```"
   ]
  },
  {
   "cell_type": "markdown",
   "metadata": {
    "slideshow": {
     "slide_type": "slide"
    }
   },
   "source": [
    "- Create the environment from the amld.yml file:\n",
    "\n",
    "```conda env create -f amld.yml```"
   ]
  },
  {
   "cell_type": "markdown",
   "metadata": {
    "slideshow": {
     "slide_type": "slide"
    }
   },
   "source": [
    "- Remove an environment:\n",
    "\n",
    "```conda env remove -n env_name```"
   ]
  },
  {
   "cell_type": "markdown",
   "metadata": {
    "slideshow": {
     "slide_type": "slide"
    }
   },
   "source": [
    "#### Documentation:\n",
    "https://conda.io/docs/user-guide/tasks/manage-environments.html"
   ]
  },
  {
   "cell_type": "markdown",
   "metadata": {
    "slideshow": {
     "slide_type": "slide"
    }
   },
   "source": [
    "### <span style=\"color:coral\">2. Jupyter notebooks</span>\n",
    "\n",
    "Jupyter notebook is a web application for interactive computing. It allows to combine human readable text, executable code, visualizations and mathematical equations in one easily sharable document.\n",
    "\n",
    "**Jupyter** stands for **Ju**lia, **Py**thon, **R**. It grew out of the iPython project, that is why the extention of notebooks is **.ipynb**."
   ]
  },
  {
   "cell_type": "markdown",
   "metadata": {
    "slideshow": {
     "slide_type": "slide"
    }
   },
   "source": [
    "#### The server:\n",
    "\n",
    "- Launching the server\n",
    "\n",
    "```jupyter notebook```\n",
    "\n",
    "A web-browser will open, running your notebook as http://localhost:8888. \n",
    "\n",
    "- Shut down the server\n",
    "\n",
    "Ctrl+C"
   ]
  },
  {
   "cell_type": "markdown",
   "metadata": {
    "slideshow": {
     "slide_type": "slide"
    }
   },
   "source": [
    "#### Cells\n",
    "\n",
    "Jupyter notebook consists of logically separated units - cells. To perform operations with the cells we can either use the menu or, alternatively, the shortcuts."
   ]
  },
  {
   "cell_type": "markdown",
   "metadata": {
    "slideshow": {
     "slide_type": "slide"
    }
   },
   "source": [
    "#### Keyboard shortcuts\n",
    "\n",
    "All of the keyboard shortcuts are listed in Help. Here are some:\n",
    "\n",
    "   * <span style=\"color:magenta\">Enter + Shift</span> execute the current cell, go to the next cell\n",
    "   * <span style=\"color:magenta\">Esc + A</span> create a cell above the current cell\n",
    "   * <span style=\"color:magenta\">Esc + B</span> create a cell below the current cell\n",
    "   * <span style=\"color:magenta\">Esc + D + D</span> delete the cell\n",
    "   * <span style=\"color:magenta\">Esc + M</span> switch to Markdown mode\n",
    "   * <span style=\"color:magenta\">Esc + Y</span> switch to code mode\n",
    "   * <span style=\"color:magenta\">S</span> save notebook"
   ]
  },
  {
   "cell_type": "markdown",
   "metadata": {
    "slideshow": {
     "slide_type": "slide"
    }
   },
   "source": [
    "#### Converting notebook to presentations\n",
    "\n",
    "Since .ipyb is in fact a JSON file, it can be converted to other formats. For instance, one could make a presentation out if it (and this is how this presentation was made!)\n",
    "\n",
    "- Go to View > Cell Toolbar > Slideshow\n",
    "\n",
    "- Indicate for each cell the slide type\n",
    "- Run in the termilnal\n",
    "\n",
    "```jupyter nbconvert NLP_AMLD_Liza.ipynb --to slides --post serve```\n"
   ]
  },
  {
   "cell_type": "markdown",
   "metadata": {
    "slideshow": {
     "slide_type": "slide"
    }
   },
   "source": [
    "#### Documentation:\n",
    "http://jupyter.org/"
   ]
  },
  {
   "cell_type": "markdown",
   "metadata": {
    "slideshow": {
     "slide_type": "slide"
    }
   },
   "source": [
    "### <span style=\"color:coral\">3. NumPy</span>\n",
    "\n",
    "Neural Nets require a lot of matrix operations. NumPy allows to work with tensros efficiently. It is important for us to look at it now also for better understanding of TensorFlow."
   ]
  },
  {
   "cell_type": "markdown",
   "metadata": {
    "slideshow": {
     "slide_type": "slide"
    }
   },
   "source": [
    "**Tensor** is a generalizaion of a matrix, same as a matrix is a generalization of a vector, and a vector is a generalization of a scalar."
   ]
  },
  {
   "cell_type": "markdown",
   "metadata": {
    "slideshow": {
     "slide_type": "fragment"
    }
   },
   "source": [
    "#### Examples:\n",
    "\n",
    "Scalar is **0**-dimensional tensor:\n",
    "$$a = \\begin{pmatrix}a \\end{pmatrix}$$"
   ]
  },
  {
   "cell_type": "markdown",
   "metadata": {
    "slideshow": {
     "slide_type": "fragment"
    }
   },
   "source": [
    "Vector is **1**-dimensional tensor:\n",
    "$$v = \\begin{pmatrix}a \\\\ b \\end{pmatrix}$$"
   ]
  },
  {
   "cell_type": "markdown",
   "metadata": {
    "slideshow": {
     "slide_type": "fragment"
    }
   },
   "source": [
    "Matrix is **2**-dimensional tensor:\n",
    "$$m = \\begin{pmatrix}a & b\\\\\\ c & d\\end{pmatrix}$$"
   ]
  },
  {
   "cell_type": "markdown",
   "metadata": {
    "slideshow": {
     "slide_type": "slide"
    }
   },
   "source": [
    "Tensor is an **n**-dimensional numerical object.\n",
    "\n",
    "$$t = \\begin{pmatrix} \\begin{pmatrix}a & b\\\\\\ c & d\\end{pmatrix}, \\begin{pmatrix}e & f\\\\\\ g & h\\end{pmatrix}, \\begin{pmatrix}i & j\\\\\\ k & l\\end{pmatrix} \\end{pmatrix}$$"
   ]
  },
  {
   "cell_type": "markdown",
   "metadata": {
    "slideshow": {
     "slide_type": "slide"
    }
   },
   "source": [
    "#### Dimentionality\n",
    "is the number of indices which we need to know to extract one number out of a tensor:\n",
    "$$a=a$$\n",
    "\n",
    "$$a=v[1]$$\n",
    "\n",
    "$$a=m[1,1]$$"
   ]
  },
  {
   "cell_type": "markdown",
   "metadata": {
    "slideshow": {
     "slide_type": "slide"
    }
   },
   "source": [
    "In NumPy <span style=\"color:magenta\">ndarray</span> allows us to work with tensors:\n",
    "\n"
   ]
  },
  {
   "cell_type": "code",
   "execution_count": 1,
   "metadata": {
    "slideshow": {
     "slide_type": "fragment"
    }
   },
   "outputs": [
    {
     "name": "stdout",
     "output_type": "stream",
     "text": [
      "()\n",
      "(3,)\n",
      "(2, 3)\n",
      "(2, 2, 3)\n"
     ]
    }
   ],
   "source": [
    "import numpy as np\n",
    "a = np.array(1)\n",
    "v = np.array([1,2,3])\n",
    "m = np.array([[1,2,3], [4,5,6]])\n",
    "t = np.array([[[1,2,3],[4,5,6]],[[7,8,9],[10,11,12]]])\n",
    "print(a.shape)\n",
    "print(v.shape)\n",
    "print(m.shape)\n",
    "print(t.shape)\n"
   ]
  },
  {
   "cell_type": "markdown",
   "metadata": {
    "slideshow": {
     "slide_type": "slide"
    }
   },
   "source": [
    "#### NumPy data types \n",
    "\n",
    "are wider than that of Python. \n",
    "\n",
    "For instance, instead of **float** one can opt for **float16**, **float32**, **float64**.\n",
    "\n",
    "More details [here](https://docs.scipy.org/doc/numpy-1.13.0/user/basics.types.html)."
   ]
  },
  {
   "cell_type": "code",
   "execution_count": 2,
   "metadata": {
    "slideshow": {
     "slide_type": "fragment"
    }
   },
   "outputs": [
    {
     "data": {
      "text/plain": [
       "numpy.int64"
      ]
     },
     "execution_count": 2,
     "metadata": {},
     "output_type": "execute_result"
    }
   ],
   "source": [
    "type(v[0])"
   ]
  },
  {
   "cell_type": "markdown",
   "metadata": {
    "slideshow": {
     "slide_type": "slide"
    }
   },
   "source": [
    "#### Operations in NumPy\n",
    "\n",
    "- addition of a scalar"
   ]
  },
  {
   "cell_type": "code",
   "execution_count": 3,
   "metadata": {
    "slideshow": {
     "slide_type": "fragment"
    }
   },
   "outputs": [
    {
     "name": "stdout",
     "output_type": "stream",
     "text": [
      "[6 7 8]\n"
     ]
    }
   ],
   "source": [
    "v += 5\n",
    "print(v)"
   ]
  },
  {
   "cell_type": "markdown",
   "metadata": {
    "slideshow": {
     "slide_type": "fragment"
    }
   },
   "source": [
    "- multiplication by a scalar"
   ]
  },
  {
   "cell_type": "code",
   "execution_count": 4,
   "metadata": {
    "slideshow": {
     "slide_type": "fragment"
    }
   },
   "outputs": [
    {
     "name": "stdout",
     "output_type": "stream",
     "text": [
      "[[0 0 0]\n",
      " [0 0 0]]\n"
     ]
    }
   ],
   "source": [
    "m *=0\n",
    "print(m)"
   ]
  },
  {
   "cell_type": "markdown",
   "metadata": {
    "slideshow": {
     "slide_type": "slide"
    }
   },
   "source": [
    "- dot product"
   ]
  },
  {
   "cell_type": "code",
   "execution_count": 5,
   "metadata": {
    "slideshow": {
     "slide_type": "fragment"
    }
   },
   "outputs": [
    {
     "name": "stdout",
     "output_type": "stream",
     "text": [
      "149\n"
     ]
    }
   ],
   "source": [
    "print(np.dot(v, v))"
   ]
  },
  {
   "cell_type": "markdown",
   "metadata": {
    "slideshow": {
     "slide_type": "fragment"
    }
   },
   "source": [
    "When can the dot product of two vectors be useful for NLP? If there is a way to represent each text as a vector of a fixed length, we can measure the distance between two given texts/vectors with cosine:\n",
    "$$\\cos(v1,v2)=\\frac{(v1,v2)}{\\vert v1 \\vert * \\vert v2\\vert} $$"
   ]
  },
  {
   "cell_type": "code",
   "execution_count": 6,
   "metadata": {
    "slideshow": {
     "slide_type": "fragment"
    }
   },
   "outputs": [
    {
     "name": "stdout",
     "output_type": "stream",
     "text": [
      "[[ 7 10]\n",
      " [15 22]]\n",
      "[[ 7 10]\n",
      " [15 22]]\n"
     ]
    }
   ],
   "source": [
    "m = np.array([[1,2], [3,4]])\n",
    "print(np.dot(m, m))\n",
    "print(np.matmul(m, m))"
   ]
  },
  {
   "cell_type": "markdown",
   "metadata": {
    "slideshow": {
     "slide_type": "slide"
    }
   },
   "source": [
    "- element-wise matrix multiplication"
   ]
  },
  {
   "cell_type": "code",
   "execution_count": 7,
   "metadata": {
    "slideshow": {
     "slide_type": "fragment"
    }
   },
   "outputs": [
    {
     "name": "stdout",
     "output_type": "stream",
     "text": [
      "[[ 1  4]\n",
      " [ 9 16]]\n",
      "[[ 1  4]\n",
      " [ 9 16]]\n"
     ]
    }
   ],
   "source": [
    "print(m*m)\n",
    "print(np.multiply(m, m))"
   ]
  },
  {
   "cell_type": "markdown",
   "metadata": {
    "slideshow": {
     "slide_type": "slide"
    }
   },
   "source": [
    "- matrix transpose"
   ]
  },
  {
   "cell_type": "code",
   "execution_count": 8,
   "metadata": {
    "slideshow": {
     "slide_type": "fragment"
    }
   },
   "outputs": [
    {
     "name": "stdout",
     "output_type": "stream",
     "text": [
      "[[1 3]\n",
      " [2 4]]\n"
     ]
    }
   ],
   "source": [
    "print(m.T)"
   ]
  },
  {
   "cell_type": "markdown",
   "metadata": {
    "slideshow": {
     "slide_type": "slide"
    }
   },
   "source": [
    "#### Documentation\n",
    "\n",
    "http://www.numpy.org/"
   ]
  },
  {
   "cell_type": "markdown",
   "metadata": {
    "slideshow": {
     "slide_type": "slide"
    }
   },
   "source": [
    "### <span style=\"color:coral\">4. A word on object-oriented programming</span>"
   ]
  },
  {
   "cell_type": "markdown",
   "metadata": {
    "slideshow": {
     "slide_type": "fragment"
    }
   },
   "source": [
    "The general scheme:\n",
    "\n",
    "```python\n",
    "\n",
    "# define class, its attributes and methods\n",
    "class new_class(object): \n",
    "    def __init__(self, params_init): \n",
    "    def method1(self, params1):       \n",
    "    def method2(self, params2):       \n",
    "\n",
    "#create object\n",
    "new_object = new_class()\n",
    "new_object.method1(params1)\n",
    "new_object.method2(params2)\n",
    "```"
   ]
  },
  {
   "cell_type": "markdown",
   "metadata": {
    "slideshow": {
     "slide_type": "slide"
    }
   },
   "source": [
    "Example:"
   ]
  },
  {
   "cell_type": "code",
   "execution_count": 9,
   "metadata": {
    "slideshow": {
     "slide_type": "fragment"
    }
   },
   "outputs": [
    {
     "name": "stdout",
     "output_type": "stream",
     "text": [
      "['environments', 'notebooks', 'numPy']\n"
     ]
    }
   ],
   "source": [
    "class amld_nlp(object):\n",
    "    \n",
    "    def __init__(self):\n",
    "        self.topics_covered = []\n",
    "    \n",
    "    def add_topic(self, new_topic):\n",
    "        self.topics_covered.append(new_topic)\n",
    "        return self.topics_covered\n",
    "    \n",
    "amld_topics = amld_nlp()\n",
    "amld_topics.add_topic('environments')\n",
    "amld_topics.add_topic('notebooks')\n",
    "amld_topics.add_topic('numPy')\n",
    "print(amld_topics.topics_covered)"
   ]
  },
  {
   "cell_type": "markdown",
   "metadata": {
    "slideshow": {
     "slide_type": "slide"
    }
   },
   "source": [
    "### <span style=\"color:coral\">5. Main Machine Learning concepts</span>\n",
    "   * Learning  = improving with experience at some task: improve at task T, with respect to performance measure P, based on experience E\n",
    "   * Types of ML tasks:\n",
    "     * Supervised (labeled data)\n",
    "       * Classification (categorical data)\n",
    "       * Regression (continuous data)\n",
    "     * Unsupervised (not labeled data)\n",
    "       * Clustering\n",
    "   * Typical workflow: \n",
    "        * get and prepare data, \n",
    "        * training, \n",
    "        * validation, \n",
    "        * repeat training-validation.\n",
    "   * Loss function\n",
    "   * Learning rate\n",
    "   * Regularization"
   ]
  },
  {
   "cell_type": "markdown",
   "metadata": {
    "slideshow": {
     "slide_type": "slide"
    }
   },
   "source": [
    "### <span style=\"color:coral\">6. Neural Networks and Deep Learning</span>\n",
    "\n",
    "**Neural networks** are great approxiamtors of non-linear functions. For instance they are able to find non-linear multidimentional boundaries in the context of classification."
   ]
  },
  {
   "cell_type": "markdown",
   "metadata": {
    "slideshow": {
     "slide_type": "slide"
    }
   },
   "source": [
    "The building block of a neural net is **perceptron**:\n",
    "\n",
    "![alt text](pics_presentation/perceptron.txt.png)\n",
    "\n",
    "\n",
    "Here $x_1, ..., x_n$ are **input features**, $b$ is the **bias** and $W$ denotes the **weights**.\n",
    "\n",
    "The node is activated via an **activation function**, depending on the linear combinaton $x^{T}W+b:$\n",
    "$$ y=\\phi(x^{T}W+b).$$"
   ]
  },
  {
   "cell_type": "markdown",
   "metadata": {
    "slideshow": {
     "slide_type": "slide"
    }
   },
   "source": [
    "**Deep Learning** is the study of artificial neural networks containing more than one layer.\n",
    "\n",
    "Feedforward Neural Network performs static mapping from the inputs to the outpus via a given architechture and parameters (weights and biases). The task of a Neural Network is to find the best set of weights $W$ and biases $b$, given inputs $x$ and outputs $y$. We start with random weights and update them during the training process to minimize the loss function.\n",
    "\n",
    "![alt text](pics_presentation/large_net.txt.png)"
   ]
  },
  {
   "cell_type": "markdown",
   "metadata": {
    "slideshow": {
     "slide_type": "slide"
    }
   },
   "source": [
    "Mathematical tools of Deep Learning:\n",
    "\n",
    "- Linear algebra [Cheatsheet](http://www.souravsengupta.com/cds2016/lectures/Savov_Notes.pdf)\n",
    "- Statistics [Cheatsheet](http://tutorial.math.lamar.edu/pdf/Calculus_Cheat_Sheet_All.pdf)\n",
    "- Calculus [Cheatsheet](http://web.mit.edu/~csvoss/Public/usabo/stats_handout.pdf)"
   ]
  },
  {
   "cell_type": "markdown",
   "metadata": {
    "slideshow": {
     "slide_type": "slide"
    }
   },
   "source": [
    "Let us consider a basic Neural Net with one hidden layer, i.e. it consists of an input layer, a hidden layer and an output layer.\n",
    "\n",
    "Each of the inputs $(x_1,....,x_{n_0})$ is connected to all of the neurons in the hidden layer $(h_1,..., h_{n_1})$ with corresponding weights $W^1_{ij}$, and each of the hidden layers $(h_1,..., h_{n_1})$ is connected to the output $y$ with weights $W^2_{i1}$. Each of the layers has their activation function:\n",
    "\n",
    "$$h=\\Phi(x, W^1),$$\n",
    "$$y=\\Phi(h, W^2).$$"
   ]
  },
  {
   "cell_type": "markdown",
   "metadata": {
    "slideshow": {
     "slide_type": "slide"
    }
   },
   "source": [
    "### Training\n",
    "\n",
    "Training consist of multiple repetitions of the cycle **Feedforward-Backpropagation**.\n",
    "\n",
    "![alt text](pics_presentation/cycle.txt.png)\n"
   ]
  },
  {
   "cell_type": "markdown",
   "metadata": {
    "slideshow": {
     "slide_type": "slide"
    }
   },
   "source": [
    "### Feedforward\n",
    "\n",
    "In the **Feedforward** stage we compute forward (left to right) and obtain the output of the system with the current values of parameters. It will be compared to the true ouptput, resulting in an error:\n",
    "\n",
    "![alt text](pics_presentation/feedforward.txt.png)\n",
    "\n",
    "$$h=\\phi(x, W^1);$$\n",
    "\n",
    "$$y=\\phi(h, W^2).$$"
   ]
  },
  {
   "cell_type": "markdown",
   "metadata": {
    "slideshow": {
     "slide_type": "slide"
    }
   },
   "source": [
    "To compute the hidden layer we first perform the linear transformation of the input layer and then apply the activation function\n",
    "\n",
    "$$ (h^{\\text{lin}}_1,..., h^{\\text{lin}}_{n_1}) = (x_1,...,x_{n_0}) \\begin{pmatrix}W^1_{1,1} & W^1_{1,2} & ... & W^1_{1,n_1}\\\\\\ W^1_{2,1} & W^1_{2,2} & ... & W^1_{2,n_1} \\\\\\ ... & ... & ... & ...\\\\\\ W^1_{n_0,1} & W^1_{n_0,2} &... & W^1_{n_0,n_1}\\end{pmatrix},$$\n",
    "\n",
    "$$h = \\phi(h^{\\text{lin}}). $$"
   ]
  },
  {
   "cell_type": "markdown",
   "metadata": {
    "slideshow": {
     "slide_type": "fragment"
    }
   },
   "source": [
    "Analogously,\n",
    "$$ (y^{\\text{lin}}_1,..., y^{\\text{lin}}_{n_2}) = (h_1,...,h_{n_1}) \\begin{pmatrix}W^1_{1,1} & W^1_{1,2} & ... & W^1_{1,n_2}\\\\\\ W^1_{2,1} & W^1_{2,2} & ... & W^1_{2,n_2} \\\\\\ ... & ... & ... & ...\\\\\\ W^1_{n_1,1} & W^1_{n_1,2} &... & W^1_{n_1,n_2}\\end{pmatrix}$$\n",
    "\n",
    "and\n",
    "\n",
    "$$y = \\phi(y^{\\text{lin}}). $$\n"
   ]
  },
  {
   "cell_type": "markdown",
   "metadata": {
    "slideshow": {
     "slide_type": "slide"
    }
   },
   "source": [
    "### Activation functions for hidden layers\n",
    "\n",
    "- Sigmoid\n",
    "\n",
    "$$\\phi(x) = \\frac{1}{1 + \\exp(-x)}$$\n"
   ]
  },
  {
   "cell_type": "code",
   "execution_count": 10,
   "metadata": {
    "slideshow": {
     "slide_type": "skip"
    }
   },
   "outputs": [],
   "source": [
    "import matplotlib.pyplot as plt\n",
    "def line_graph(x, y, x_title, y_title):\n",
    "    plt.plot(x, y)\n",
    "    plt.xlabel(x_title)\n",
    "    plt.ylabel(y_title)\n",
    "    plt.show()"
   ]
  },
  {
   "cell_type": "code",
   "execution_count": 11,
   "metadata": {
    "slideshow": {
     "slide_type": "fragment"
    }
   },
   "outputs": [
    {
     "data": {
      "image/png": "[encoded data removed]",
      "text/plain": [
       "<matplotlib.figure.Figure at 0x1087f9518>"
      ]
     },
     "metadata": {},
     "output_type": "display_data"
    }
   ],
   "source": [
    "import numpy as np\n",
    "x = range(-5, 5)\n",
    "\n",
    "def sigmoid(inputs):\n",
    "    return [1 / float(1 + np.exp(- x)) for x in inputs]\n",
    "     \n",
    "y_sigmoid = sigmoid(x)\n",
    "line_graph(x, y_sigmoid, \"x\", \"sigmoid(x)\")"
   ]
  },
  {
   "cell_type": "markdown",
   "metadata": {
    "slideshow": {
     "slide_type": "slide"
    }
   },
   "source": [
    "- Hyperbolic tangent\n",
    "\n",
    "$$\\phi(x) = \\tanh(x)$$"
   ]
  },
  {
   "cell_type": "code",
   "execution_count": 12,
   "metadata": {
    "slideshow": {
     "slide_type": "fragment"
    }
   },
   "outputs": [
    {
     "data": {
      "image/png": "[encoded data removed]",
      "text/plain": [
       "<matplotlib.figure.Figure at 0x1066904e0>"
      ]
     },
     "metadata": {},
     "output_type": "display_data"
    }
   ],
   "source": [
    "def tanh(inputs):\n",
    "    values = [ np.tanh(x) for x in inputs]\n",
    "    return values\n",
    "\n",
    "y_tanh = tanh(x)\n",
    "line_graph(x, y_tanh, \"x\", \"tanh(x)\")"
   ]
  },
  {
   "cell_type": "markdown",
   "metadata": {
    "slideshow": {
     "slide_type": "slide"
    }
   },
   "source": [
    "\n",
    "- Rectified Linear Unit fuction (ReLU)\n",
    "\n",
    "$$\\phi(x) = x I_{x \\ge 0}$$"
   ]
  },
  {
   "cell_type": "code",
   "execution_count": 13,
   "metadata": {
    "slideshow": {
     "slide_type": "fragment"
    }
   },
   "outputs": [
    {
     "data": {
      "image/png": "[encoded data removed]",
      "text/plain": [
       "<matplotlib.figure.Figure at 0x111750320>"
      ]
     },
     "metadata": {},
     "output_type": "display_data"
    }
   ],
   "source": [
    "def ReLU(inputs):    \n",
    "    values = [x if x>0 else 0 for x in inputs]\n",
    "    return values\n",
    "\n",
    "y_relu = ReLU(x)\n",
    "line_graph(x, y_relu, \"x\", \"tanh(x)\")"
   ]
  },
  {
   "cell_type": "markdown",
   "metadata": {
    "slideshow": {
     "slide_type": "slide"
    }
   },
   "source": [
    "\n",
    "### Activation functions for the output layer\n",
    "\n",
    "- Sigmoid\n",
    "\n",
    "$$\\phi(x) = \\frac{1}{1 + \\exp(-x)}$$\n",
    "\n",
    "- Softmax\n",
    "\n",
    "$$\\phi(x)_k = \\frac{\\exp(- x_k)}{\\sum_{i=1}^K \\exp(-x_i)}$$\n",
    "\n",
    "- Linear\n",
    "\n",
    "$$\\phi(x) = x$$"
   ]
  },
  {
   "cell_type": "code",
   "execution_count": 14,
   "metadata": {
    "slideshow": {
     "slide_type": "fragment"
    }
   },
   "outputs": [
    {
     "data": {
      "text/plain": [
       "array([ 0.2312239 ,  0.14024438,  0.62853172])"
      ]
     },
     "execution_count": 14,
     "metadata": {},
     "output_type": "execute_result"
    }
   ],
   "source": [
    "def softmax(inputs):\n",
    "    exp_inputs = np.exp(inputs)\n",
    "    out = np.divide (exp_inputs, exp_inputs.sum())\n",
    "    return out\n",
    "\n",
    "softmax([1, 0.5, 2])"
   ]
  },
  {
   "cell_type": "markdown",
   "metadata": {
    "slideshow": {
     "slide_type": "slide"
    }
   },
   "source": [
    "### Error functions\n",
    "\n",
    "-  Mean Squared Error (MSE), for regression \n",
    "\n",
    "$$ E = \\frac{1}{n}\\sum_{i=1}^n (y_i - \\hat{y}_i)^2$$"
   ]
  },
  {
   "cell_type": "code",
   "execution_count": 15,
   "metadata": {
    "slideshow": {
     "slide_type": "fragment"
    }
   },
   "outputs": [
    {
     "data": {
      "text/plain": [
       "0.44"
      ]
     },
     "execution_count": 15,
     "metadata": {},
     "output_type": "execute_result"
    }
   ],
   "source": [
    "def mse(y, yhat):\n",
    "    y = np.array(y)\n",
    "    yhat = np.array(yhat)\n",
    "    out = np.sum((y-yhat)**2)/len(y)\n",
    "    return out\n",
    "\n",
    "y=[1,0,1,1]\n",
    "yhat=[0.4,0.6,0.1,0.5]\n",
    "round(mse(y, yhat),2)"
   ]
  },
  {
   "cell_type": "markdown",
   "metadata": {
    "slideshow": {
     "slide_type": "slide"
    }
   },
   "source": [
    "-  Cross-entropy, for classification\n",
    "\n",
    "$$ E = - \\frac{1}{n}\\sum_{i=1}^n  \\left( y_i \\log(\\hat{p}_i) + (1- y_i) \\log(1-\\hat{p}_i) \\right)$$"
   ]
  },
  {
   "cell_type": "code",
   "execution_count": 16,
   "metadata": {
    "slideshow": {
     "slide_type": "fragment"
    }
   },
   "outputs": [
    {
     "name": "stdout",
     "output_type": "stream",
     "text": [
      "4.83\n"
     ]
    }
   ],
   "source": [
    "def cross_entropy(y, p):\n",
    "    y = np.array(y)\n",
    "    p = np.array(p)\n",
    "    out = - (np.dot(y, np.log(p)) + np.dot(1-y, np.log(1-p)))\n",
    "    return out\n",
    "\n",
    "y=[1,0,1,1]\n",
    "p=[0.4,0.6,0.1,0.5]\n",
    "print(round(cross_entropy(y, p),2))"
   ]
  },
  {
   "cell_type": "markdown",
   "metadata": {
    "slideshow": {
     "slide_type": "slide"
    }
   },
   "source": [
    "Side note: you can make those graphs using the 'dot' language. For this, save this code in a *feedforward.txt* file\n",
    "\n",
    "```\n",
    "digraph G {\n",
    "    rankdir=LR\n",
    "\tsplines=line\n",
    "    node [fixedsize=true, label=\"\"];\n",
    "      \n",
    "    x1 -> h1;\n",
    "    x2 -> h1;\n",
    "    x1 -> h2;\n",
    "    x2 -> h2;\n",
    "    h2 -> y;\n",
    "    h1 -> y;\n",
    "}```\n",
    "\n",
    "and run in Terminal \n",
    "\n",
    "```dot -Tpng -O feedforward.txt```\n",
    "\n"
   ]
  },
  {
   "cell_type": "markdown",
   "metadata": {
    "slideshow": {
     "slide_type": "slide"
    }
   },
   "source": [
    "### Backpropagation\n",
    "\n",
    "During **Backpropagation** we compute backwards (right to left) and update the weights to minimize the error.\n",
    "\n",
    "![alt text](pics_presentation/backprop.txt.png)"
   ]
  },
  {
   "cell_type": "markdown",
   "metadata": {
    "slideshow": {
     "slide_type": "slide"
    }
   },
   "source": [
    "### Gradient Descent\n",
    "\n",
    "Generally, **gradient** of a function $E(x_1,...,x_n)$\n",
    "\n",
    "$$\\nabla_{(x_1,...,x_n)} E =  \\begin{pmatrix} \\frac{\\partial E}{\\partial x_1} \\\\ ... \\\\ \\frac{\\partial E}{\\partial x_n} \\end{pmatrix}$$\n",
    "\n",
    "is a vector in the direction of the fastest growth of a function. Since our aim is to minimize the error, we are interested to find $- \\nabla E$: it indicates in which direction the function decreases the most.\n",
    "\n",
    "It follows, that a good way to update the weights is\n",
    "\n",
    "$$ W^{new} = W^{old} + \\nabla_W (-E).$$\n",
    "\n",
    "Anyhow, if the size of the step $\\nabla_W (-E)$ is too small or too large, it may take too long to find the minimum or we may overshoot, respectively. To adjust, a **learning rate** $\\alpha$ is introduced."
   ]
  },
  {
   "cell_type": "markdown",
   "metadata": {
    "slideshow": {
     "slide_type": "slide"
    }
   },
   "source": [
    "### Weights update\n",
    "\n",
    "$$ W^{new} = W^{old} + \\alpha \\nabla_W (-E),$$\n",
    "\n",
    "where $\\alpha$ is the learning rate, i.e. the step size and $\\nabla_W E$ denots the gradient of the error function with repect to the parameters $W$. This can be also written as\n",
    "\n",
    "$$ W^{new}_{ij} = W^{old}_{ij} + \\alpha \\left( -\\frac{\\partial E}{\\partial W_{ij}} \\right).$$"
   ]
  },
  {
   "cell_type": "markdown",
   "metadata": {
    "slideshow": {
     "slide_type": "slide"
    }
   },
   "source": [
    "It is not uncommon to use the notation\n",
    "$$\\delta_{ij} = \\frac{\\partial y}{\\partial W_{i,j}}.$$\n",
    "\n",
    "Then\n",
    "$$\\frac{\\partial E}{\\partial W_{ij}} = \\frac{\\partial E}{\\partial y} \\frac{\\partial y}{\\partial W_{ij}} = \\delta_{ij} \\frac{\\partial E}{\\partial y}.$$\n",
    "\n",
    "Applying the chain rule\n",
    "\n",
    "$$\\delta_{ij} = \\frac{\\partial y}{\\partial W_{ij}} = \\sum_{k=1}^{n} \\frac{\\partial \\Phi}{\\partial h_k} \\frac{\\partial h_k}{\\partial W_{ij}},$$\n",
    "\n",
    "i.e. we need to sum over all paths between $W_{ij}$ and $y$."
   ]
  },
  {
   "cell_type": "markdown",
   "metadata": {
    "slideshow": {
     "slide_type": "slide"
    }
   },
   "source": [
    "### Useful derivatives\n",
    "\n",
    "- Sigmoid\n",
    "\n",
    "$$\\sigma'(x) = \\frac{\\partial}{\\partial x} \\frac{1}{1 + \\exp(-x)} = \\frac{\\exp(-x)}{(1 + \\exp(-x))^2} = \\sigma(x) \\left(1- \\sigma'(x) \\right).$$\n",
    "\n",
    "- Hyperbolic tangent\n",
    "\n",
    "$$\\tanh'(x) = 1 -\\tanh^2(x).$$\n",
    "\n",
    "- Rectified Linear Unit\n",
    "\n",
    "$$\\text{ReLU}'(x) = I_{x \\ge 0}$$"
   ]
  },
  {
   "cell_type": "markdown",
   "metadata": {
    "slideshow": {
     "slide_type": "slide"
    }
   },
   "source": [
    "### Calculations for perceptron\n",
    "\n",
    "Now, when we understand the general workflow, let us construct the training algorithm for one perceptron with sigmoid activation function (performing logistic regression).\n",
    "\n",
    "![alt text](pics_presentation/perceptron.txt.png)"
   ]
  },
  {
   "cell_type": "markdown",
   "metadata": {
    "slideshow": {
     "slide_type": "slide"
    }
   },
   "source": [
    "The goal is to minimize the error function, which is the mean point-wise error over $m$ training inputs\n",
    "\n",
    "$$E = \\frac{1}{m} \\sum E_k,$$\n",
    "$$E_k = - (y_i \\ln(\\hat{p_k}) + (1-y_k) \\ln(1- \\hat{p_k})).$$\n",
    "\n",
    "The predicted probabilities are evaluated via the activation function \n",
    "$$\\hat{p_k} = \\sigma(x_k^T W + b).$$\n",
    "\n",
    "Let us drop the index for now and perform computations for one observation\n",
    "\n",
    "$$E = - (y \\ln(\\hat{p}) + (1-y) \\ln(1- \\hat{p})).$$\n",
    "\n",
    "We need to find $\\frac{\\partial E}{\\partial W_i}$ (here denote $W_{i1}$ as $W_i$ and consider $\\frac{\\partial E}{\\partial b}$ be the particular case of $\\frac{\\partial E}{\\partial W_i}$). \n"
   ]
  },
  {
   "cell_type": "markdown",
   "metadata": {
    "slideshow": {
     "slide_type": "slide"
    }
   },
   "source": [
    "Beforehand, compute \n",
    "$$  \\frac{\\partial \\hat{p}}{\\partial W_i} = \\frac{\\partial}{\\partial W_i}\\sigma(x^T W + b) = \\hat{p} (1-\\hat{p}) x_i. $$\n",
    "\n",
    "Then\n",
    "$$\n",
    "\\begin{aligned}\n",
    "  \\frac{\\partial E}{\\partial W_i} &=  - \\left(y \\frac{\\partial}{\\partial W_i} \\ln(\\hat{p}) + (1-y) \\frac{\\partial}   {\\partial W_i} \\ln(1- \\hat{p}) \\right) \\\\\n",
    "  &= - \\left(y \\frac{1}{\\hat{p}} \\frac{\\partial \\hat{p}}{\\partial W_i} + (1-y) \\frac{1}{1-\\hat{p}} \\frac{\\partial (-\\hat{p})}   {\\partial W_i}  \\right) = \\text{(substitute from above)} \\\\\n",
    "  &= - (y - \\hat{p}) x_i,\n",
    " \\end{aligned}\n",
    "$$\n",
    "and it follows, in particular,\n",
    "$$\n",
    "\\frac{\\partial E}{\\partial b} = - (y - \\hat{p}).\n",
    "$$"
   ]
  },
  {
   "cell_type": "markdown",
   "metadata": {
    "slideshow": {
     "slide_type": "slide"
    }
   },
   "source": [
    "#### Logistic regression training algorithm\n",
    "- initialize randomly weights $W$ and bias $b$\n",
    "- repeat until the error is small:\n",
    "  - compute prediction $\\hat{p}_i$ for each training input $x_i$,\n",
    "  - update weights and bias.\n"
   ]
  },
  {
   "cell_type": "markdown",
   "metadata": {
    "slideshow": {
     "slide_type": "slide"
    }
   },
   "source": [
    "### Perceptron implementation"
   ]
  },
  {
   "cell_type": "code",
   "execution_count": 17,
   "metadata": {
    "slideshow": {
     "slide_type": "fragment"
    }
   },
   "outputs": [],
   "source": [
    "# useful functions\n",
    "def sigmoid(x):\n",
    "    return 1 / (1 + np.exp(-x))"
   ]
  },
  {
   "cell_type": "code",
   "execution_count": 18,
   "metadata": {
    "slideshow": {
     "slide_type": "slide"
    }
   },
   "outputs": [],
   "source": [
    "# Generate data:\n",
    "# assume the line W1*x1+W*x2 separates the two regions: {y=1}, {y=0}\n",
    "# b = 0\n",
    "\n",
    "import numpy as np\n",
    "\n",
    "#number of features\n",
    "n_features = 2\n",
    "n_labels = 1\n",
    "\n",
    "#number of observations\n",
    "m = 100\n",
    "\n",
    "# generate features\n",
    "Xsim = np.random.normal(0, 10, size=(m,n_features))\n",
    "\n",
    "# set the values of true parameters\n",
    "W_true = np.array([1.0, 3.0])\n",
    "W_true.shape = (n_features,n_labels)\n",
    "\n",
    "# fill the true lables\n",
    "ysim = np.zeros(shape=(m,n_labels))\n",
    "for i in range(m):\n",
    "    if sigmoid(np.dot(Xsim[i,:], W_true))>0.5:\n",
    "        ysim[i] = 1"
   ]
  },
  {
   "cell_type": "code",
   "execution_count": 19,
   "metadata": {
    "slideshow": {
     "slide_type": "slide"
    }
   },
   "outputs": [
    {
     "data": {
      "text/plain": [
       "[<matplotlib.lines.Line2D at 0x1119344e0>,\n",
       " <matplotlib.lines.Line2D at 0x111934780>]"
      ]
     },
     "execution_count": 19,
     "metadata": {},
     "output_type": "execute_result"
    },
    {
     "data": {
      "image/png": "[encoded data removed]",
      "text/plain": [
       "<matplotlib.figure.Figure at 0x1117be7f0>"
      ]
     },
     "metadata": {},
     "output_type": "display_data"
    }
   ],
   "source": [
    "# plot\n",
    "Xred = Xsim[np.argwhere(ysim==1),:]\n",
    "Xblue = Xsim[np.argwhere(ysim==0),:]\n",
    "plt.plot(Xred[:,0,0], Xred[:,0,1], 'ro', Xblue[:,0,0], Xblue[:,0,1], 'bs')\n",
    "\n",
    "# TO DO: increase the number of observations and observe the changes on the plot. \n",
    "# How will the number of observations impact the predictions?"
   ]
  },
  {
   "cell_type": "code",
   "execution_count": 20,
   "metadata": {
    "slideshow": {
     "slide_type": "slide"
    }
   },
   "outputs": [],
   "source": [
    "# training hyperparameters\n",
    "epochs = 100\n",
    "learning_rate = 0.001\n",
    "\n",
    "# initialize weights and bias\n",
    "W = np.random.normal(0, 1, size=W_true.shape)"
   ]
  },
  {
   "cell_type": "code",
   "execution_count": 21,
   "metadata": {
    "slideshow": {
     "slide_type": "fragment"
    }
   },
   "outputs": [],
   "source": [
    "def compute_probs(X, W):\n",
    "    return sigmoid(np.dot(X, W))"
   ]
  },
  {
   "cell_type": "code",
   "execution_count": 22,
   "metadata": {
    "slideshow": {
     "slide_type": "slide"
    }
   },
   "outputs": [
    {
     "name": "stdout",
     "output_type": "stream",
     "text": [
      "epoch:  10,  W[0]: 0.221072,  W[1]: 0.708476\n",
      "epoch:  20,  W[0]: 0.247225,  W[1]: 0.786854\n",
      "epoch:  30,  W[0]: 0.269193,  W[1]: 0.852349\n",
      "epoch:  40,  W[0]: 0.288413,  W[1]: 0.909533\n",
      "epoch:  50,  W[0]: 0.305673,  W[1]: 0.960826\n",
      "epoch:  60,  W[0]: 0.321448,  W[1]: 1.007676\n",
      "epoch:  70,  W[0]: 0.336050,  W[1]: 1.051029\n",
      "epoch:  80,  W[0]: 0.349696,  W[1]: 1.091538\n",
      "epoch:  90,  W[0]: 0.362544,  W[1]: 1.129676\n",
      "epoch: 100,  W[0]: 0.374712,  W[1]: 1.165797\n"
     ]
    }
   ],
   "source": [
    "# train\n",
    "for epoch in range(epochs):\n",
    "    probs = compute_probs(Xsim, W)\n",
    "    d_error = -(ysim - probs)\n",
    "    W -= learning_rate * np.dot(Xsim.T, d_error)\n",
    "    #b -= learning_rate * d_error\n",
    "    \n",
    "    # print every 10 epochs\n",
    "    if (epoch + 1) % 10 == 0:\n",
    "        print('epoch:{:4d},  W[0]: {:5f},  W[1]: {:5f}'.format(epoch + 1, float(W[0]), float(W[1])))"
   ]
  },
  {
   "cell_type": "code",
   "execution_count": 23,
   "metadata": {
    "slideshow": {
     "slide_type": "slide"
    }
   },
   "outputs": [],
   "source": [
    "# TO DO:\n",
    "# Change the number of epochs and the learning rate several times and observe what happens to the output.\n",
    "# Ideally we want to see, that the values converge to W_true.\n",
    "\n",
    "# TO DO:\n",
    "# adjust the code to account for bias\n",
    "\n",
    "# TO DO*:\n",
    "# implement perceptron as class"
   ]
  },
  {
   "cell_type": "markdown",
   "metadata": {
    "slideshow": {
     "slide_type": "slide"
    }
   },
   "source": [
    "### Minibatch\n",
    "\n",
    "Previously we assumed that weights are updated after each calculation of the output. The updates can be made every $N$ steps. Then $N$ is called the minibatch-size.\n",
    "\n",
    "$$\\delta = \\frac{1}{N} \\sum \\delta_{ij}.$$\n",
    "\n",
    "As the result, we will perform less computations to save time and average the noise out to improve convergence."
   ]
  },
  {
   "cell_type": "markdown",
   "metadata": {
    "slideshow": {
     "slide_type": "slide"
    }
   },
   "source": [
    "### Dropout\n",
    "\n",
    "Dropout is a regularization method.\n",
    "\n",
    "If one part of a neural network has very large weights, it will dominate the training proces. As a solution, some nodes are being switched off randomly with a give probability of the dropout for one training epoch."
   ]
  },
  {
   "cell_type": "markdown",
   "metadata": {
    "nbpresent": {
     "id": "cb9d611e-5f03-4188-8a2d-36fb92f754a8"
    },
    "slideshow": {
     "slide_type": "slide"
    }
   },
   "source": [
    "### <span style=\"color:coral\">7. Low level framework: Tensorflow</span>\n",
    "\n",
    "In a low level framework we need to operate on the linear algebra level."
   ]
  },
  {
   "cell_type": "code",
   "execution_count": 24,
   "metadata": {
    "nbpresent": {
     "id": "84b398b6-f83b-4636-a90c-04be20892988"
    },
    "slideshow": {
     "slide_type": "fragment"
    }
   },
   "outputs": [
    {
     "data": {
      "text/plain": [
       "'1.1.0'"
      ]
     },
     "execution_count": 24,
     "metadata": {},
     "output_type": "execute_result"
    }
   ],
   "source": [
    "import tensorflow as tf\n",
    "\n",
    "#check the version\n",
    "tf.__version__"
   ]
  },
  {
   "cell_type": "markdown",
   "metadata": {
    "nbpresent": {
     "id": "fa0dfce4-29e6-41c0-b1cb-e51b16fa2fee"
    },
    "slideshow": {
     "slide_type": "fragment"
    }
   },
   "source": [
    "All data in Tensorflow is stored as a <span style=\"color:magenta\">tensor</span>, not integers/floats/strings. <span style=\"color:magenta\">Tensor</span> is a generalized version of those data types."
   ]
  },
  {
   "cell_type": "markdown",
   "metadata": {
    "slideshow": {
     "slide_type": "slide"
    }
   },
   "source": [
    "<span style=\"color:magenta\">tf.constant()</span> is a constant tensor:"
   ]
  },
  {
   "cell_type": "code",
   "execution_count": 25,
   "metadata": {
    "nbpresent": {
     "id": "214c4df2-07b5-4dac-9af6-651d801bc70a"
    },
    "slideshow": {
     "slide_type": "fragment"
    }
   },
   "outputs": [
    {
     "name": "stdout",
     "output_type": "stream",
     "text": [
      "Tensor(\"Const:0\", shape=(), dtype=float32)\n",
      "Tensor(\"Const_1:0\", shape=(3,), dtype=int32)\n",
      "Tensor(\"Const_2:0\", shape=(2, 3), dtype=string)\n"
     ]
    }
   ],
   "source": [
    "# 0-dimensional float32 tensor\n",
    "tensor_int32_0dim = tf.constant(0.5) \n",
    "print(tensor_int32_0dim)\n",
    "\n",
    "# 1-dimensional int32 tensor\n",
    "tensor_int32_1dim = tf.constant([123,456,789]) \n",
    "print(tensor_int32_1dim)\n",
    "\n",
    "# 2-dimensional string tensor\n",
    "tensor_int32_2dim = tf.constant([ ['s1','s2','s3'], ['s4','s5','s6'] ])\n",
    "print(tensor_int32_2dim)"
   ]
  },
  {
   "cell_type": "markdown",
   "metadata": {
    "slideshow": {
     "slide_type": "slide"
    }
   },
   "source": [
    "<span style=\"color:magenta\">tf.Session()</span> creates a session and <span style=\"color:magenta\">session.run()</span> runs the comutational graph."
   ]
  },
  {
   "cell_type": "markdown",
   "metadata": {
    "slideshow": {
     "slide_type": "slide"
    }
   },
   "source": [
    "<span style=\"color:magenta\">tf.placeholder()</span> is a tensor, which receivs the data from a dictionary <span style=\"color:magenta\">feed_dict</span> during execution time:"
   ]
  },
  {
   "cell_type": "code",
   "execution_count": 26,
   "metadata": {
    "slideshow": {
     "slide_type": "fragment"
    }
   },
   "outputs": [
    {
     "name": "stdout",
     "output_type": "stream",
     "text": [
      "s1\n"
     ]
    }
   ],
   "source": [
    "output = None\n",
    "x = tf.placeholder(tf.string)\n",
    "\n",
    "with tf.Session() as sess:\n",
    "    output = sess.run(x, feed_dict = {x: 's1'})\n",
    "    print(output)"
   ]
  },
  {
   "cell_type": "markdown",
   "metadata": {
    "slideshow": {
     "slide_type": "slide"
    }
   },
   "source": [
    "### Mathematical operations in Tensorflow\n",
    "<span style=\"color:magenta\">tf.add()</span> \n",
    "\n",
    "<span style=\"color:magenta\">tf.subtract()</span> \n",
    "\n",
    "<span style=\"color:magenta\">tf.multiply()</span> \n",
    "\n",
    "<span style=\"color:magenta\">tf.divide()</span> \n",
    "\n",
    "<span style=\"color:magenta\">tf.cast(,tf.float64)</span> "
   ]
  },
  {
   "cell_type": "markdown",
   "metadata": {
    "slideshow": {
     "slide_type": "slide"
    }
   },
   "source": [
    "<span style=\"color:magenta\">tf.Variable()</span> is the variable, i.e. can be modified.\n",
    "\n",
    "<span style=\"color:magenta\">tf.global_variables_initializer()</span> initializes all the variable tensors.\n",
    "\n",
    "<span style=\"color:magenta\">tf.truncated_normal() </span>\n",
    "\n",
    "<span style=\"color:magenta\">tf.zeros()</span>\n",
    "\n",
    "<span style=\"color:magenta\">tf.nn.softmax()</span>\n",
    "\n",
    "<span style=\"color:magenta\">tf.reduce_sum()</span>\n",
    "\n",
    "<span style=\"color:magenta\">tf.reduce_mean()</span>"
   ]
  },
  {
   "cell_type": "markdown",
   "metadata": {
    "slideshow": {
     "slide_type": "slide"
    }
   },
   "source": [
    "### Examples"
   ]
  },
  {
   "cell_type": "code",
   "execution_count": 27,
   "metadata": {
    "slideshow": {
     "slide_type": "fragment"
    }
   },
   "outputs": [
    {
     "name": "stdout",
     "output_type": "stream",
     "text": [
      "3.000000 should equal 3.0\n",
      "7.000000 should equal 6.0\n"
     ]
    }
   ],
   "source": [
    "import tensorflow as tf\n",
    "\n",
    "# multiplication\n",
    "x1 = tf.placeholder(\"float\") \n",
    "x2 = tf.placeholder(\"float\") \n",
    "y = tf.add(x1, x2) \n",
    "\n",
    "with tf.Session() as sess: \n",
    "    print(\"%f should equal 3.0\" % sess.run(y, feed_dict={x1: 1, x2: 2})) \n",
    "    print(\"%f should equal 6.0\" % sess.run(y, feed_dict={x1: 3, x2: 4}))\n",
    "    \n",
    "# TO DO: use 'multiply' to evaluate the product of x1 and x2 in Tensorflow\n",
    "#y = None\n",
    "#with tf.Session() as sess: \n",
    "#    print(\"%f should equal 2.0\" % sess.run(y, feed_dict={x1: 1, x2: 2})) \n",
    "#    print(\"%f should equal 12.0\" % sess.run(y, feed_dict={x1: 3, x2: 4}))"
   ]
  },
  {
   "cell_type": "markdown",
   "metadata": {
    "slideshow": {
     "slide_type": "slide"
    }
   },
   "source": [
    "### Logistic regression with Tensorflow\n",
    "\n",
    "Let us generate labels in 2D being separated not ina linear way and test the performance of logistic regression on it."
   ]
  },
  {
   "cell_type": "code",
   "execution_count": 49,
   "metadata": {
    "slideshow": {
     "slide_type": "slide"
    }
   },
   "outputs": [],
   "source": [
    "# generate the data\n",
    "\n",
    "import numpy as np\n",
    "\n",
    "#number of features\n",
    "n_input = 2\n",
    "n_classes = 1\n",
    "\n",
    "#number of observations\n",
    "m = 5000\n",
    "\n",
    "# generate features\n",
    "Xsim = np.random.normal(0, 10, size=(m,n_input))\n",
    "\n",
    "# set the values of trrue parameters\n",
    "W_true = np.array([1.0, 3.0])\n",
    "#b_true = -1\n",
    "\n",
    "# fill the true lables\n",
    "ysim = np.zeros(shape=(m,n_classes))\n",
    "\n",
    "s = np.dot(Xsim[1,:], W_true)\n",
    "for i in range(m):\n",
    "    if Xsim[i,0]**3/15 + Xsim[i,0]**2 -1 > Xsim[i,1]: # parabola y = x^2\n",
    "        ysim[i] = 1"
   ]
  },
  {
   "cell_type": "code",
   "execution_count": 50,
   "metadata": {
    "slideshow": {
     "slide_type": "slide"
    }
   },
   "outputs": [
    {
     "data": {
      "text/plain": [
       "[<matplotlib.lines.Line2D at 0x11b48ff28>,\n",
       " <matplotlib.lines.Line2D at 0x11b48f1d0>]"
      ]
     },
     "execution_count": 50,
     "metadata": {},
     "output_type": "execute_result"
    },
    {
     "data": {
      "image/png": "[encoded data removed]",
      "text/plain": [
       "<matplotlib.figure.Figure at 0x11b49e128>"
      ]
     },
     "metadata": {},
     "output_type": "display_data"
    }
   ],
   "source": [
    "# plot\n",
    "import matplotlib.pyplot as plt\n",
    "Xred = Xsim[np.argwhere(ysim==1),:]\n",
    "Xblue = Xsim[np.argwhere(ysim==0),:]\n",
    "plt.plot(Xred[:,0,0], Xred[:,0,1], 'ro', Xblue[:,0,0], Xblue[:,0,1], 'bs')"
   ]
  },
  {
   "cell_type": "code",
   "execution_count": 51,
   "metadata": {
    "slideshow": {
     "slide_type": "slide"
    }
   },
   "outputs": [
    {
     "name": "stdout",
     "output_type": "stream",
     "text": [
      "4000\n",
      "(4000, 2)\n",
      "(1000, 2)\n",
      "(4000, 1)\n",
      "(1000, 1)\n"
     ]
    }
   ],
   "source": [
    "# split X and y into train and test as 80% to 20%\n",
    "train_portion = 0.8\n",
    "train_m = round(m* train_portion)\n",
    "print(train_m)\n",
    "Xtrain = Xsim[0:train_m,]\n",
    "Xtest = Xsim[train_m:,]\n",
    "ytrain = ysim[0:train_m]\n",
    "ytest = ysim[train_m:]\n",
    "\n",
    "# check the shapes\n",
    "print(Xtrain.shape)\n",
    "print(Xtest.shape)\n",
    "print(ytrain.shape)\n",
    "print(ytest.shape)"
   ]
  },
  {
   "cell_type": "code",
   "execution_count": 52,
   "metadata": {
    "slideshow": {
     "slide_type": "slide"
    }
   },
   "outputs": [
    {
     "data": {
      "text/plain": [
       "[<matplotlib.lines.Line2D at 0x11b246320>]"
      ]
     },
     "execution_count": 52,
     "metadata": {},
     "output_type": "execute_result"
    },
    {
     "data": {
      "image/png": "[encoded data removed]",
      "text/plain": [
       "<matplotlib.figure.Figure at 0x11b3dac50>"
      ]
     },
     "metadata": {},
     "output_type": "display_data"
    }
   ],
   "source": [
    "Xred = Xtrain[np.argwhere(ytrain==1),:]\n",
    "Xorange = Xtest[np.argwhere(ytest==1),:]\n",
    "Xblue = Xtrain[np.argwhere(ytrain==0),:]\n",
    "Xgreen = Xtest[np.argwhere(ytest==0),:]\n",
    "plt.plot(Xred[:,0,0], Xred[:,0,1],  'ro')\n",
    "plt.plot(Xorange[:,0,0], Xorange[:,0,1],  'go')\n",
    "plt.plot(Xorange[:,0,0], Xorange[:,0,1],  'yo')\n",
    "plt.plot(Xblue[:,0,0], Xblue[:,0,1],  'bs')\n",
    "plt.plot(Xgreen[:,0,0], Xgreen[:,0,1],  'gs')"
   ]
  },
  {
   "cell_type": "code",
   "execution_count": 53,
   "metadata": {
    "slideshow": {
     "slide_type": "slide"
    }
   },
   "outputs": [],
   "source": [
    "import tensorflow as tf"
   ]
  },
  {
   "cell_type": "code",
   "execution_count": 54,
   "metadata": {
    "slideshow": {
     "slide_type": "fragment"
    }
   },
   "outputs": [],
   "source": [
    "def lin_pred(X, W, b):\n",
    "    lin = tf.matmul(X, W) + b\n",
    "    return lin"
   ]
  },
  {
   "cell_type": "code",
   "execution_count": 55,
   "metadata": {
    "slideshow": {
     "slide_type": "fragment"
    }
   },
   "outputs": [],
   "source": [
    "X = tf.placeholder(\"float\", [None, n_input])\n",
    "y = tf.placeholder(\"float\", [None, n_classes])"
   ]
  },
  {
   "cell_type": "code",
   "execution_count": 56,
   "metadata": {
    "slideshow": {
     "slide_type": "fragment"
    }
   },
   "outputs": [],
   "source": [
    "W = tf.Variable(tf.random_normal([n_input, n_classes], mean=0.0, stddev=0.05))\n",
    "b = tf.Variable([0.])"
   ]
  },
  {
   "cell_type": "code",
   "execution_count": 57,
   "metadata": {
    "slideshow": {
     "slide_type": "fragment"
    }
   },
   "outputs": [],
   "source": [
    "y_lin_pred = lin_pred(X, W, b)\n",
    "p = tf.sigmoid(y_lin_pred)   # for prediction"
   ]
  },
  {
   "cell_type": "code",
   "execution_count": 58,
   "metadata": {
    "slideshow": {
     "slide_type": "slide"
    }
   },
   "outputs": [],
   "source": [
    "cross_entropy = tf.nn.sigmoid_cross_entropy_with_logits(logits=y_lin_pred, labels=y)\n",
    "loss = tf.reduce_mean(cross_entropy)"
   ]
  },
  {
   "cell_type": "code",
   "execution_count": 59,
   "metadata": {
    "slideshow": {
     "slide_type": "fragment"
    }
   },
   "outputs": [],
   "source": [
    "train_step = tf.train.GradientDescentOptimizer(0.01).minimize(loss)\n",
    "delta = tf.abs((y - p))\n",
    "prediction = tf.round(p)\n",
    "correct_prediction = tf.cast(tf.equal(prediction, y), dtype=tf.float32)\n",
    "accuracy = tf.reduce_mean(tf.cast(correct_prediction, tf.float32))"
   ]
  },
  {
   "cell_type": "code",
   "execution_count": 60,
   "metadata": {
    "slideshow": {
     "slide_type": "slide"
    }
   },
   "outputs": [],
   "source": [
    "# Train\n",
    "init = tf.global_variables_initializer()"
   ]
  },
  {
   "cell_type": "code",
   "execution_count": 61,
   "metadata": {
    "slideshow": {
     "slide_type": "fragment"
    }
   },
   "outputs": [],
   "source": [
    "epochs = 500\n",
    "loss_trace = []\n",
    "accuracy_train = []\n",
    "accuracy_test = []"
   ]
  },
  {
   "cell_type": "code",
   "execution_count": 62,
   "metadata": {
    "slideshow": {
     "slide_type": "slide"
    }
   },
   "outputs": [],
   "source": [
    "# set a path where to store the model\n",
    "model_path = \"./saved_model/model.ckpt\"\n",
    "\n",
    "# 'Saver' to save and restore all the variables\n",
    "saver = tf.train.Saver()"
   ]
  },
  {
   "cell_type": "code",
   "execution_count": 63,
   "metadata": {
    "slideshow": {
     "slide_type": "fragment"
    }
   },
   "outputs": [
    {
     "name": "stdout",
     "output_type": "stream",
     "text": [
      "Training...\n",
      "  Epoch, Loss, Accurary =      0:    0.614,   0.681\n",
      "  Epoch, Loss, Accurary =    100:    0.534,   0.750\n",
      "  Epoch, Loss, Accurary =    200:    0.484,   0.777\n",
      "  Epoch, Loss, Accurary =    300:    0.450,   0.791\n",
      "  Epoch, Loss, Accurary =    400:    0.426,   0.800\n",
      "Accuracy =     0.8190\n",
      "Model saved in file: ./saved_model/model.ckpt\n"
     ]
    }
   ],
   "source": [
    "with tf.Session() as sess:\n",
    "    sess.run(init)\n",
    "\n",
    "    print('Training...')\n",
    "    for i in range(epochs):\n",
    "        fd_train = {X: Xtrain, y: ytrain}\n",
    "        train_step.run(fd_train) \n",
    "        \n",
    "        fd_test = {X: Xtest, y: ytest}\n",
    "        \n",
    "        if i % 100 == 0:\n",
    "            loss_step = loss.eval(fd_train)\n",
    "            train_accuracy = accuracy.eval(fd_train)\n",
    "            test_accuracy = accuracy.eval(fd_test)\n",
    "            loss_trace.append(loss_step)\n",
    "            accuracy_train.append(train_accuracy)\n",
    "            accuracy_test.append(test_accuracy)\n",
    "            print('  Epoch, Loss, Accurary = %6d: %8.3f,%8.3f' % (i, loss_step, train_accuracy))  \n",
    "\n",
    "    \n",
    "    # Test trained model\n",
    "    fd_test = {X: Xtest, y: ytest}\n",
    "    print('Accuracy = %10.4f' % accuracy.eval(fd_test))\n",
    "    \n",
    "     # Save model weights to disk\n",
    "    save_path = saver.save(sess, model_path)\n",
    "    print(\"Model saved in file: %s\" % save_path)"
   ]
  },
  {
   "cell_type": "code",
   "execution_count": 64,
   "metadata": {
    "slideshow": {
     "slide_type": "slide"
    }
   },
   "outputs": [
    {
     "data": {
      "image/png": "[encoded data removed]",
      "text/plain": [
       "<matplotlib.figure.Figure at 0x11b4e65c0>"
      ]
     },
     "metadata": {},
     "output_type": "display_data"
    }
   ],
   "source": [
    "# Visualization of the results\n",
    "# loss function\n",
    "plt.plot(loss_trace)\n",
    "plt.title('Cross Entropy Loss')\n",
    "plt.xlabel('Epoch')\n",
    "plt.ylabel('Loss')\n",
    "plt.show()"
   ]
  },
  {
   "cell_type": "code",
   "execution_count": 65,
   "metadata": {
    "slideshow": {
     "slide_type": "slide"
    }
   },
   "outputs": [
    {
     "data": {
      "image/png": "[encoded data removed]",
      "text/plain": [
       "<matplotlib.figure.Figure at 0x11b4e63c8>"
      ]
     },
     "metadata": {},
     "output_type": "display_data"
    }
   ],
   "source": [
    "# accuracy\n",
    "plt.plot(accuracy_train, 'b-', label='train accuracy')\n",
    "plt.plot(accuracy_test, 'k-', label='test accuracy')\n",
    "plt.xlabel('Epoch')\n",
    "plt.ylabel('Accuracy')\n",
    "plt.title('Train and Test Accuracy')\n",
    "plt.legend(loc='best')\n",
    "plt.show()"
   ]
  },
  {
   "cell_type": "markdown",
   "metadata": {
    "slideshow": {
     "slide_type": "slide"
    }
   },
   "source": [
    "### Save and restore TF models\n",
    "\n",
    "After we trained a model, we can save it with \n",
    "\n",
    "```saver = tf.train.Saver()```\n",
    "\n",
    "```saver.save(sess, model_path)```\n",
    "\n",
    "and restore with \n",
    "\n",
    "```saver.restore(sess, \"/tmp/model.ckpt\")```."
   ]
  },
  {
   "cell_type": "markdown",
   "metadata": {
    "slideshow": {
     "slide_type": "slide"
    }
   },
   "source": [
    "Let us restore the model from above and continue training:"
   ]
  },
  {
   "cell_type": "code",
   "execution_count": 66,
   "metadata": {
    "slideshow": {
     "slide_type": "fragment"
    }
   },
   "outputs": [],
   "source": [
    "epochs = 50"
   ]
  },
  {
   "cell_type": "code",
   "execution_count": 67,
   "metadata": {
    "slideshow": {
     "slide_type": "slide"
    }
   },
   "outputs": [
    {
     "name": "stdout",
     "output_type": "stream",
     "text": [
      "Restoring model...\n",
      "INFO:tensorflow:Restoring parameters from ./saved_model/model.ckpt\n",
      "Model restored from file: ./saved_model/model.ckpt\n",
      "Continue training\n",
      "  Epoch, Loss, Accurary =      0:    0.409,   0.804\n",
      "  Epoch, Loss, Accurary =     10:    0.408,   0.805\n",
      "  Epoch, Loss, Accurary =     20:    0.406,   0.806\n",
      "  Epoch, Loss, Accurary =     30:    0.405,   0.807\n",
      "  Epoch, Loss, Accurary =     40:    0.404,   0.808\n",
      "Accuracy =     0.8210\n"
     ]
    }
   ],
   "source": [
    "print(\"Restoring model...\")\n",
    "with tf.Session() as sess:\n",
    "    # Initialize variables\n",
    "    sess.run(init)\n",
    "    \n",
    "    # Restore model weights from previously saved model\n",
    "    load_path = saver.restore(sess, model_path)\n",
    "    print(\"Model restored from file: %s\" % save_path)\n",
    "    \n",
    "    print(\"Continue training\")\n",
    "    for i in range(epochs):\n",
    "        fd_train = {X: Xtrain, y: ytrain}\n",
    "        train_step.run(fd_train) \n",
    "        \n",
    "        fd_test = {X: Xtest, y: ytest}\n",
    "        \n",
    "        if i % 10 == 0:\n",
    "            loss_step = loss.eval(fd_train)\n",
    "            train_accuracy = accuracy.eval(fd_train)\n",
    "            test_accuracy = accuracy.eval(fd_test)\n",
    "            loss_trace.append(loss_step)\n",
    "            accuracy_train.append(train_accuracy)\n",
    "            accuracy_test.append(test_accuracy)\n",
    "            print('  Epoch, Loss, Accurary = %6d: %8.3f,%8.3f' % (i, loss_step, train_accuracy))  \n",
    "\n",
    "    \n",
    "    # Test trained model\n",
    "    fd_test = {X: Xtest, y: ytest}\n",
    "    print('Accuracy = %10.4f' % accuracy.eval(fd_test))"
   ]
  },
  {
   "cell_type": "code",
   "execution_count": 68,
   "metadata": {
    "slideshow": {
     "slide_type": "slide"
    }
   },
   "outputs": [
    {
     "data": {
      "image/png": "[encoded data removed]",
      "text/plain": [
       "<matplotlib.figure.Figure at 0x11b2a8940>"
      ]
     },
     "metadata": {},
     "output_type": "display_data"
    },
    {
     "data": {
      "image/png": "[encoded data removed]",
      "text/plain": [
       "<matplotlib.figure.Figure at 0x11b5ea550>"
      ]
     },
     "metadata": {},
     "output_type": "display_data"
    }
   ],
   "source": [
    "# Visualization of the results\n",
    "# loss function\n",
    "plt.plot(loss_trace)\n",
    "plt.title('Cross Entropy Loss')\n",
    "plt.xlabel('Epoch')\n",
    "plt.ylabel('Loss')\n",
    "plt.show()\n",
    "\n",
    "# accuracy\n",
    "plt.plot(accuracy_train, 'b-', label='train accuracy')\n",
    "plt.plot(accuracy_test, 'k-', label='test accuracy')\n",
    "plt.xlabel('Epoch')\n",
    "plt.ylabel('Accuracy')\n",
    "plt.title('Train and Test Accuracy')\n",
    "plt.legend(loc='best')\n",
    "plt.show()"
   ]
  },
  {
   "cell_type": "markdown",
   "metadata": {
    "slideshow": {
     "slide_type": "slide"
    }
   },
   "source": [
    "Conclusion: accuracy does not improve with the increasing number oh epochs. This means that the logistic regression model can not do better on the nonlinear problem. That is why we need deeper nets."
   ]
  },
  {
   "cell_type": "markdown",
   "metadata": {
    "slideshow": {
     "slide_type": "slide"
    }
   },
   "source": [
    "The feature of saving and restoring models allows us to share models. Once somebidy has done the job of training a model, we do not need to retrain it to make predictions. Below we will exploit the model, trained for the fake news challenge, and apply to our data, which the model has not seen before."
   ]
  },
  {
   "cell_type": "markdown",
   "metadata": {
    "slideshow": {
     "slide_type": "slide"
    }
   },
   "source": [
    "Our implementations above did not include batching and dropouts for simplicity."
   ]
  },
  {
   "cell_type": "markdown",
   "metadata": {
    "slideshow": {
     "slide_type": "slide"
    }
   },
   "source": [
    "To build a deeper network we need to stack hidden layers together. By stacking several fully connected layers we will obtain a **multilayer perceptron** (MLP). As a rule of thumb, the number of nodes in the hidden layers should be larger than the number of features, while the number of layers greated than two might not help much."
   ]
  },
  {
   "cell_type": "markdown",
   "metadata": {
    "slideshow": {
     "slide_type": "slide"
    }
   },
   "source": [
    "### <span style=\"color:coral\">8. A remark on Keras</span>\n",
    "\n",
    "Keras is high level framework and allows to simply define the layers. Keras wraps TensorFlow and uses it as execution backened."
   ]
  },
  {
   "cell_type": "code",
   "execution_count": 69,
   "metadata": {
    "slideshow": {
     "slide_type": "fragment"
    }
   },
   "outputs": [
    {
     "name": "stderr",
     "output_type": "stream",
     "text": [
      "Using TensorFlow backend.\n"
     ]
    }
   ],
   "source": [
    "from keras.models import Sequential\n",
    "model = Sequential()"
   ]
  },
  {
   "cell_type": "code",
   "execution_count": 171,
   "metadata": {
    "slideshow": {
     "slide_type": "slide"
    }
   },
   "outputs": [],
   "source": [
    "import numpy as np\n",
    "from keras.models import Sequential\n",
    "from keras.layers.core import Dense, Activation, Dropout\n",
    "\n",
    "# X has shape (num_rows, num_cols), where the training data are stored\n",
    "# as row vectors\n",
    "X = np.array([[0, 0], [0, 1], [1, 0], [1, 1]], dtype=np.float32)\n",
    "\n",
    "# y must have an output vector for each input vector\n",
    "y = np.array([[0], [0], [0], [1]], dtype=np.float32)\n",
    "\n",
    "# Create the Sequential model\n",
    "model = Sequential()\n",
    "\n",
    "# 1st Layer - Add an input layer of 32 nodes with the same input shape as\n",
    "# the training samples in X\n",
    "# creates 32 nodes which each expect to receive 2-element vectors as inputs.\n",
    "model.add(Dense(32, input_dim=X.shape[1]))\n",
    "\n",
    "# Add a softmax activation layer\n",
    "model.add(Activation('softmax'))\n",
    "\n",
    "# 2nd Layer - Add a fully connected output layer\n",
    "model.add(Dense(1))\n",
    "\n",
    "# Add a sigmoid activation layer\n",
    "model.add(Activation('sigmoid'))"
   ]
  },
  {
   "cell_type": "code",
   "execution_count": 172,
   "metadata": {
    "slideshow": {
     "slide_type": "slide"
    }
   },
   "outputs": [],
   "source": [
    "model.compile(loss=\"categorical_crossentropy\", optimizer=\"adam\", metrics = [\"accuracy\"])"
   ]
  },
  {
   "cell_type": "markdown",
   "metadata": {
    "slideshow": {
     "slide_type": "slide"
    }
   },
   "source": [
    "The resulting model architecture can be viewed with the following command:"
   ]
  },
  {
   "cell_type": "code",
   "execution_count": 173,
   "metadata": {
    "slideshow": {
     "slide_type": "fragment"
    }
   },
   "outputs": [
    {
     "name": "stdout",
     "output_type": "stream",
     "text": [
      "_________________________________________________________________\n",
      "Layer (type)                 Output Shape              Param #   \n",
      "=================================================================\n",
      "dense_1 (Dense)              (None, 32)                96        \n",
      "_________________________________________________________________\n",
      "activation_1 (Activation)    (None, 32)                0         \n",
      "_________________________________________________________________\n",
      "dense_2 (Dense)              (None, 1)                 33        \n",
      "_________________________________________________________________\n",
      "activation_2 (Activation)    (None, 1)                 0         \n",
      "=================================================================\n",
      "Total params: 129\n",
      "Trainable params: 129\n",
      "Non-trainable params: 0\n",
      "_________________________________________________________________\n"
     ]
    }
   ],
   "source": [
    "model.summary()"
   ]
  },
  {
   "cell_type": "markdown",
   "metadata": {
    "slideshow": {
     "slide_type": "slide"
    }
   },
   "source": [
    "The model is trained with the fit() method, through the following command that specifies the number of training epochs and the message level (how much information we want displayed on the screen during training)."
   ]
  },
  {
   "cell_type": "code",
   "execution_count": 174,
   "metadata": {},
   "outputs": [],
   "source": [
    "#model.fit(X, y, epochs=1000, verbose=0)\n",
    "#model.evaluate()"
   ]
  },
  {
   "cell_type": "markdown",
   "metadata": {
    "slideshow": {
     "slide_type": "slide"
    }
   },
   "source": [
    "In a nutshell, that's all of it:"
   ]
  },
  {
   "cell_type": "code",
   "execution_count": 70,
   "metadata": {},
   "outputs": [],
   "source": [
    "import numpy as np\n",
    "from keras.models import Sequential\n",
    "from keras.layers.core import Dense, Activation, Dropout"
   ]
  },
  {
   "cell_type": "code",
   "execution_count": 72,
   "metadata": {
    "slideshow": {
     "slide_type": "fragment"
    }
   },
   "outputs": [
    {
     "name": "stdout",
     "output_type": "stream",
     "text": [
      "_________________________________________________________________\n",
      "Layer (type)                 Output Shape              Param #   \n",
      "=================================================================\n",
      "dense_4 (Dense)              (None, 3)                 9         \n",
      "_________________________________________________________________\n",
      "activation_4 (Activation)    (None, 3)                 0         \n",
      "_________________________________________________________________\n",
      "dropout_2 (Dropout)          (None, 3)                 0         \n",
      "_________________________________________________________________\n",
      "dense_5 (Dense)              (None, 3)                 12        \n",
      "_________________________________________________________________\n",
      "activation_5 (Activation)    (None, 3)                 0         \n",
      "_________________________________________________________________\n",
      "dense_6 (Dense)              (None, 1)                 4         \n",
      "_________________________________________________________________\n",
      "activation_6 (Activation)    (None, 1)                 0         \n",
      "=================================================================\n",
      "Total params: 25\n",
      "Trainable params: 25\n",
      "Non-trainable params: 0\n",
      "_________________________________________________________________\n"
     ]
    }
   ],
   "source": [
    "n1 = 3\n",
    "n2 = 3\n",
    "dropout_prop = 0.2\n",
    "model = Sequential()\n",
    "model.add(Dense(n1, input_dim=n_input))\n",
    "model.add(Activation('sigmoid'))\n",
    "model.add(Dropout(dropout_prop))\n",
    "model.add(Dense(n2))\n",
    "model.add(Activation('sigmoid'))\n",
    "model.add(Dense(n_classes))\n",
    "model.add(Activation('sigmoid'))\n",
    "model.compile(loss = 'binary_crossentropy', optimizer='adam', metrics=['accuracy'])\n",
    "model.summary()"
   ]
  },
  {
   "cell_type": "code",
   "execution_count": 74,
   "metadata": {
    "slideshow": {
     "slide_type": "slide"
    }
   },
   "outputs": [],
   "source": [
    "# create model\n",
    "model = Sequential()\n",
    "model.add(Dense(n1, input_dim=n_features, activation='relu'))\n",
    "model.add(Dense(n2, activation='relu'))\n",
    "model.add(Dense(n_classes, activation='sigmoid'))"
   ]
  },
  {
   "cell_type": "code",
   "execution_count": 75,
   "metadata": {
    "slideshow": {
     "slide_type": "fragment"
    }
   },
   "outputs": [],
   "source": [
    "# Compile model\n",
    "model.compile(loss='binary_crossentropy', optimizer='adam', metrics=['accuracy'])\n"
   ]
  },
  {
   "cell_type": "code",
   "execution_count": 77,
   "metadata": {
    "slideshow": {
     "slide_type": "fragment"
    }
   },
   "outputs": [
    {
     "name": "stdout",
     "output_type": "stream",
     "text": [
      "Epoch 1/50\n",
      "4000/4000 [==============================] - 1s 319us/step - loss: 0.3151 - acc: 0.8067\n",
      "Epoch 2/50\n",
      "4000/4000 [==============================] - 1s 309us/step - loss: 0.3141 - acc: 0.8067\n",
      "Epoch 3/50\n",
      "4000/4000 [==============================] - 1s 268us/step - loss: 0.3134 - acc: 0.8067\n",
      "Epoch 4/50\n",
      "4000/4000 [==============================] - 1s 254us/step - loss: 0.3123 - acc: 0.8067\n",
      "Epoch 5/50\n",
      "4000/4000 [==============================] - 1s 285us/step - loss: 0.3116 - acc: 0.8067\n",
      "Epoch 6/50\n",
      "4000/4000 [==============================] - 1s 266us/step - loss: 0.3111 - acc: 0.8067\n",
      "Epoch 7/50\n",
      "4000/4000 [==============================] - 1s 310us/step - loss: 0.3104 - acc: 0.8067\n",
      "Epoch 8/50\n",
      "4000/4000 [==============================] - 1s 315us/step - loss: 0.3098 - acc: 0.8067\n",
      "Epoch 9/50\n",
      "4000/4000 [==============================] - 1s 280us/step - loss: 0.3094 - acc: 0.8067\n",
      "Epoch 10/50\n",
      "4000/4000 [==============================] - 1s 311us/step - loss: 0.3091 - acc: 0.8067\n",
      "Epoch 11/50\n",
      "4000/4000 [==============================] - 1s 369us/step - loss: 0.3084 - acc: 0.8067\n",
      "Epoch 12/50\n",
      "4000/4000 [==============================] - 1s 321us/step - loss: 0.3077 - acc: 0.8067\n",
      "Epoch 13/50\n",
      "4000/4000 [==============================] - 1s 286us/step - loss: 0.3073 - acc: 0.8067\n",
      "Epoch 14/50\n",
      "4000/4000 [==============================] - 1s 352us/step - loss: 0.3073 - acc: 0.8067\n",
      "Epoch 15/50\n",
      "4000/4000 [==============================] - 1s 321us/step - loss: 0.3068 - acc: 0.8067\n",
      "Epoch 16/50\n",
      "4000/4000 [==============================] - 1s 295us/step - loss: 0.3066 - acc: 0.8067\n",
      "Epoch 17/50\n",
      "4000/4000 [==============================] - 1s 336us/step - loss: 0.3065 - acc: 0.8067\n",
      "Epoch 18/50\n",
      "4000/4000 [==============================] - 1s 275us/step - loss: 0.3061 - acc: 0.8067\n",
      "Epoch 19/50\n",
      "4000/4000 [==============================] - 1s 311us/step - loss: 0.3060 - acc: 0.8067\n",
      "Epoch 20/50\n",
      "4000/4000 [==============================] - 1s 349us/step - loss: 0.3054 - acc: 0.8067\n",
      "Epoch 21/50\n",
      "4000/4000 [==============================] - 1s 306us/step - loss: 0.3053 - acc: 0.8067\n",
      "Epoch 22/50\n",
      "4000/4000 [==============================] - 1s 347us/step - loss: 0.3055 - acc: 0.8067\n",
      "Epoch 23/50\n",
      "4000/4000 [==============================] - 1s 309us/step - loss: 0.3053 - acc: 0.8067\n",
      "Epoch 24/50\n",
      "4000/4000 [==============================] - 1s 367us/step - loss: 0.3047 - acc: 0.8067\n",
      "Epoch 25/50\n",
      "4000/4000 [==============================] - 1s 301us/step - loss: 0.3047 - acc: 0.8067\n",
      "Epoch 26/50\n",
      "4000/4000 [==============================] - 1s 319us/step - loss: 0.3041 - acc: 0.8067\n",
      "Epoch 27/50\n",
      "4000/4000 [==============================] - 1s 280us/step - loss: 0.3040 - acc: 0.8067\n",
      "Epoch 28/50\n",
      "4000/4000 [==============================] - 1s 297us/step - loss: 0.3041 - acc: 0.8067\n",
      "Epoch 29/50\n",
      "4000/4000 [==============================] - 1s 296us/step - loss: 0.3035 - acc: 0.8067\n",
      "Epoch 30/50\n",
      "4000/4000 [==============================] - 1s 358us/step - loss: 0.3038 - acc: 0.8067\n",
      "Epoch 31/50\n",
      "4000/4000 [==============================] - 1s 335us/step - loss: 0.3034 - acc: 0.8067\n",
      "Epoch 32/50\n",
      "4000/4000 [==============================] - 1s 330us/step - loss: 0.3034 - acc: 0.8067\n",
      "Epoch 33/50\n",
      "4000/4000 [==============================] - 1s 369us/step - loss: 0.3032 - acc: 0.8067\n",
      "Epoch 34/50\n",
      "4000/4000 [==============================] - 1s 354us/step - loss: 0.3027 - acc: 0.8020\n",
      "Epoch 35/50\n",
      "4000/4000 [==============================] - 1s 306us/step - loss: 0.3029 - acc: 0.8067\n",
      "Epoch 36/50\n",
      "4000/4000 [==============================] - 1s 279us/step - loss: 0.3029 - acc: 0.8042\n",
      "Epoch 37/50\n",
      "4000/4000 [==============================] - 1s 370us/step - loss: 0.3032 - acc: 0.8017\n",
      "Epoch 38/50\n",
      "4000/4000 [==============================] - 1s 342us/step - loss: 0.3025 - acc: 0.8070\n",
      "Epoch 39/50\n",
      "4000/4000 [==============================] - 1s 330us/step - loss: 0.3025 - acc: 0.8090\n",
      "Epoch 40/50\n",
      "4000/4000 [==============================] - 2s 394us/step - loss: 0.3027 - acc: 0.8082\n",
      "Epoch 41/50\n",
      "4000/4000 [==============================] - 1s 344us/step - loss: 0.3025 - acc: 0.8095\n",
      "Epoch 42/50\n",
      "4000/4000 [==============================] - 1s 372us/step - loss: 0.3023 - acc: 0.8085\n",
      "Epoch 43/50\n",
      "4000/4000 [==============================] - 1s 323us/step - loss: 0.3026 - acc: 0.8105\n",
      "Epoch 44/50\n",
      "4000/4000 [==============================] - 1s 358us/step - loss: 0.3020 - acc: 0.8132\n",
      "Epoch 45/50\n",
      "4000/4000 [==============================] - 1s 326us/step - loss: 0.3021 - acc: 0.8120 0s - loss: 0.3024 - acc: 0\n",
      "Epoch 46/50\n",
      "4000/4000 [==============================] - 1s 294us/step - loss: 0.3024 - acc: 0.8135\n",
      "Epoch 47/50\n",
      "4000/4000 [==============================] - 1s 353us/step - loss: 0.3025 - acc: 0.8110\n",
      "Epoch 48/50\n",
      "4000/4000 [==============================] - 1s 282us/step - loss: 0.3025 - acc: 0.8117\n",
      "Epoch 49/50\n",
      "4000/4000 [==============================] - 1s 297us/step - loss: 0.3023 - acc: 0.8142\n",
      "Epoch 50/50\n",
      "4000/4000 [==============================] - 1s 368us/step - loss: 0.3023 - acc: 0.8140\n"
     ]
    },
    {
     "data": {
      "text/plain": [
       "<keras.callbacks.History at 0x11caa5278>"
      ]
     },
     "execution_count": 77,
     "metadata": {},
     "output_type": "execute_result"
    }
   ],
   "source": [
    "# Fit the model\n",
    "model.fit(Xtrain, ytrain, epochs=50, batch_size=10)"
   ]
  },
  {
   "cell_type": "code",
   "execution_count": 78,
   "metadata": {
    "slideshow": {
     "slide_type": "slide"
    }
   },
   "outputs": [
    {
     "name": "stdout",
     "output_type": "stream",
     "text": [
      "1000/1000 [==============================] - 0s 98us/step\n",
      "\n",
      "acc: 81.40%\n"
     ]
    }
   ],
   "source": [
    "# evaluate the model\n",
    "scores = model.evaluate(Xtest, ytest)\n",
    "print(\"\\n%s: %.2f%%\" % (model.metrics_names[1], scores[1]*100))"
   ]
  },
  {
   "cell_type": "markdown",
   "metadata": {
    "slideshow": {
     "slide_type": "slide"
    }
   },
   "source": [
    "Choices to make for the architechture and the values of hyperparameters:\n",
    "    * number of layers\n",
    "    * sizes of the layers\n",
    "    * number of epochs\n",
    "    * batch size\n",
    "    * Activation function (sigmoid, relu, tanh, softmax)\n",
    "    * Loss function (binary_crossentropy, categorical_crossentropy, mean_squared_error)\n",
    "    * Optimizer (rmsprop, adam, ada)\n",
    "    * Dropout probability"
   ]
  },
  {
   "cell_type": "markdown",
   "metadata": {
    "slideshow": {
     "slide_type": "slide"
    }
   },
   "source": [
    "## Part 3: Projects\n",
    "\n",
    "**Text** is what we use to communicate. It documents how we talk and write. News as text is available and is relatively easy to scrap. Video and audio news can be transformed to text with the help of APIs."
   ]
  },
  {
   "cell_type": "markdown",
   "metadata": {
    "slideshow": {
     "slide_type": "slide"
    }
   },
   "source": [
    "### <span style=\"color:coral\">10. Speech to text</span>\n",
    "\n",
    "Speech Recognition using **Google Speech API**\n",
    "\n",
    "We will perform a live demo, but not do this execrcise all together during the workshop, since it requires additional installations. Here is how they can be done:\n",
    "\n",
    "Installations (on Mac)\n",
    "\n",
    "```git clone http://people.csail.mit.edu/hubert/git/pyaudio.git```\n",
    "\n",
    "```cd pyaudio```\n",
    "\n",
    "```brew install portaudio```\n",
    "\n",
    "```pip install pyAudio```\n",
    "\n",
    "```pip install SpeechRecognition```\n",
    "\n",
    "Save the following code in a file speech2text.py and run in Termial with \n",
    "\n",
    "```python speech2text.py```"
   ]
  },
  {
   "cell_type": "markdown",
   "metadata": {
    "slideshow": {
     "slide_type": "slide"
    }
   },
   "source": [
    "``` #speech2text.py\n",
    "# Requires PyAudio and PySpeech.\n",
    "import speech_recognition as sr\n",
    " \n",
    "# Record Audio\n",
    "r = sr.Recognizer()\n",
    "with sr.Microphone() as source:\n",
    "    print(\"Say something!\")\n",
    "    audio = r.listen(source)\n",
    " \n",
    "# Speech recognition using Google Speech Recognition\n",
    "try:\n",
    "    # for testing purposes, we're just using the default API key\n",
    "    # to use another API key, use `r.recognize_google(audio, key=\"GOOGLE_SPEECH_RECOGNITION_API_KEY\")`\n",
    "    # instead of `r.recognize_google(audio)`\n",
    "    print(\"You said: \" + r.recognize_google(audio))\n",
    "except sr.UnknownValueError:\n",
    "    print(\"Google Speech Recognition could not understand audio\")\n",
    "except sr.RequestError as e:\n",
    "    print(\"Could not request results from Google Speech Recognition service; {0}\".format(e))\n",
    "```"
   ]
  },
  {
   "cell_type": "markdown",
   "metadata": {
    "slideshow": {
     "slide_type": "slide"
    }
   },
   "source": [
    "The result should look as follows:\n",
    "\n",
    "![alt text](pics_presentation/speech2text.png)"
   ]
  },
  {
   "cell_type": "markdown",
   "metadata": {
    "slideshow": {
     "slide_type": "slide"
    }
   },
   "source": [
    "### <span style=\"color:coral\">11. Information retrieval (with spaCy)</span> </span> \n",
    "\n",
    "As discussed before, we can represent each text as a vector of a fixed length and evaluate the proximity of two texts as proximity of vectors. The [SpaCy](https://spacy.io/) library can help us do it neatly.\n",
    "\n",
    "Given a piece of news and a set of emails, we will extract the most relevant emails with respect to the news based on the **similarity** of texts. Similarity is determined by comparing word vectors or \"word embeddings\", multi-dimensional meaning representations of a word. Word vectors can be generated using an algorithm like word2vec. Documentations can be found [here](https://spacy.io/usage/vectors-similarity)."
   ]
  },
  {
   "cell_type": "code",
   "execution_count": 79,
   "metadata": {
    "slideshow": {
     "slide_type": "fragment"
    }
   },
   "outputs": [],
   "source": [
    "# Activate the AMLD environment: \n",
    "# source activate amld\n",
    "#Install:  \n",
    "# conda install spacy \n",
    "# python3 -m spacy download en"
   ]
  },
  {
   "cell_type": "code",
   "execution_count": 80,
   "metadata": {
    "slideshow": {
     "slide_type": "slide"
    }
   },
   "outputs": [],
   "source": [
    "import spacy\n",
    "\n",
    "nlp = spacy.load('en')\n",
    "\n",
    "def similarity(text1, text2):\n",
    "    doc1 = nlp(text1)\n",
    "    doc2 = nlp(text2)\n",
    "    sim = round(doc1.similarity(doc2),2)\n",
    "    return sim"
   ]
  },
  {
   "cell_type": "code",
   "execution_count": 81,
   "metadata": {
    "slideshow": {
     "slide_type": "fragment"
    }
   },
   "outputs": [
    {
     "name": "stdout",
     "output_type": "stream",
     "text": [
      "Similarity of documents = 1.0\n"
     ]
    }
   ],
   "source": [
    "# a trivial example\n",
    "text_name_1 = 'spacy/easy_text1.txt'\n",
    "text_name_2 = 'spacy/easy_text1.txt'\n",
    "text1 = open(text_name_1).read()\n",
    "text2 = open(text_name_2).read()\n",
    "sim = similarity(text1, text2)\n",
    "print('Similarity of documents = ' +  str(sim))"
   ]
  },
  {
   "cell_type": "code",
   "execution_count": 82,
   "metadata": {
    "slideshow": {
     "slide_type": "slide"
    }
   },
   "outputs": [
    {
     "name": "stdout",
     "output_type": "stream",
     "text": [
      "imply that Hillary has a life- threatening condition called sinus thrombosis, helped create ISIS, and was responsible for the death of Americans in Benghazi\n"
     ]
    }
   ],
   "source": [
    "# read in the news text\n",
    "text_name = 'data/news1.txt'\n",
    "text_news = open(text_name).read()\n",
    "print(text_news)"
   ]
  },
  {
   "cell_type": "code",
   "execution_count": 83,
   "metadata": {
    "slideshow": {
     "slide_type": "slide"
    }
   },
   "outputs": [],
   "source": [
    "# read emails \n",
    "import json\n",
    "\n",
    "def load_json_data(path_to_file):\n",
    "    lol = pd.read_json(path_to_file,encoding='ascii')\n",
    "    data_DF = lol.T\n",
    "    data_DF['from'] = data_DF['from'].str.lower()\n",
    "    data_DF['body'] = data_DF['body'].apply(lambda x: \" \".join(str(x).split()))\n",
    "    #print(data_DF['body'])\n",
    "    return data_DF"
   ]
  },
  {
   "cell_type": "code",
   "execution_count": 84,
   "metadata": {},
   "outputs": [],
   "source": [
    "import pandas as pd\n",
    "emails_pd = load_json_data('data/fulldatastuff.json')"
   ]
  },
  {
   "cell_type": "code",
   "execution_count": 85,
   "metadata": {},
   "outputs": [
    {
     "data": {
      "text/html": [
       "<div>\n",
       "<style scoped>\n",
       "    .dataframe tbody tr th:only-of-type {\n",
       "        vertical-align: middle;\n",
       "    }\n",
       "\n",
       "    .dataframe tbody tr th {\n",
       "        vertical-align: top;\n",
       "    }\n",
       "\n",
       "    .dataframe thead th {\n",
       "        text-align: right;\n",
       "    }\n",
       "</style>\n",
       "<table border=\"1\" class=\"dataframe\">\n",
       "  <thead>\n",
       "    <tr style=\"text-align: right;\">\n",
       "      <th></th>\n",
       "      <th>body</th>\n",
       "      <th>date</th>\n",
       "      <th>from</th>\n",
       "      <th>from_name</th>\n",
       "      <th>subject</th>\n",
       "      <th>to</th>\n",
       "    </tr>\n",
       "  </thead>\n",
       "  <tbody>\n",
       "    <tr>\n",
       "      <th>0</th>\n",
       "      <td>How many more states can we get to follow Conn...</td>\n",
       "      <td>2016-05-17T19:51:22-07:00</td>\n",
       "      <td>gardem@dnc.org</td>\n",
       "      <td>Maureen Garde</td>\n",
       "      <td>Re: CT To Automatically Register 400,000 Voters</td>\n",
       "      <td>[[\"Davis, Marilyn\", DavisM@dnc.org]]</td>\n",
       "    </tr>\n",
       "    <tr>\n",
       "      <th>1</th>\n",
       "      <td>She maxed out to us earlier this year total un...</td>\n",
       "      <td>2016-05-04T06:58:23-07:00</td>\n",
       "      <td>shapiroa@dnc.org</td>\n",
       "      <td>\"Shapiro, Alexandra\"</td>\n",
       "      <td>What about asking Toni Bush to host?</td>\n",
       "      <td>[[\"Kaplan, Jordan\", KaplanJ@dnc.org]]</td>\n",
       "    </tr>\n",
       "    <tr>\n",
       "      <th>10</th>\n",
       "      <td>nan</td>\n",
       "      <td>2016-05-04T16:49:31-04:00</td>\n",
       "      <td>postmaster@my.democrats.org</td>\n",
       "      <td>Contribution</td>\n",
       "      <td>Contribution: Finance - Tristate 2016 / Judith...</td>\n",
       "      <td>[[,, allenz@dnc.org], [,, parrishd@dnc.org], [...</td>\n",
       "    </tr>\n",
       "    <tr>\n",
       "      <th>100</th>\n",
       "      <td>Jordan KaplanNational Finance DirectorDemocrat...</td>\n",
       "      <td>2016-04-25T14:54:17-04:00</td>\n",
       "      <td>kaplanj@dnc.org</td>\n",
       "      <td>Jordan Kaplan</td>\n",
       "      <td>Re: Paris reception</td>\n",
       "      <td>[[\"Rauscher, Rachel\", RauscherR@dnc.org]]</td>\n",
       "    </tr>\n",
       "    <tr>\n",
       "      <th>1000</th>\n",
       "      <td>nan</td>\n",
       "      <td>2016-05-04T05:47:44-06:00</td>\n",
       "      <td>illinoisplaybook@politico.com</td>\n",
       "      <td>Natasha Korecki</td>\n",
       "      <td>POLITICO Illinois Playbook, presented by Nucle...</td>\n",
       "      <td>[]</td>\n",
       "    </tr>\n",
       "  </tbody>\n",
       "</table>\n",
       "</div>"
      ],
      "text/plain": [
       "                                                   body  \\\n",
       "0     How many more states can we get to follow Conn...   \n",
       "1     She maxed out to us earlier this year total un...   \n",
       "10                                                  nan   \n",
       "100   Jordan KaplanNational Finance DirectorDemocrat...   \n",
       "1000                                                nan   \n",
       "\n",
       "                           date                           from  \\\n",
       "0     2016-05-17T19:51:22-07:00                 gardem@dnc.org   \n",
       "1     2016-05-04T06:58:23-07:00               shapiroa@dnc.org   \n",
       "10    2016-05-04T16:49:31-04:00    postmaster@my.democrats.org   \n",
       "100   2016-04-25T14:54:17-04:00                kaplanj@dnc.org   \n",
       "1000  2016-05-04T05:47:44-06:00  illinoisplaybook@politico.com   \n",
       "\n",
       "                 from_name                                            subject  \\\n",
       "0            Maureen Garde    Re: CT To Automatically Register 400,000 Voters   \n",
       "1     \"Shapiro, Alexandra\"               What about asking Toni Bush to host?   \n",
       "10            Contribution  Contribution: Finance - Tristate 2016 / Judith...   \n",
       "100          Jordan Kaplan                                Re: Paris reception   \n",
       "1000       Natasha Korecki  POLITICO Illinois Playbook, presented by Nucle...   \n",
       "\n",
       "                                                     to  \n",
       "0                  [[\"Davis, Marilyn\", DavisM@dnc.org]]  \n",
       "1                 [[\"Kaplan, Jordan\", KaplanJ@dnc.org]]  \n",
       "10    [[,, allenz@dnc.org], [,, parrishd@dnc.org], [...  \n",
       "100           [[\"Rauscher, Rachel\", RauscherR@dnc.org]]  \n",
       "1000                                                 []  "
      ]
     },
     "execution_count": 85,
     "metadata": {},
     "output_type": "execute_result"
    }
   ],
   "source": [
    "emails_pd.head()"
   ]
  },
  {
   "cell_type": "code",
   "execution_count": 86,
   "metadata": {
    "slideshow": {
     "slide_type": "slide"
    }
   },
   "outputs": [
    {
     "name": "stdout",
     "output_type": "stream",
     "text": [
      "How many more states can we get to follow Connecticut? Way to go!\n",
      "100\n"
     ]
    }
   ],
   "source": [
    "emails = emails_pd['body'].tolist()\n",
    "print(emails[0])\n",
    "emails = emails[0:100]\n",
    "print(len(emails))"
   ]
  },
  {
   "cell_type": "code",
   "execution_count": 87,
   "metadata": {
    "slideshow": {
     "slide_type": "slide"
    }
   },
   "outputs": [
    {
     "name": "stdout",
     "output_type": "stream",
     "text": [
      "IN CASE YOU MISSED ITThe Only Time Donald Trump Undersells: Tax TimeABC NewsBy​ ​Brian RossMay 16, 2016http://abcnews.go.com/Politics/time-donald-trump-undersells-tax-time/story?id=39133709The Trump National Golf Club in Westchester County, New York, with its lovingly-manicured golf course, gently winding streams, stone bridges, 101-foot waterfall and an expansive clubhouse is, according to Donald Trump, reflective of “a true luxury lifestyle.”Creating such a “memorable club” is not cheap -- Trump wrote on a candidate disclosure form that the sprawling 147-acre private club bearing his name is worth “more than $50 million.”But when it came time to value the property for tax purposes, his lawyers have argued that Trump National is really only worth $1.35 million. The proposed valuation has bewildered officials in the small town of Ossining, who said the new figure would cut Trump’s tax burden by 90 percent and dump that burden on everyone else.“Trump says he represents the little guy, b\n"
     ]
    }
   ],
   "source": [
    "# for a given news piece iterate through all emails and find ntop relevant ones\n",
    "from collections import defaultdict\n",
    "from heapq import nlargest\n",
    "\n",
    "similarities = defaultdict(int)\n",
    "\n",
    "def similar_emails(text_news, emails, ntop=1):\n",
    "    for i in range(len(emails)):\n",
    "        email = emails[i]\n",
    "        similarities[i] = similarity(text_news, email)\n",
    "    similarities_index = nlargest(ntop, similarities, key=similarities.get)\n",
    "    return [emails[similarities_index[i]] for i in range(ntop)]\n",
    "\n",
    "relevant_emails = similar_emails(text_news, emails, ntop=1)\n",
    "print(relevant_emails[0][0:1000])"
   ]
  },
  {
   "cell_type": "markdown",
   "metadata": {
    "slideshow": {
     "slide_type": "slide"
    }
   },
   "source": [
    "### Documentation:\n",
    "https://spacy.io/"
   ]
  },
  {
   "cell_type": "markdown",
   "metadata": {
    "slideshow": {
     "slide_type": "slide"
    }
   },
   "source": [
    "### <span style=\"color:coral\">12. Text summarization (with NLTK)</span>\n",
    "\n",
    "Another great library to work with texts is [NLTK](http://www.nltk.org/), which stands for Natural Language Toolkit. We have now extracted a large set of news on a given topic and would like to extract the most informative parts: out of each text we would like to exatract the most informative sentence. This type of summarization of texts is called **extractive**.\n",
    "\n",
    "Take a look at this video: [Hillary Clinton's concession speech](https://www.vox.com/2016/11/9/13570328/hillary-clinton-concession-speech-full-transcript-2016-presidential-election). The webpage already provides the full transcript.\n",
    "\n",
    "\n",
    "\n",
    "We will approach this task as follows:"
   ]
  },
  {
   "cell_type": "code",
   "execution_count": 88,
   "metadata": {
    "slideshow": {
     "slide_type": "slide"
    }
   },
   "outputs": [
    {
     "name": "stdout",
     "output_type": "stream",
     "text": [
      "corpus length: 6390\n"
     ]
    },
    {
     "data": {
      "text/plain": [
       "'thank you. thank you all very much. thank you so much.\\n\\nvery rowdy group. thank you, my friends. thank you. thank you. thank you so very much for being here. i love you all, too.\\n\\nlast night i congratulated donald trump and offered to work with him on behalf of our country.\\n\\ni hope that he will be a'"
      ]
     },
     "execution_count": 88,
     "metadata": {},
     "output_type": "execute_result"
    }
   ],
   "source": [
    "# import text\n",
    "\n",
    "text=open('data/trainhillary.txt').read().lower().replace('\\xa0',' ')\n",
    "print('corpus length:', len(text))\n",
    "text[0:300]"
   ]
  },
  {
   "cell_type": "code",
   "execution_count": 89,
   "metadata": {
    "slideshow": {
     "slide_type": "fragment"
    }
   },
   "outputs": [],
   "source": [
    "import nltk\n",
    "from nltk.corpus import stopwords\n",
    "from collections import defaultdict\n",
    "stopWords = set(stopwords.words(\"english\"))"
   ]
  },
  {
   "cell_type": "code",
   "execution_count": 90,
   "metadata": {
    "slideshow": {
     "slide_type": "fragment"
    }
   },
   "outputs": [
    {
     "data": {
      "text/plain": [
       "['thank you.',\n",
       " 'thank you all very much.',\n",
       " 'thank you so much.',\n",
       " 'very rowdy group.',\n",
       " 'thank you, my friends.',\n",
       " 'thank you.',\n",
       " 'thank you.',\n",
       " 'thank you so very much for being here.',\n",
       " 'i love you all, too.',\n",
       " 'last night i congratulated donald trump and offered to work with him on behalf of our country.']"
      ]
     },
     "execution_count": 90,
     "metadata": {},
     "output_type": "execute_result"
    }
   ],
   "source": [
    "sentences = nltk.sent_tokenize(text)\n",
    "len(sentences)\n",
    "sentences[0:10]"
   ]
  },
  {
   "cell_type": "code",
   "execution_count": 91,
   "metadata": {
    "slideshow": {
     "slide_type": "slide"
    }
   },
   "outputs": [],
   "source": [
    "word_sent = [nltk.word_tokenize(s.lower()) for s in sentences]"
   ]
  },
  {
   "cell_type": "code",
   "execution_count": 92,
   "metadata": {
    "slideshow": {
     "slide_type": "fragment"
    }
   },
   "outputs": [
    {
     "data": {
      "text/plain": [
       "[['thank', 'you', '.'],\n",
       " ['thank', 'you', 'all', 'very', 'much', '.'],\n",
       " ['thank', 'you', 'so', 'much', '.'],\n",
       " ['very', 'rowdy', 'group', '.'],\n",
       " ['thank', 'you', ',', 'my', 'friends', '.']]"
      ]
     },
     "execution_count": 92,
     "metadata": {},
     "output_type": "execute_result"
    }
   ],
   "source": [
    "word_sent[0:5]"
   ]
  },
  {
   "cell_type": "code",
   "execution_count": 93,
   "metadata": {
    "slideshow": {
     "slide_type": "fragment"
    }
   },
   "outputs": [
    {
     "data": {
      "text/plain": [
       "353"
      ]
     },
     "execution_count": 93,
     "metadata": {},
     "output_type": "execute_result"
    }
   ],
   "source": [
    "#compute frequencies \n",
    "freq = defaultdict(int)\n",
    "for sentence in word_sent:\n",
    "    for word in sentence:\n",
    "        if word not in stopWords:\n",
    "            freq[word] +=1\n",
    "len(freq)"
   ]
  },
  {
   "cell_type": "code",
   "execution_count": 94,
   "metadata": {
    "slideshow": {
     "slide_type": "fragment"
    }
   },
   "outputs": [
    {
     "data": {
      "text/plain": [
       "77.0"
      ]
     },
     "execution_count": 94,
     "metadata": {},
     "output_type": "execute_result"
    }
   ],
   "source": [
    "m = float(max(freq.values()))\n",
    "m"
   ]
  },
  {
   "cell_type": "code",
   "execution_count": 95,
   "metadata": {
    "slideshow": {
     "slide_type": "fragment"
    }
   },
   "outputs": [],
   "source": [
    "for word in freq.keys():\n",
    "    freq[word] = freq[word]/m"
   ]
  },
  {
   "cell_type": "code",
   "execution_count": 96,
   "metadata": {
    "slideshow": {
     "slide_type": "fragment"
    }
   },
   "outputs": [],
   "source": [
    "min_cut=0.2\n",
    "max_cut=0.8\n",
    "freq_new = defaultdict(int)\n",
    "for word in freq.keys():\n",
    "    if not freq[word] > max_cut or freq[word] < min_cut:\n",
    "        freq_new[word] = freq[word]\n",
    "freq = freq_new\n",
    "del freq_new"
   ]
  },
  {
   "cell_type": "code",
   "execution_count": 97,
   "metadata": {},
   "outputs": [
    {
     "data": {
      "text/plain": [
       "351"
      ]
     },
     "execution_count": 97,
     "metadata": {},
     "output_type": "execute_result"
    }
   ],
   "source": [
    "len(freq)"
   ]
  },
  {
   "cell_type": "code",
   "execution_count": 98,
   "metadata": {
    "slideshow": {
     "slide_type": "slide"
    }
   },
   "outputs": [],
   "source": [
    "ranking = defaultdict(int)\n",
    "for i, sentence in enumerate(word_sent):\n",
    "        for word in sentence:\n",
    "            if word in freq:\n",
    "                ranking[i] +=freq[word]"
   ]
  },
  {
   "cell_type": "code",
   "execution_count": 99,
   "metadata": {
    "slideshow": {
     "slide_type": "fragment"
    }
   },
   "outputs": [
    {
     "name": "stdout",
     "output_type": "stream",
     "text": [
      "[35]\n"
     ]
    },
    {
     "data": {
      "text/plain": [
       "'we’ve spent a year and a half bringing together millions of people from every corner of our country to say with one voice that we believe that the american dream is big enough for everyone—for people of all races, and religions, for men and women, for immigrants, for lgbt people, and people with disabilities.'"
      ]
     },
     "execution_count": 99,
     "metadata": {},
     "output_type": "execute_result"
    }
   ],
   "source": [
    "from heapq import nlargest\n",
    "sentences_index = nlargest(1, ranking, key=ranking.get)\n",
    "print(sentences_index)\n",
    "sentences[sentences_index[0]]"
   ]
  },
  {
   "cell_type": "code",
   "execution_count": 100,
   "metadata": {
    "slideshow": {
     "slide_type": "slide"
    }
   },
   "outputs": [],
   "source": [
    "## All of it in one function\n",
    "from heapq import nlargest\n",
    "import nltk\n",
    "from nltk.corpus import stopwords\n",
    "from collections import defaultdict\n",
    "\n",
    "stopWords = set(stopwords.words(\"english\"))\n",
    "\n",
    "def summarize_text(text, stopWords, min_cut, max_cut, ntop=1):\n",
    "   \n",
    "    sentences = nltk.sent_tokenize(text)\n",
    "    \n",
    "    word_sent = [nltk.word_tokenize(s.lower()) for s in sentences]\n",
    "    \n",
    "    # compute frequencies \n",
    "    freq = defaultdict(int)\n",
    "    for sentence in word_sent:\n",
    "        for word in sentence:\n",
    "            if word not in stopWords:\n",
    "                freq[word] +=1\n",
    "\n",
    "    # normilize frequencies \n",
    "    m = float(max(freq.values()))\n",
    "    for word in freq.keys():\n",
    "        freq[word] = freq[word]/m\n",
    " \n",
    "    # cut off too frequent or too rare words\n",
    "    freq_new = defaultdict(int)\n",
    "    for word in freq.keys():\n",
    "        if not freq[word] >= max_cut or freq[word] <= min_cut:\n",
    "            freq_new[word] = freq[word]\n",
    "    freq = freq_new\n",
    "    del freq_new\n",
    "    \n",
    "    # rank sentences\n",
    "    ranking = defaultdict(int)\n",
    "    for i, sentence in enumerate(word_sent):\n",
    "        for word in sentence:\n",
    "            if word in freq:\n",
    "                ranking[i] +=freq[word]\n",
    "                \n",
    "    sentences_index = nlargest(ntop, ranking, key=ranking.get)\n",
    "    summary = [sentences[sentences_index[ind]] for ind in range(len(sentences_index))]\n",
    "    return summary"
   ]
  },
  {
   "cell_type": "code",
   "execution_count": 101,
   "metadata": {
    "slideshow": {
     "slide_type": "slide"
    }
   },
   "outputs": [
    {
     "name": "stdout",
     "output_type": "stream",
     "text": [
      "SUMMARIZING SENTENCE : \n",
      "we’ve spent a year and a half bringing together millions of people from every corner of our country to say with one voice that we believe that the american dream is big enough for everyone—for people of all races, and religions, for men and women, for immigrants, for lgbt people, and people with disabilities.\n"
     ]
    }
   ],
   "source": [
    "min_cut = 0.2\n",
    "max_cut = 0.8\n",
    "ntop = 1\n",
    "summary = summarize_text(text, stopWords, min_cut, max_cut, ntop)\n",
    "print('SUMMARIZING SENTENCE : \\n' + str(summary[0]))"
   ]
  },
  {
   "cell_type": "markdown",
   "metadata": {
    "slideshow": {
     "slide_type": "slide"
    }
   },
   "source": [
    "### <span style=\"color:coral\">13. Fake news challenge</span>\n",
    "\n",
    "The challenge: http://www.fakenewschallenge.org/\n",
    "\n",
    "Data: https://github.com/FakeNewsChallenge/fnc-1\n",
    "\n",
    "We will use the 3rd winning project: https://github.com/uclmr/fakenewschallenge"
   ]
  },
  {
   "cell_type": "markdown",
   "metadata": {
    "slideshow": {
     "slide_type": "slide"
    }
   },
   "source": [
    "A striking fact: MLP performs nearly as good as more complex models.\n",
    "\n",
    "![alt text](pics_presentation/winners.png)\n",
    "\n",
    "(Source: https://medium.com/@andre134679/team-athene-on-the-fake-news-challenge-28a5cf5e017b)"
   ]
  },
  {
   "cell_type": "markdown",
   "metadata": {
    "slideshow": {
     "slide_type": "slide"
    }
   },
   "source": [
    "Architechture:\n",
    "![alt text](pics_presentation/uclmr_model.jpeg)\n",
    "(Source: https://github.com/uclmr/fakenewschallenge)"
   ]
  },
  {
   "cell_type": "markdown",
   "metadata": {
    "slideshow": {
     "slide_type": "slide"
    }
   },
   "source": [
    "Use \"train_amld\" in the final/fakenewschallenge_master"
   ]
  },
  {
   "cell_type": "code",
   "execution_count": 112,
   "metadata": {
    "slideshow": {
     "slide_type": "slide"
    }
   },
   "outputs": [],
   "source": [
    "# TO DO:\n",
    "# try out different architechtures than MLP to improve accuracy"
   ]
  }
 ],
 "metadata": {
  "celltoolbar": "Slideshow",
  "kernelspec": {
   "display_name": "Python [conda env:amld]",
   "language": "python",
   "name": "conda-env-amld-py"
  },
  "language_info": {
   "codemirror_mode": {
    "name": "ipython",
    "version": 3
   },
   "file_extension": ".py",
   "mimetype": "text/x-python",
   "name": "python",
   "nbconvert_exporter": "python",
   "pygments_lexer": "ipython3",
   "version": "3.6.4"
  }
 },
 "nbformat": 4,
 "nbformat_minor": 2
}
